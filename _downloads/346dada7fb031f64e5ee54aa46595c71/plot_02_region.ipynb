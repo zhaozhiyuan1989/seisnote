{
  "cells": [
    {
      "cell_type": "code",
      "execution_count": null,
      "metadata": {
        "collapsed": false
      },
      "outputs": [],
      "source": [
        "%matplotlib inline"
      ]
    },
    {
      "cell_type": "markdown",
      "metadata": {},
      "source": [
        "\n# \u8bbe\u7f6e\u7ed8\u56fe\u533a\u57df\n\n\u5229\u7528 PyGMT \u7ed8\u56fe\u65f6\u9700\u8981\u901a\u8fc7 ``region`` \u9009\u9879\u6765\u8bbe\u7f6e\u7ed8\u56fe\u533a\u57df\uff0c\u672c\u8282\u4ecb\u7ecd\n``region`` \u9009\u9879\u652f\u6301\u7684\u8f93\u5165\u683c\u5f0f\u3002\n\n<div class=\"alert alert-info\"><h4>Note</h4><p>\u53ef\u7ed3\u5408\u300a:doc:`gmtdoc:option/R`\u300b\u548c\u300a:doc:`gmtdoc:dataset/dcw/index`\u300b\u5b66\u4e60\u3002</p></div>\n"
      ]
    },
    {
      "cell_type": "code",
      "execution_count": null,
      "metadata": {
        "collapsed": false
      },
      "outputs": [],
      "source": [
        "import pygmt"
      ]
    },
    {
      "cell_type": "markdown",
      "metadata": {},
      "source": [
        "## \u5229\u7528\u7ecf\u7eac\u5ea6\u5750\u6807\u8bbe\u7f6e\u7ed8\u56fe\u533a\u57df\n\n``region`` \u9009\u9879\u4e3b\u8981\u652f\u6301\u4e24\u79cd\u7ecf\u7eac\u5ea6\u5750\u6807\u5f62\u5f0f\uff0c\u5206\u522b\u4e3a *xmin/xmax/ymin/ymax*\u3001\n*[xmin,xmax,ymin,ymax]* \u4ee5\u53ca *xlleft/ylleft/xuright/yuright+r* \u4e09\u79cd\u3002\n\n### *xmin/xmax/ymin/ymax*\n\n"
      ]
    },
    {
      "cell_type": "code",
      "execution_count": null,
      "metadata": {
        "collapsed": false
      },
      "outputs": [],
      "source": [
        "fig = pygmt.Figure()\nfig.coast(\n    # \u7ecf\u5ea6\u8303\u56f4 10E \u5230 20E\uff0c\u7eac\u5ea6\u8303\u56f4 35N \u5230 45N\n    region=\"10/20/35/45\",\n    # \u58a8\u5361\u6258\u6295\u5f71,\u56fe\u7247\u5bbd\u5ea6\u4e3a 15 \u5398\u7c73\n    projection=\"M15c\",\n    # \u8bbe\u7f6e\u9646\u5730\u989c\u8272\n    land=\"lightgray\",\n    # \u8bbe\u7f6e\u6c34\u4f53\u989c\u8272\n    water=\"white\",\n    # \u8bbe\u7f6e\u56fd\u754c\u6837\u5f0f\n    borders=\"1/0.5p\",\n    # \u8bbe\u7f6e\u6d77\u5cb8\u7ebf\u6837\u5f0f\n    shorelines=\"1/0.5p\",\n    # \u8bbe\u7f6e\u5e95\u56fe\u8fb9\u6846\u683c\u5f0f\n    frame=\"ag\",\n)\nfig.show()"
      ]
    },
    {
      "cell_type": "markdown",
      "metadata": {},
      "source": [
        "### *[xmin,xmax,ymin,ymax]*\n\n"
      ]
    },
    {
      "cell_type": "code",
      "execution_count": null,
      "metadata": {
        "collapsed": false
      },
      "outputs": [],
      "source": [
        "fig = pygmt.Figure()\nfig.coast(\n    # \u7ecf\u5ea6\u8303\u56f4 10E \u5230 20E\uff0c\u7eac\u5ea6\u8303\u56f4 35N \u5230 45N\n    region=[10, 20, 35, 45],\n    projection=\"M12c\",\n    land=\"lightgray\",\n    water=\"white\",\n    borders=\"1/0.5p\",\n    shorelines=\"1/0.5p\",\n    frame=\"ag\",\n)\nfig.show()"
      ]
    },
    {
      "cell_type": "markdown",
      "metadata": {},
      "source": [
        "### xlleft/ylleft/xuright/yuright+r\n\n"
      ]
    },
    {
      "cell_type": "code",
      "execution_count": null,
      "metadata": {
        "collapsed": false
      },
      "outputs": [],
      "source": [
        "fig = pygmt.Figure()\nfig.coast(\n    # \u8bbe\u7f6e\u5de6\u4e0b\u89d2\u5750\u6807\uff0810E, 35N\uff09\u548c\u53f3\u4e0a\u89d2\u5750\u6807\uff0820E, 45N\uff09\n    region=\"10/35/20/45+r\",\n    projection=\"M12c\",\n    land=\"lightgray\",\n    water=\"white\",\n    borders=\"1/0.5p\",\n    shorelines=\"1/0.5p\",\n    frame=\"ag\",\n)\nfig.show()"
      ]
    },
    {
      "cell_type": "markdown",
      "metadata": {},
      "source": [
        "## \u5168\u7403\u533a\u57df\n\n\u7ed8\u5236\u5168\u7403\u533a\u57df\u65f6\uff0c\u7ecf\u7eac\u5ea6\u5750\u6807\u53ef\u7b80\u5199\u4e3a **d** \u6216\u8005 **g**\u3002\n\u5176\u4e2d\uff0c **d** \u8868\u793a\u7ecf\u5ea6\u8303\u56f4 180W \u5230 180E\uff0c\u7eac\u5ea6\u8303\u56f4 90S \u5230 90N\uff0c\n\u4e2d\u5fc3\u70b9\u4e3a\uff080\uff0c0\uff09\uff0c**g** \u8868\u793a\u7ecf\u5ea6\u8303\u56f4 0E \u5230 360E\uff0c\u7eac\u5ea6\u8303\u56f4 90S \u5230 90N\uff0c\n\u4e2d\u5fc3\u70b9\u4e3a\uff08180\uff0c0\uff09\u3002\n\n### **d**\n\n"
      ]
    },
    {
      "cell_type": "code",
      "execution_count": null,
      "metadata": {
        "collapsed": false
      },
      "outputs": [],
      "source": [
        "fig = pygmt.Figure()\nfig.coast(\n    region=\"d\",\n    projection=\"Cyl_stere/12c\",\n    land=\"lightgray\",\n    water=\"white\",\n    borders=\"1/0.5p\",\n    shorelines=\"1/0.5p\",\n    frame=\"ag\",\n)\nfig.show()"
      ]
    },
    {
      "cell_type": "markdown",
      "metadata": {},
      "source": [
        "### **g**\n\n"
      ]
    },
    {
      "cell_type": "code",
      "execution_count": null,
      "metadata": {
        "collapsed": false
      },
      "outputs": [],
      "source": [
        "fig = pygmt.Figure()\nfig.coast(\n    region=\"g\",\n    projection=\"Cyl_stere/12c\",\n    land=\"lightgray\",\n    water=\"white\",\n    borders=\"1/0.5p\",\n    shorelines=\"1/0.5p\",\n    frame=\"ag\",\n)\nfig.show()"
      ]
    },
    {
      "cell_type": "markdown",
      "metadata": {},
      "source": [
        "## ISO \u4ee3\u7801\n\n``region`` \u9009\u9879\u652f\u6301 `ISO code <https://en.wikipedia.org/wiki/ISO_3166-1_alpha-2>`__ \u3002\n\n"
      ]
    },
    {
      "cell_type": "code",
      "execution_count": null,
      "metadata": {
        "collapsed": false
      },
      "outputs": [],
      "source": [
        "fig = pygmt.Figure()\nfig.coast(\n    # \u8bbe\u7f6e\u7ed8\u56fe\u533a\u57df\u4e3a Japan \n    region=\"JP\",\n    projection=\"M12c\",\n    land=\"lightgray\",\n    water=\"white\",\n    borders=\"1/0.5p\",\n    shorelines=\"1/0.5p\",\n    frame=\"ag\",\n)\nfig.show()"
      ]
    },
    {
      "cell_type": "markdown",
      "metadata": {},
      "source": [
        "### **+r**\\ *inc*\n\n"
      ]
    },
    {
      "cell_type": "code",
      "execution_count": null,
      "metadata": {
        "collapsed": false
      },
      "outputs": [],
      "source": [
        "fig = pygmt.Figure()\nfig.coast(\n    # \u6269\u5f20\u533a\u57df\u540e\u4f7f\u5f97\u8c03\u6574\u540e\u5404\u4e2a\u65b9\u5411\u7684\u8303\u56f4\u662f 3 \u7684\u500d\u6570\n    region=\"JP+r3\",\n    projection=\"M12c\",\n    land=\"lightgray\",\n    water=\"white\",\n    borders=\"1/0.5p\",\n    shorelines=\"1/0.5p\",\n    frame=\"ag\",\n)\nfig.show()"
      ]
    },
    {
      "cell_type": "markdown",
      "metadata": {},
      "source": [
        "### **+r**\\ *xinc/yinc*\n\n"
      ]
    },
    {
      "cell_type": "code",
      "execution_count": null,
      "metadata": {
        "collapsed": false
      },
      "outputs": [],
      "source": [
        "fig = pygmt.Figure()\nfig.coast(\n    # \u6269\u5f20\u533a\u57df\u540e\u4f7f\u5f97\u8c03\u6574\u540e\u7ecf\u5ea6\u8303\u56f4\u662f 3 \u7684\u500d\u6570\uff0c\u7eac\u5ea6\u8303\u56f4\u662f 5 \u7684\u500d\u6570\n    region=\"JP+r3/5\",\n    projection=\"M12c\",\n    land=\"lightgray\",\n    water=\"white\",\n    borders=\"1/0.5p\",\n    shorelines=\"1/0.5p\",\n    frame=\"ag\",\n)\nfig.show()"
      ]
    },
    {
      "cell_type": "markdown",
      "metadata": {},
      "source": [
        "### **+r**\\ *winc/einc/sinc/ninc*\n\n"
      ]
    },
    {
      "cell_type": "code",
      "execution_count": null,
      "metadata": {
        "collapsed": false
      },
      "outputs": [],
      "source": [
        "fig = pygmt.Figure()\nfig.coast(\n    # \u6269\u5f20\u533a\u57df\u540e\u4f7f\u5f97\u8c03\u6574\u540e\u5de6\u8fb9\u8303\u56f4\u662f 3 \u7684\u500d\u6570\uff0c\u53f3\u8fb9\u8303\u56f4\u662f 5 \u7684\u500d\u6570\uff0c\n    # \u4e0b\u8fb9\u8303\u56f4\u662f 7 \u7684\u500d\u6570\uff0c\u4e0a\u8fb9\u8303\u56f4\u662f 9 \u7684\u500d\u6570\n    region=\"JP+r3/5/7/9\",\n    projection=\"M12c\",\n    land=\"lightgray\",\n    water=\"white\",\n    borders=\"1/0.5p\",\n    shorelines=\"1/0.5p\",\n    frame=\"ag\",\n)\nfig.show()"
      ]
    },
    {
      "cell_type": "markdown",
      "metadata": {},
      "source": [
        "### **+R**\\ *inc*\n\n"
      ]
    },
    {
      "cell_type": "code",
      "execution_count": null,
      "metadata": {
        "collapsed": false
      },
      "outputs": [],
      "source": [
        "fig = pygmt.Figure()\nfig.coast(\n    # \u6269\u5f20\u533a\u57df\u4e3a 3 \u00b0\n    region=\"JP+R3\",\n    projection=\"M12c\",\n    land=\"lightgray\",\n    water=\"white\",\n    borders=\"1/0.5p\",\n    shorelines=\"1/0.5p\",\n    frame=\"ag\",\n)\nfig.show()"
      ]
    },
    {
      "cell_type": "markdown",
      "metadata": {},
      "source": [
        "### **+e**\\ *inc*\n\n"
      ]
    },
    {
      "cell_type": "code",
      "execution_count": null,
      "metadata": {
        "collapsed": false
      },
      "outputs": [],
      "source": [
        "fig = pygmt.Figure()\nfig.coast(\n    # \u4e0e +r \u7c7b\u4f3c\uff0c\u4f46\u5fc5\u987b\u4fdd\u8bc1\u81f3\u5c11\u5411\u5916\u6269\u5c55 0.25 \u500d\u7684 inc\n    region=\"JP+e3\",\n    projection=\"M12c\",\n    land=\"lightgray\",\n    water=\"white\",\n    borders=\"1/0.5p\",\n    shorelines=\"1/0.5p\",\n    frame=\"ag\",\n)\nfig.show()"
      ]
    }
  ],
  "metadata": {
    "kernelspec": {
      "display_name": "Python 3",
      "language": "python",
      "name": "python3"
    },
    "language_info": {
      "codemirror_mode": {
        "name": "ipython",
        "version": 3
      },
      "file_extension": ".py",
      "mimetype": "text/x-python",
      "name": "python",
      "nbconvert_exporter": "python",
      "pygments_lexer": "ipython3",
      "version": "3.8.0"
    }
  },
  "nbformat": 4,
  "nbformat_minor": 0
}