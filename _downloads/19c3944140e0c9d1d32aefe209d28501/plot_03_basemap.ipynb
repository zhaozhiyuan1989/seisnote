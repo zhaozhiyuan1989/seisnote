{
  "cells": [
    {
      "cell_type": "code",
      "execution_count": null,
      "metadata": {
        "collapsed": false
      },
      "outputs": [],
      "source": [
        "%matplotlib inline"
      ]
    },
    {
      "cell_type": "markdown",
      "metadata": {},
      "source": [
        "\n# \u7ed8\u5236\u5e95\u56fe\u8fb9\u6846\n\n\u5e95\u56fe\u7684\u8fb9\u6846\u3001\u6807\u7b7e\u3001\u523b\u5ea6\u7b49\u6837\u5f0f\u5747\u7531 :class:`pygmt.Figure` \u7c7b\u7684 ``frame`` \u9009\u9879\n\u63a7\u5236\u3002\n\n<div class=\"alert alert-info\"><h4>Note</h4><p>\u53ef\u7ed3\u5408\u300a:doc:`gmtdoc:tutorial/basemap`\u300b\n    \u548c\u300a:doc:`gmtdoc:module/basemap` \u6a21\u5757\u300b\u5b66\u4e60\u3002</p></div>\n"
      ]
    },
    {
      "cell_type": "code",
      "execution_count": null,
      "metadata": {
        "collapsed": false
      },
      "outputs": [],
      "source": [
        "import pygmt"
      ]
    },
    {
      "cell_type": "markdown",
      "metadata": {},
      "source": [
        "## \u7ed8\u5236\u5e95\u56fe\n\n\u9ed8\u8ba4\u60c5\u51b5\u4e0b\uff0cPyGMT \u4e0d\u4f1a\u5728\u7ed8\u56fe\u65f6\u81ea\u52a8\u6dfb\u52a0\u8fb9\u6846\u3002\n\u4f8b\u5982\uff0c\u4f7f\u7528\u58a8\u5361\u6258\u6295\u5f71\u6765\u7ed8\u5236\u4e16\u754c\u6d77\u5cb8\u7ebf\u65f6\uff1a\n\n"
      ]
    },
    {
      "cell_type": "code",
      "execution_count": null,
      "metadata": {
        "collapsed": false
      },
      "outputs": [],
      "source": [
        "fig = pygmt.Figure()\nfig.coast(shorelines=\"1/0.5p\", region=[-180, 180, -60, 60], projection=\"M16c\")\nfig.show()"
      ]
    },
    {
      "cell_type": "markdown",
      "metadata": {},
      "source": [
        "\u53ef\u4ee5\u901a\u8fc7 :meth:`pygmt.Figure.basemap` \u65b9\u6cd5\u7684 ``frame=\"f\"`` \u9009\u9879\u6dfb\u52a0\u9ed8\u8ba4\u8fb9\u6846\uff1a\n\n"
      ]
    },
    {
      "cell_type": "code",
      "execution_count": null,
      "metadata": {
        "collapsed": false
      },
      "outputs": [],
      "source": [
        "fig = pygmt.Figure()\nfig.coast(shorelines=\"1/0.5p\", region=[-180, 180, -60, 60], projection=\"M16c\")\nfig.basemap(frame=\"f\")\nfig.show()"
      ]
    },
    {
      "cell_type": "markdown",
      "metadata": {},
      "source": [
        "## \u523b\u5ea6\u7ebf\u548c\u7f51\u683c\u7ebf\n\n\u6dfb\u52a0 ``frame=True`` \u6216\u8005 ``frame=\"a\"`` \u9009\u9879\u540e PyGMT \u4f1a\u6839\u636e\u7ed8\u56fe\u533a\u8303\u56f4\n\u81ea\u52a8\u786e\u5b9a\u523b\u5ea6\u7ebf\u6807\u6ce8\u65b9\u5f0f\uff1a\n\n"
      ]
    },
    {
      "cell_type": "code",
      "execution_count": null,
      "metadata": {
        "collapsed": false
      },
      "outputs": [],
      "source": [
        "fig = pygmt.Figure()\nfig.coast(shorelines=\"1/0.5p\", region=[-180, 180, -60, 60], projection=\"M16c\")\nfig.basemap(frame=\"a\")\nfig.show()"
      ]
    },
    {
      "cell_type": "markdown",
      "metadata": {},
      "source": [
        "\u4fee\u6539 ``frame=\"ag\"`` \u540e\u53ef\u81ea\u52a8\u6dfb\u52a0\u7f51\u683c\u7ebf:\n\n"
      ]
    },
    {
      "cell_type": "code",
      "execution_count": null,
      "metadata": {
        "collapsed": false
      },
      "outputs": [],
      "source": [
        "fig = pygmt.Figure()\nfig.coast(shorelines=\"1/0.5p\", region=[-180, 180, -60, 60], projection=\"M16c\")\nfig.basemap(frame=\"ag\")\nfig.show()"
      ]
    },
    {
      "cell_type": "markdown",
      "metadata": {},
      "source": [
        "## \u6807\u9898\n\n\u53ef\u4ee5\u901a\u8fc7\u628a **+t**\\ *title* \u4f20\u9012\u7ed9 ``frame`` \u9009\u9879\u6765\n\u8bbe\u7f6e\u56fe\u7247\u6807\u9898\u3002\u5982\u4e0b\u6240\u793a\uff0c\u53ef\u4ee5\u4f7f\u7528\u5217\u8868\u5c06\u591a\u4e2a\u53c2\u6570\u540c\u65f6\u4f20\u9012\u7ed9 ``frame`` \u9009\u9879\uff1a\n\n"
      ]
    },
    {
      "cell_type": "code",
      "execution_count": null,
      "metadata": {
        "collapsed": false
      },
      "outputs": [],
      "source": [
        "fig = pygmt.Figure()\n# \u4f7f\u7528 region=\"IS\" \u7ed8\u5236 Iceland \u533a\u57df \uff08ISO country code\uff09\nfig.coast(shorelines=\"1/0.5p\", region=\"IS\", projection=\"M16c\")\nfig.basemap(frame=[\"a\", \"+tIceland\"])\nfig.show()"
      ]
    },
    {
      "cell_type": "markdown",
      "metadata": {},
      "source": [
        "\u5f53\u6807\u9898\u5185\u5bb9\u5b58\u5728\u7a7a\u683c\u65f6\uff0c\u53ef\u4ee5\u91c7\u7528\u5355\u3001\u53cc\u5f15\u53f7\u76f8\u7ed3\u5408\u7684\u65b9\u5f0f\u4f20\u9012\u53c2\u6570\uff0c\u5982\u4e0b\u6240\u793a\uff1a\n\n"
      ]
    },
    {
      "cell_type": "code",
      "execution_count": null,
      "metadata": {
        "collapsed": false
      },
      "outputs": [],
      "source": [
        "fig = pygmt.Figure()\n# \u4f7f\u7528 region=\"TT\" \u6307\u5b9a Trinidad \u548c Tobago \u533a\u57df\nfig.coast(shorelines=\"1/0.5p\", region=\"TT\", projection=\"M16c\")\nfig.basemap(frame=[\"a\", '+t\"Trinidad and Tobago\"'])\nfig.show()"
      ]
    },
    {
      "cell_type": "markdown",
      "metadata": {},
      "source": [
        "## \u8f74\u6807\u7b7e\n\n\u5750\u6807\u8f74\u7684 **X** \u8f74\u6807\u7b7e\u7531 **x+l**\\ *label* \u63a7\u5236\uff0c**Y** \u8f74\u6807\u7b7e\u7531 **y+l**\\ *label* \u63a7\u5236\u3002\n\u5982\u679c\u8f74\u540d\u79f0\u5927\u5199\uff0c\u5219\u540c\u65f6\u7ed8\u5236\u8be5\u8f74\u7684\u523b\u5ea6\u7ebf\u548c\u6807\u7b7e\uff0c\u53cd\u4e4b\uff0c\u5f53\u8f74\u540d\u79f0\u5c0f\u5199\u65f6\uff0c\u4ec5\u7ed8\u5236\u8f74\u548c\u523b\u5ea6\u7ebf\u3002\n\n**GMT \u4e0d\u80fd\u4e3a\u5730\u7406\u6295\u5f71\u8bbe\u7f6e\u8f74\u6807\u7b7e\uff01**\n\n"
      ]
    },
    {
      "cell_type": "code",
      "execution_count": null,
      "metadata": {
        "collapsed": false
      },
      "outputs": [],
      "source": [
        "fig = pygmt.Figure()\nfig.basemap(\n    region=[0, 10, 0, 20],\n    projection=\"X6c/8c\",\n    frame=[\"WSne\", \"xa+lx-axis\", \"yf+ly-axis\"],\n)\nfig.show()"
      ]
    }
  ],
  "metadata": {
    "kernelspec": {
      "display_name": "Python 3",
      "language": "python",
      "name": "python3"
    },
    "language_info": {
      "codemirror_mode": {
        "name": "ipython",
        "version": 3
      },
      "file_extension": ".py",
      "mimetype": "text/x-python",
      "name": "python",
      "nbconvert_exporter": "python",
      "pygments_lexer": "ipython3",
      "version": "3.8.0"
    }
  },
  "nbformat": 4,
  "nbformat_minor": 0
}