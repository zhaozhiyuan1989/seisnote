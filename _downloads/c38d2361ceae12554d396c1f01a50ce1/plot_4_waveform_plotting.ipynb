{
  "cells": [
    {
      "cell_type": "code",
      "execution_count": null,
      "metadata": {
        "collapsed": false
      },
      "outputs": [],
      "source": [
        "%matplotlib inline"
      ]
    },
    {
      "cell_type": "markdown",
      "metadata": {},
      "source": [
        "\n# \u6ce2\u5f62\u7ed8\u5236\n\n\u672c\u8282\u4e3b\u8981\u4ecb\u7ecd\u5982\u4f55\u5229\u7528 :class:`Stream <obspy.core.stream.Stream>` \u7684\n:meth:`plot() <obspy.core.stream.Stream.plot>` \u65b9\u6cd5\u7ed8\u5236\u5730\u9707\u6ce2\u5f62\u3002\n"
      ]
    },
    {
      "cell_type": "code",
      "execution_count": null,
      "metadata": {
        "collapsed": false
      },
      "outputs": [],
      "source": [
        "from obspy import read"
      ]
    },
    {
      "cell_type": "markdown",
      "metadata": {},
      "source": [
        "## \u7ed8\u5236\u5355\u5206\u91cf\u6ce2\u5f62\n\n\u4ece\u670d\u52a1\u5668\u8bfb\u53d6\u5355\u5206\u91cf\u6ce2\u5f62\u6570\u636e\uff1a\n\n"
      ]
    },
    {
      "cell_type": "code",
      "execution_count": null,
      "metadata": {
        "collapsed": false
      },
      "outputs": [],
      "source": [
        "singlechannel = read('https://examples.obspy.org/COP.BHZ.DK.2009.050')  \n\n# \u7ed8\u5236\u5355\u5206\u91cf\u6ce2\u5f62\u6570\u636e\uff0c\u9ed8\u8ba4\u5927\u5c0f\u4e3a 800x250\n# \u6dfb\u52a0 outfile \u53c2\u6570\u540e\u56fe\u7247\u4fdd\u5b58\u5230\u672c\u5730\nsinglechannel.plot(outfile='singlechannel.pdf')"
      ]
    },
    {
      "cell_type": "markdown",
      "metadata": {},
      "source": [
        "## \u7ed8\u5236\u4e09\u5206\u91cf\u6ce2\u5f62\n\n\u5206\u522b\u8bfb\u53d6\u4e09\u5206\u91cf\u6ce2\u5f62\u6570\u636e\u5e76\u53e0\u52a0\uff1a\n\n"
      ]
    },
    {
      "cell_type": "code",
      "execution_count": null,
      "metadata": {
        "collapsed": false
      },
      "outputs": [],
      "source": [
        "threechannels = read('https://examples.obspy.org/COP.BHE.DK.2009.050')\nthreechannels += read('https://examples.obspy.org/COP.BHN.DK.2009.050')\nthreechannels += read('https://examples.obspy.org/COP.BHZ.DK.2009.050') \n\n# \u811a\u672c\u81ea\u52a8\u6267\u884c\u540e\u4e0d\u663e\u793a\u56fe\u7247\uff0c\u5f15\u5165 matplotlib \u6a21\u5757\u663e\u793a\u56fe\u50cf\nimport matplotlib.pyplot as plt\nfig = plt.figure()\nthreechannels.plot(show=False, fig=fig)  # \u7ed8\u5236\u591a\u5206\u91cf\u6ce2\u5f62\u6570\u636e\uff0c\u5927\u5c0f\u4e3a 800x400\nplt.show()"
      ]
    },
    {
      "cell_type": "markdown",
      "metadata": {},
      "source": [
        "## \u81ea\u5b9a\u4e49\u7ed8\u56fe\n\u81ea\u5b9a\u4e49\u7ed8\u56fe\uff0c\u66f4\u591a\u9009\u9879\u53c2\u8003 :meth:`plot() <obspy.core.stream.Stream.plot>` \u65b9\u6cd5\uff1a\n\n"
      ]
    },
    {
      "cell_type": "code",
      "execution_count": null,
      "metadata": {
        "collapsed": false
      },
      "outputs": [],
      "source": [
        "fig = plt.figure()\ndt = singlechannel[0].stats.starttime\nsinglechannel.plot(color='red', number_of_ticks=5,\n                    tick_rotation=15, tick_format='%I:%M %p',\n                    starttime=dt + 60*60, endtime=dt + 60*60 + 120, show=False, fig=fig)\nplt.show()"
      ]
    },
    {
      "cell_type": "markdown",
      "metadata": {},
      "source": [
        "## \u7ed8\u5236 ``dayplot`` \u56fe\n\n\u7ed8\u5236 ``dayplot`` \u56fe\uff0c\u53c2\u6570\u542b\u4e49\u53c2\u8003 :meth:`plot() <obspy.core.stream.Stream.plot>` \u65b9\u6cd5\uff1a\n\n"
      ]
    },
    {
      "cell_type": "code",
      "execution_count": null,
      "metadata": {
        "collapsed": false
      },
      "outputs": [],
      "source": [
        "fig = plt.figure()\nsinglechannel.plot(type='dayplot', interval=20, show=False, fig=fig) \nplt.show()"
      ]
    },
    {
      "cell_type": "markdown",
      "metadata": {},
      "source": [
        "\u5c06\u5730\u9707\u4fe1\u606f\u6dfb\u52a0\u5230 ``dayplot`` \u4e2d\uff1a\n\n"
      ]
    },
    {
      "cell_type": "code",
      "execution_count": null,
      "metadata": {
        "collapsed": false
      },
      "outputs": [],
      "source": [
        "fig = plt.figure()\nst = read(\"https://examples.obspy.org/GR.BFO..LHZ.2012.108\")\nst.filter(\"lowpass\", freq=0.1, corners=2)  # \u4f4e\u901a\u6ee4\u6ce2\nst.plot(type=\"dayplot\", interval=60, right_vertical_labels=True,\n            vertical_scaling_range=2e4, one_tick_per_line=True,  # \u632f\u5e45\u7f29\u653e\u6bd4\u4f8b 2e4, Y \u8f74\u6bcf\u4e2a\u523b\u5ea6\u90fd\u6807\u4e0a\u65f6\u95f4\n            color=['k', 'r', 'b', 'g'], show_y_UTC_label=False,\n            events={'min_magnitude': 6.5}, show=False, fig=fig)  # \u6807\u4e0a 6.5\u7ea7 \u4ee5\u4e0a\u5730\u9707\nplt.show()"
      ]
    },
    {
      "cell_type": "markdown",
      "metadata": {},
      "source": [
        "## \u7ed8\u5236 ``section`` \u56fe\n\n"
      ]
    },
    {
      "cell_type": "code",
      "execution_count": null,
      "metadata": {
        "collapsed": false
      },
      "outputs": [],
      "source": [
        "import matplotlib.pyplot as plt\nfrom matplotlib.transforms import blended_transform_factory\nfrom obspy import read, Stream\nfrom obspy.geodetics import gps2dist_azimuth\n\nhost = 'https://examples.obspy.org/'\n# \u6587\u4ef6\u683c\u5f0f\uff1a SAC\nfiles = ['TOK.2011.328.21.10.54.OKR01.HHN.inv',\n         'TOK.2011.328.21.10.54.OKR02.HHN.inv',\n         'TOK.2011.328.21.10.54.OKR03.HHN.inv',\n         'TOK.2011.328.21.10.54.OKR04.HHN.inv',\n         'TOK.2011.328.21.10.54.OKR05.HHN.inv',\n         'TOK.2011.328.21.10.54.OKR06.HHN.inv',\n         'TOK.2011.328.21.10.54.OKR07.HHN.inv',\n         'TOK.2011.328.21.10.54.OKR08.HHN.inv',\n         'TOK.2011.328.21.10.54.OKR09.HHN.inv',\n         'TOK.2011.328.21.10.54.OKR10.HHN.inv']\n# \u9707\u6e90\neq_lat = 35.565\neq_lon = -96.792\n\n# \u4ece\u670d\u52a1\u5668\u8bfb\u53d6\u6ce2\u5f62\u6570\u636e\nst = Stream()\nfor waveform in files:\n    st += read(host + waveform)\n\n# \u8bfb\u53d6\u5934\u6bb5\u53d8\u91cf\u4e2d\u7684\u7ecf\u7eac\u5ea6\u4fe1\u606f\u8ba1\u7b97\u9707\u4e2d\u8ddd\uff0c\u5355\u4f4d\u4e3a \u7c73\nfor tr in st:\n    tr.stats.distance = gps2dist_azimuth(tr.stats.sac.stla, tr.stats.sac.stlo,\n                                         eq_lat, eq_lon)[0]\n    # \u8bbe\u7f6e\u53f0\u7f51\u540d\u7528\u4e8e\u56fe\u7247\u6807\u9898\n    tr.stats.network = 'TOK'\n\nst.filter('bandpass', freqmin=0.1, freqmax=10)\n\nfig = plt.figure(figsize=(12, 4))\nst.plot(type='section', plot_dx=20e3, recordlength=100,  # x \u8f74\u95f4\u8ddd\u4e3a 20km\uff0cy \u8f74\u957f\u5ea6\u4e3a 100s\n        time_down=True, linewidth=.25, grid_linewidth=.25, show=False, fig=fig)  # \u540e\u9762\u8fd8\u8981\u6dfb\u52a0\u4fe1\u606f\u65f6\uff0c\u5fc5\u987b\u5e26\u4e0a\u540e\u4e24\u9879\n\n# \u6dfb\u52a0\u53f0\u7ad9\u540d\nax = fig.axes[0]\ntransform = blended_transform_factory(ax.transData, ax.transAxes)\nfor tr in st:\n    ax.text(tr.stats.distance / 1e3, 1.0, tr.stats.station, rotation=270,\n            va=\"bottom\", ha=\"center\", transform=transform, zorder=10)\nplt.show()"
      ]
    },
    {
      "cell_type": "markdown",
      "metadata": {},
      "source": [
        "## \u5229\u7528 ``matplotlib`` \u81ea\u5b9a\u4e49\u7ed8\u56fe\n\n"
      ]
    },
    {
      "cell_type": "code",
      "execution_count": null,
      "metadata": {
        "collapsed": false
      },
      "outputs": [],
      "source": [
        "import matplotlib.pyplot as plt\nfrom obspy import read\nst = read()\ntr = st[0]\nfig = plt.figure(figsize=(12,3))\nax = fig.add_subplot(1, 1, 1)\nax.plot(tr.times(\"matplotlib\"), tr.data, \"b-\")\nax.xaxis_date()\nfig.autofmt_xdate()\nplt.show()"
      ]
    },
    {
      "cell_type": "markdown",
      "metadata": {},
      "source": [
        "\u5220\u9664\u4e34\u65f6\u6587\u4ef6\n\n"
      ]
    },
    {
      "cell_type": "code",
      "execution_count": null,
      "metadata": {
        "collapsed": false
      },
      "outputs": [],
      "source": [
        "import os\nos.remove(\"singlechannel.pdf\")"
      ]
    }
  ],
  "metadata": {
    "kernelspec": {
      "display_name": "Python 3",
      "language": "python",
      "name": "python3"
    },
    "language_info": {
      "codemirror_mode": {
        "name": "ipython",
        "version": 3
      },
      "file_extension": ".py",
      "mimetype": "text/x-python",
      "name": "python",
      "nbconvert_exporter": "python",
      "pygments_lexer": "ipython3",
      "version": "3.8.0"
    }
  },
  "nbformat": 4,
  "nbformat_minor": 0
}