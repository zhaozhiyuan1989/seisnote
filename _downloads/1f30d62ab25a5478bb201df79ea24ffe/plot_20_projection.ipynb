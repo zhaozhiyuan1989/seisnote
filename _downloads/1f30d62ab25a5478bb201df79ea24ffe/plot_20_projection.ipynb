{
  "cells": [
    {
      "cell_type": "code",
      "execution_count": null,
      "metadata": {
        "collapsed": false
      },
      "outputs": [],
      "source": [
        "%matplotlib inline"
      ]
    },
    {
      "cell_type": "markdown",
      "metadata": {},
      "source": [
        "\n# \u6295\u5f71\u65b9\u5f0f\n\nPyGMT \u652f\u6301\u591a\u79cd\u6295\u5f71\u65b9\u5f0f\uff0c\u7ed8\u56fe\u65f6\u4f7f\u7528 ``projection`` \u53c2\u6570\u53ef\u4ee5\u6307\u5b9a\u6295\u5f71\u65b9\u5f0f\u3002\n\n<div class=\"alert alert-info\"><h4>Note</h4><p>\u53ef\u7ed3\u5408\u300a:doc:`gmtdoc:proj/index` \u300b\u548c\u300a:doc:`gmtdoc:option/B`\u300b\u5b66\u4e60\u3002</p></div>\n"
      ]
    },
    {
      "cell_type": "markdown",
      "metadata": {},
      "source": [
        "\u5728\u5f00\u59cb\u4e4b\u524d\u5148\u7528 :func:`numpy.arange` \u751f\u6210\u793a\u4f8b\u6570\u636e\u4f9b\u4e0b\u6587\u4f7f\u7528\uff1a\n\n"
      ]
    },
    {
      "cell_type": "code",
      "execution_count": null,
      "metadata": {
        "collapsed": false
      },
      "outputs": [],
      "source": [
        "import numpy as np\nimport pygmt\n\nxline = np.arange(0, 101)    # \u521b\u5efa\u4ece 0-100\uff08\u6b65\u957f\u4e3a 1\uff09 \u7684 xline \u5217\u8868\nyline = xline ** 0.5        # \u5c06 xline \u5217\u8868\u4e2d\u7684\u503c\u5f00\u65b9\u540e\u8d4b\u4e88 yline \u5217\u8868\n\nxpoints = np.arange(0, 101, 10)   # \u521b\u5efa\u4ece 0-100\uff08\u6b65\u957f\u4e3a 10\uff09 \u7684 xpoints \u5217\u8868\nypoints = xpoints ** 0.5    # \u5c06 xpoints \u5217\u8868\u4e2d\u7684\u503c\u5f00\u65b9\u540e\u8d4b\u4e88 ypoints \u5217\u8868"
      ]
    },
    {
      "cell_type": "markdown",
      "metadata": {},
      "source": [
        "## **-JX:** \u7b1b\u5361\u5c14\u7ebf\u6027\u6295\u5f71\n\n"
      ]
    },
    {
      "cell_type": "code",
      "execution_count": null,
      "metadata": {
        "collapsed": false
      },
      "outputs": [],
      "source": [
        "fig = pygmt.Figure()\n# \u7ed8\u5236\u7ebf\nfig.plot(\n    region=[1, 100, 0, 10],    # \u8bbe\u7f6e\u7ed8\u56fe\u533a\u57df\n    projection=\"X15c/10c\",     # \u8bbe\u7f6e\u6295\u5f71\u65b9\u5f0f\u4e3a\u7b1b\u5361\u5c14\u7ebf\u6027\u6295\u5f71\n    frame=[\"WSne\", \"ag\"],   # \u8bbe\u7f6e\u5e95\u56fe\u8fb9\u6846\n    x=xline,\n    y=yline,\n    pen=\"1p,blue,-\",     # \u8bbe\u7f6e\u7ebf\u578b\n)\n# \u7ed8\u5236\u70b9\uff0c\u8d85\u51fa\u8303\u56f4\u7684\u70b9\u4e5f\u7ed8\u5236\nfig.plot(x=xpoints, y=ypoints, style=\"c0.3c\", color=\"red\", no_clip=True, pen=\"black\")\nfig.show()"
      ]
    },
    {
      "cell_type": "markdown",
      "metadata": {},
      "source": [
        "## **-JX:** \u7b1b\u5361\u5c14\u5bf9\u6570\u6295\u5f71\n\n"
      ]
    },
    {
      "cell_type": "code",
      "execution_count": null,
      "metadata": {
        "collapsed": false
      },
      "outputs": [],
      "source": [
        "fig = pygmt.Figure()\nfig.plot(\n    region=[1, 100, 0, 10],\n    projection=\"X15cl/10c\",   # \u8bbe\u7f6e\u6295\u5f71\u65b9\u5f0f\u4e3a\u7b1b\u5361\u5c14\u5bf9\u6570\u6295\u5f71\uff08l\uff09\n    frame=[\"WSne+gbisque\", \"xa1f2g3p\", \"ya2f1g2\"],    # \u8bbe\u7f6e\u8fb9\u6846\u6807\u7b7e\u663e\u793a\u4e3a 10 \u7684 n \u6b21\u65b9\u5f62\u5f0f\uff08p\uff09\n    x=xline,\n    y=yline,\n    pen=\"1p,blue,-\",\n)\nfig.plot(x=xpoints, y=ypoints, style=\"s0.3c\", color=\"green\", no_clip=True, pen=\"black\")\nfig.show()"
      ]
    },
    {
      "cell_type": "markdown",
      "metadata": {},
      "source": [
        "## **-JX:** \u7b1b\u5361\u5c14\u6307\u6570\u6295\u5f71\n\n"
      ]
    },
    {
      "cell_type": "code",
      "execution_count": null,
      "metadata": {
        "collapsed": false
      },
      "outputs": [],
      "source": [
        "fig = pygmt.Figure()\nfig.plot(\n    region=[1, 100, 0, 10],\n    projection=\"X15cp0.5/10c\",   # \u8bbe\u7f6e\u6295\u5f71\u65b9\u5f0f\u4e3a\u7b1b\u5361\u6307\u6570\u6295\u5f71\uff0cx \u8f74\u663e\u793a\u5f00\u65b9\u540e\u7684\u6807\u6ce8\uff08p0.5\uff09\n    frame=[\"WSne+givory\", \"xa1g1p\", \"ya2f1g2\"],    # \u8bbe\u7f6e\u6807\u6ce8\u6309\u7167\u8f6c\u6362\u540e\u7684\u503c\u7b49\u95f4\u9694\u51fa\u73b0(p)\n    x=xline,\n    y=yline,\n    pen=\"1p,blue,-\",\n)\n# \u4e0d\u663e\u793a\u8d85\u51fa\u8303\u56f4\u7684\u70b9\nfig.plot(x=xpoints, y=ypoints, style=\"t0.3c\", color=\"purple\", no_clip=False, pen=\"black\")\nfig.show()"
      ]
    },
    {
      "cell_type": "markdown",
      "metadata": {},
      "source": [
        "## **-JP:** \u6781\u5750\u6807\u7ebf\u6027\u6295\u5f71\n\n"
      ]
    },
    {
      "cell_type": "code",
      "execution_count": null,
      "metadata": {
        "collapsed": false
      },
      "outputs": [],
      "source": [
        "fig = pygmt.Figure()\n\n# \u914d\u7f6e\u53c2\u6570\npygmt.config(FORMAT_GEO_MAP=\"+D\")\npygmt.config(FONT_TITLE=\"14p,1,red\")\n\n# \u79fb\u52a8\u539f\u70b9\u3002\u7ed8\u5236\u7b2c\u4e00\u5f20\u56fe\nfig.shift_origin(yshift=\"10c\")\n# \u7ed8\u5236\u6781\u5750\u6807\u6570\u636e\uff0c\u9ed8\u8ba4\u4e3a \u89d2\u5ea6 \u548c \u534a\u5f84\uff0c\u9ed8\u8ba4\u60c5\u51b5\u4e0b\uff0c\u89d2\u5ea6\u662f\u6307\u76f8\u5f53\u4e8e\u4e1c\u65b9\u5411\u9006\u65f6\u9488\u65cb\u8f6c\u7684\u89d2\u5ea6\nfig.basemap(region=\"0/360/0/1\", projection=\"P5c\", frame=['+t\"-JP5c -R0/360/0/1\"', \"xa45f\"])\n\nfig.shift_origin(xshift=\"8c\")\n# \u52a0\u4e0a +a \u5219\u8868\u660e\u8f93\u5165\u6570\u636e\u662f\u76f8\u5bf9\u4e8e\u5317\u65b9\u5411\u987a\u65f6\u9488\u65cb\u8f6c\u7684\u89d2\u5ea6\uff08\u5730\u7406\u5b66\u4e2d\u7684\u65b9\u4f4d\u89d2\uff09\nfig.basemap(region=\"0/360/0/1\", projection=\"P5c+a\", frame=['+t\"-JP5c+a -R0/90/0/1\"', \"xa45f\", \"ya0.2\"])\n\nfig.shift_origin(xshift=\"8c\")\nfig.basemap(region=\"0/90/0/1\", projection=\"P5c+a\", frame=['WNe+t\"-JP5c+a -R0/90/0/1\"', \"xa45f\", \"ya0.2\"])\n\nfig.shift_origin(xshift=\"-16c\", yshift=\"-6.5c\")\n# +t \u8bbe\u7f6e\u4e1c\u65b9\u5411\u5bf9\u5e94\u7684\u89d2\u5ea6\uff0c\u76f8\u5f53\u4e8e\u5bf9\u6574\u4e2a\u5750\u6807\u8f74\u505a\u987a\u65f6\u9488\u65cb\u8f6c\uff1b\u82e5\u4f7f\u7528\u4e86 +a \u9009\u9879\uff0c\u5219\u8bbe\u7f6e\u5317\u65b9\u5411\u5bf9\u5e94\u7684\u89d2\u5ea6\uff0c\u76f8\u5f53\u4e8e\u5c06\u6574\u4e2a\u5750\u6807\u8f74\u9006\u65f6\u9488\u65cb\u8f6c\u3002\nfig.basemap(region=\"0/90/0/1\", projection=\"P5c+a+t45\", frame=['WNse+t\"-JP5c+a+t45 -R0/90/0/1\"', \"xa45f\", \"ya0.2\"])\n\nfig.shift_origin(xshift=\"8c\", yshift=\"1c\")\nfig.basemap(region=\"0/90/3480/6371\", projection=\"P5c+a+t45\", frame=['WNse+t\"-JP5c+a+t45 -R0/90/3480/6371\"', \"xa45f\", \"ya\"])\n\nfig.shift_origin(xshift=\"8c\")\n# +z \u8868\u793a\u5c06 r \u8f74\u6807\u8bb0\u4e3a\u6df1\u5ea6\u800c\u4e0d\u662f\u534a\u5f84\nfig.basemap(region=\"0/90/3480/6371\", projection=\"P5c+a+t45+z\", frame=['WNse+t\"-JP5c+a+t45+z -R0/90/3480/6371\"', \"xa45f\", \"ya\"])\n\nfig.show()"
      ]
    },
    {
      "cell_type": "markdown",
      "metadata": {},
      "source": [
        "## **-JE:** \u65b9\u4f4d\u7b49\u8ddd\u6295\u5f71\n\u65b9\u4f4d\u6295\u5f71\u6700\u663e\u8457\u7684\u7279\u5f81\u662f\u5728\u56fe\u4e0a\u6d4b\u91cf\u7684\u4ece\u4e2d\u5fc3\u5230\u4efb\u610f\u4e00\u70b9\u7684\u8ddd\u79bb\u662f\u771f\u5b9e\u7684\u3002\n\u56e0\u800c\uff0c\u5730\u56fe\u4e0a\u4ee5\u6295\u5f71\u4e2d\u5fc3\u4e3a\u5706\u5fc3\u7684\u5706\u5728\u771f\u5b9e\u5730\u7403\u4e0a\u4e0e\u6295\u5f71\u4e2d\u5fc3\u662f\u7b49\u8ddd\u79bb\u7684\u3002\n\u540c\u65f6\uff0c\u4ece\u4e2d\u5fc3\u51fa\u53d1\u7684\u4efb\u610f\u65b9\u5411\u4e5f\u662f\u771f\u5b9e\u7684\u3002\n\n\u8be5\u6295\u5f71\u5e38\u7528\u4e8e\u5c55\u793a\u591a\u4e2a\u5730\u7406\u4f4d\u7f6e\u4e0e\u6307\u5b9a\u70b9\u7684\u8ddd\u79bb\u56fe\u3002\n\n"
      ]
    },
    {
      "cell_type": "code",
      "execution_count": null,
      "metadata": {
        "collapsed": false
      },
      "outputs": [],
      "source": [
        "fig = pygmt.Figure()\nfig.coast(projection=\"E-100/40/15c\", region=\"g\", frame=\"g\", land=\"gray\")\nfig.show()"
      ]
    },
    {
      "cell_type": "markdown",
      "metadata": {},
      "source": [
        "## **-JG:** \u6b63\u4ea4\u6295\u5f71\n\u6b63\u4ea4\u65b9\u4f4d\u6295\u5f71\u662f\u4e00\u79cd\u4ece\u65e0\u7a77\u8fdc\u8ddd\u79bb\u5904\u7684\u900f\u89c6\u6295\u5f71\uff0c\u56e0\u800c\u5e38\u7528\u4e8e\u7ed8\u5236\u4ece\u5916\u592a\u7a7a\u770b\u5730\u7403\u3002\n\u4e0e Lambert \u7b49\u9762\u79ef\u6295\u5f71\u4ee5\u53ca\u7acb\u4f53\u6295\u5f71\u7c7b\u4f3c\uff0c\u4e00\u6b21\u53ea\u80fd\u770b\u5230\u4e00\u4e2a\u534a\u7403\u3002\n\n\u8be5\u6295\u5f71\u65e2\u4e0d\u662f\u7b49\u9762\u79ef\u4e5f\u4e0d\u662f\u4fdd\u89d2\uff0c\u5728\u534a\u7403\u8fb9\u754c\u5904\u6709\u8f83\u5927\u5f97\u7578\u53d8\u3002\u4ece\u6295\u5f71\u4e2d\u5fc3\u51fa\u53d1\u7684\u4efb\u610f\u65b9\u5411\u662f\u771f\u5b9e\u7684\u3002\n\n"
      ]
    },
    {
      "cell_type": "code",
      "execution_count": null,
      "metadata": {
        "collapsed": false
      },
      "outputs": [],
      "source": [
        "fig = pygmt.Figure()\nfig.coast(projection=\"G10/52/12c\", region=\"g\", frame=\"g\", land=\"gray\")\nfig.show()"
      ]
    },
    {
      "cell_type": "markdown",
      "metadata": {},
      "source": [
        "\u52a0\u4e0a\u66f4\u591a\u7684\u53c2\u6570\u65f6\u8fd8\u53ef\u4ee5\u7528\u4e8e\u7ed8\u5236\u900f\u89c6\u6295\u5f71\uff0c\u4ee5\u5728\u4e8c\u7ef4\u5e73\u9762\u5185\u6a21\u62df\u4ece\u592a\u7a7a\u770b\u4e09\u7ef4\u7684\u5730\u7403\u3002\n\n"
      ]
    },
    {
      "cell_type": "code",
      "execution_count": null,
      "metadata": {
        "collapsed": false
      },
      "outputs": [],
      "source": [
        "fig = pygmt.Figure()\nfig.coast(\n    projection=\"G4/52/250/30/45/0/60/60/12c\",\n    region=\"g\",\n    frame=[\"x10g10\", \"y5g5\"],\n    land=\"gray\",\n)\nfig.show()"
      ]
    },
    {
      "cell_type": "markdown",
      "metadata": {},
      "source": [
        "## **-JS:** \u7acb\u4f53\u7b49\u89d2\u6295\u5f71\n\u6b64\u6295\u5f71\u662f\u4fdd\u89d2\u65b9\u4f4d\u6295\u5f71\uff0c\u4e3b\u8981\u7528\u4e8e\u7ed8\u5236\u5357\u5317\u6781\u533a\u57df\u3002\u5728\u4e24\u6781\uff0c\u6240\u6709\u7ecf\u7ebf\u90fd\u662f\u76f4\u7ebf\uff0c\u7eac\u7ebf\u5219\u662f\u5706\u5f27\u3002\n\n"
      ]
    },
    {
      "cell_type": "code",
      "execution_count": null,
      "metadata": {
        "collapsed": false
      },
      "outputs": [],
      "source": [
        "fig = pygmt.Figure()\nfig.coast(region=[4, 14, 52, 57], projection=\"S0/90/12c\", frame=\"ag\", land=\"gray\")\nfig.show()"
      ]
    },
    {
      "cell_type": "markdown",
      "metadata": {},
      "source": [
        "## **-JF:** \u7403\u5fc3\u65b9\u4f4d\u6295\u5f71\n\u6b64\u6295\u5f71\u662f\u4e00\u4e2a\u4ece\u4e2d\u5fc3\u6295\u5f71\u5230\u4e0e\u8868\u9762\u76f8\u5207\u7684\u4e00\u4e2a\u5e73\u9762\u7684\u900f\u89c6\u6295\u5f71\u3002\n\u6b64\u6295\u5f71\u65e2\u4e0d\u7b49\u9762\u79ef\u4e5f\u4e0d\u4fdd\u89d2\uff0c\u4e14\u5728\u534a\u7403\u7684\u8fb9\u754c\u5904\u6709\u5f88\u5927\u7578\u53d8\u3002\n\u4e8b\u5b9e\u4e0a\uff0c\u5bf9\u4e8e\u6307\u5b9a\u7684\u4e2d\u5fc3\u800c\u8a00\uff0c\u53ea\u80fd\u7ed8\u5236\u4e0d\u8d85\u8fc7\u534a\u7403\u7684\u533a\u57df\u3002\n\u4f46\u4ece\u6295\u5f71\u4e2d\u5fc3\u51fa\u53d1\u7684\u65b9\u5411\u662f\u771f\u5b9e\u7684\u3002\u5927\u5706\u5f27\u4f1a\u88ab\u6295\u5f71\u6210\u76f4\u7ebf\u3002\n\n"
      ]
    },
    {
      "cell_type": "code",
      "execution_count": null,
      "metadata": {
        "collapsed": false
      },
      "outputs": [],
      "source": [
        "fig = pygmt.Figure()\nfig.coast(projection=\"F-90/15/12c\", region=\"g\", frame=\"20g20\", land=\"gray\")\nfig.show()"
      ]
    },
    {
      "cell_type": "markdown",
      "metadata": {},
      "source": [
        "## **-JA:** \u7403\u5fc3\u65b9\u4f4d\u6295\u5f71\n\u901a\u5e38\u7528\u4e8e\u7ed8\u5236\u5927\u533a\u57df\u5730\u56fe\uff08\u4f8b\u5982\u6574\u4e2a\u5927\u6d32\u6216\u534a\u7403\uff09\uff0c\u8be5\u6295\u5f71\u662f\u65b9\u4f4d\u7b49\u9762\u79ef\u6295\u5f71\u3002\n\u5728\u6295\u5f71\u7684\u4e2d\u5fc3\u7578\u53d8\u4e3a 0\uff0c\u79bb\u6295\u5f71\u4e2d\u5fc3\u8d8a\u8fdc\u7578\u53d8\u8d8a\u5927\u3002\n\n"
      ]
    },
    {
      "cell_type": "code",
      "execution_count": null,
      "metadata": {
        "collapsed": false
      },
      "outputs": [],
      "source": [
        "fig = pygmt.Figure()\nfig.coast(region=\"g\", frame=\"afg\", land=\"gray\", projection=\"A30/-20/60/12c\")\nfig.show()"
      ]
    },
    {
      "cell_type": "markdown",
      "metadata": {},
      "source": [
        "## **-JB:** Albers \u5706\u9525\u7b49\u9762\u79ef\u6295\u5f71\n\u6b64\u6295\u5f71\u662f\u5706\u9525\u3001\u7b49\u9762\u79ef\u6295\u5f71\u3002\u7eac\u7ebf\u662f\u4e0d\u7b49\u95f4\u9694\u5206\u5e03\u7684\u540c\u5fc3\u5706\uff0c\u5728\u5730\u7403\u5357\u5317\u6781\u5904\u5206\u5e03\u8f83\u5bc6\u3002\n\u7ecf\u7ebf\u5219\u662f\u7b49\u95f4\u9694\u5206\u9694\uff0c\u5e76\u5782\u76f4\u5207\u5272\u7eac\u7ebf\u3002\u5728\u4e24\u6761\u6807\u51c6\u7eac\u7ebf\u5904\uff0c\u6bd4\u4f8b\u5c3a\u548c\u5f62\u72b6\u7684\u7578\u53d8\u6700\u5c0f\uff1b\n\u5728\u4e24\u8005\u4e4b\u95f4\uff0c\u6cbf\u7740\u7eac\u7ebf\u7684\u6bd4\u4f8b\u5c3a\u504f\u5c0f\uff1b\u5728\u4e24\u8005\u5916\u90e8\uff0c\u6cbf\u7740\u7ecf\u7ebf\u7684\u6bd4\u4f8b\u5c3a\u5219\u504f\u5927\u3002\n\u6cbf\u7740\u7ecf\u7ebf\uff0c\u5219\u5b8c\u5168\u76f8\u53cd\u3002\n\n\u4e3b\u8981\u7528\u4e8e\u7ed8\u5236\u4e1c\u897f\u65b9\u5411\u8303\u56f4\u5f88\u5927\u7684\u5730\u56fe\uff0c\u5c24\u5176\u662f\u7f8e\u56fd\u5730\u56fe\u3002\n\n"
      ]
    },
    {
      "cell_type": "code",
      "execution_count": null,
      "metadata": {
        "collapsed": false
      },
      "outputs": [],
      "source": [
        "fig = pygmt.Figure()\n# Use the ISO country code for Brazil and add a padding of 2 degrees (+R2)\nfig.coast(\n    projection=\"B-55/-15/-25/0/12c\", region=\"BR+R2\", frame=\"afg\", land=\"gray\", borders=1\n)\nfig.show()"
      ]
    },
    {
      "cell_type": "markdown",
      "metadata": {},
      "source": [
        "## **-JD:** \u7b49\u8ddd\u5706\u9525\u6295\u5f71\n\u6b64\u6295\u5f71\u65e2\u4e0d\u662f\u4fdd\u89d2\u4e5f\u4e0d\u662f\u7b49\u9762\u79ef\uff0c\u800c\u662f\u4e24\u79cd\u7684\u6298\u8877\u3002\n\u5728\u6240\u6709\u7ecf\u7ebf\u4ee5\u53ca\u6807\u51c6\u7eac\u7ebf\u4e0a\u6bd4\u4f8b\u5c3a\u6ca1\u6709\u7578\u53d8\u3002\n\n\u7b49\u8ddd\u5706\u9525\u6295\u5f71\u5e38\u7528\u4e8e\u7ed8\u5236\u5c0f\u56fd\u5bb6\u7684\u5730\u56fe\u96c6\u3002\n\n"
      ]
    },
    {
      "cell_type": "code",
      "execution_count": null,
      "metadata": {
        "collapsed": false
      },
      "outputs": [],
      "source": [
        "fig = pygmt.Figure()\nfig.coast(\n    shorelines=\"1/0.5p\",\n    region=[-88, -70, 18, 24],\n    projection=\"D-79/21/19/23/12c\",\n    land=\"lightgreen\",\n    water=\"lightblue\",\n    frame=\"afg\",\n)\nfig.show()"
      ]
    },
    {
      "cell_type": "markdown",
      "metadata": {},
      "source": [
        "## **-JL:** Lambert \u5706\u9525\u4fdd\u89d2\u6295\u5f71\n\u4e3b\u8981\u7528\u4e8e\u7ed8\u5236\u4e1c\u897f\u65b9\u5411\u8303\u56f4\u5f88\u5927\u7684\u5730\u56fe\u3002\u4e0e Albers \u6295\u5f71\u4e0d\u540c\u7684\u662f\uff0c\nLambert \u6295\u5f71\u4e0d\u662f\u7b49\u9762\u79ef\u7684\u3002\u7eac\u7ebf\u662f\u5171\u5706\u5fc3\u7684\u5706\u5f27\uff0c\u7ecf\u7ebf\u662f\u8fd9\u4e9b\u5706\n\u7684\u7b49\u95f4\u9694\u5206\u5e03\u7684\u534a\u5f84\u3002\u4e0e Albers \u6295\u5f71\u7c7b\u4f3c\uff0c\u53ea\u6709\u4e24\u6761\u6807\u51c6\u7eac\u7ebf\u662f\u65e0\u7578\u53d8\u7684\u3002\n\u6295\u5f71\u4e2d\u5fc3\u7684\u9009\u53d6\u5e76\u4e0d\u5f71\u54cd\u6295\u5f71\uff0c\u4f46\u5176\u6307\u5b9a\u4e86\u54ea\u4e00\u6761\u7ecf\u7ebf\u5782\u76f4\u4e8e\u5730\u56fe\u3002\n\nLambert \u4fdd\u89d2\u6295\u5f71\u573a\u7528\u4e8e\u7ed8\u5236\u7f8e\u56fd\u5730\u56fe\uff0c\u4e24\u4e2a\u56fa\u5b9a\u7684\u6807\u51c6\u7eac\u7ebf\u662f 33\u00b0N \u548c 45\u00b0N\u3002\n\n"
      ]
    },
    {
      "cell_type": "code",
      "execution_count": null,
      "metadata": {
        "collapsed": false
      },
      "outputs": [],
      "source": [
        "fig = pygmt.Figure()\nfig.coast(\n    shorelines=\"1/0.5p\",\n    region=[-130, -70, 24, 52],\n    projection=\"L-100/35/33/45/12c\",\n    land=\"gray\",\n    borders=[\"1/thick,black\", \"2/thin,black\"],\n    frame=\"afg\",\n)\n\nfig.show()"
      ]
    },
    {
      "cell_type": "markdown",
      "metadata": {},
      "source": [
        "## **-JPoly:** \u591a\u5706\u9525\u6295\u5f71\n\u6b64\u6295\u5f71\u65e2\u4e0d\u662f\u7b49\u9762\u79ef\u4e5f\u4e0d\u662f\u4fdd\u89d2\u6295\u5f71\uff0c\u6cbf\u7740\u4e2d\u5fc3\u7ecf\u7ebf\u5904\u7578\u53d8\u4e3a0\u3002\n\u6240\u6709\u7eac\u7ebf\u7684\u6bd4\u4f8b\u5c3a\u90fd\u662f\u771f\u5b9e\u7684\uff0c\u4f46\u5176\u4f59\u7ecf\u7ebf\u5219\u5b58\u5728\u7578\u53d8\u3002\n\n"
      ]
    },
    {
      "cell_type": "code",
      "execution_count": null,
      "metadata": {
        "collapsed": false
      },
      "outputs": [],
      "source": [
        "fig = pygmt.Figure()\nfig.coast(\n    shorelines=\"1/0.5p\",\n    region=[-180, -20, 0, 90],\n    projection=\"Poly/12c\",\n    land=\"gray\",\n    borders=\"1/thick,black\",\n    frame=\"afg10\",\n)\n\nfig.show()"
      ]
    },
    {
      "cell_type": "markdown",
      "metadata": {},
      "source": [
        "## **-JC:** Cassini \u5706\u67f1\u6295\u5f71\n\u6b64\u6295\u5f71\u65e2\u4e0d\u4fdd\u89d2\u4e5f\u4e0d\u7b49\u9762\u79ef\uff0c\u800c\u662f\u4ecb\u4e8e\u4e8c\u8005\u4e4b\u95f4\u7684\u4e00\u79cd\u6295\u5f71\u65b9\u5f0f\u3002\n\u6cbf\u7740\u4e2d\u5fc3\u7ecf\u7ebf\u7684\u7578\u53d8\u6700\u5c0f\uff0c\u9002\u5408\u7ed8\u5236\u5357\u5317\u65b9\u5411\u533a\u57df\u8303\u56f4\u8f83\u5927\u7684\u5730\u56fe\u3002\n\u5176\u4e2d\uff0c\u4e2d\u5fc3\u7ecf\u7ebf\u3001\u8ddd\u79bb\u4e2d\u5fc3\u7ecf\u7ebf90\u5ea6\u7684\u4e24\u6761\u7ecf\u7ebf\u4ee5\u53ca\u8d64\u9053\u662f\u76f4\u7ebf\uff0c\u5176\u4f59\u7ecf\u7ebf\u548c\u7eac\u7ebf\u90fd\u662f\u590d\u6742\u7684\u66f2\u7ebf\u3002\n\n"
      ]
    },
    {
      "cell_type": "code",
      "execution_count": null,
      "metadata": {
        "collapsed": false
      },
      "outputs": [],
      "source": [
        "fig = pygmt.Figure()\n# Use the ISO code for Madagascar (MG) and pad it by 2 degrees (+R2)\nfig.coast(projection=\"C47/-19/12c\", region=\"MG+R2\", frame=\"afg\", land=\"gray\", borders=1)\nfig.show()"
      ]
    },
    {
      "cell_type": "markdown",
      "metadata": {},
      "source": [
        "## **-JY:** \u5706\u67f1\u7b49\u9762\u79ef\u6295\u5f71\n\u9009\u62e9\u4e0d\u540c\u7684\u6807\u51c6\u7eac\u7ebf\uff0c\u5219\u5bf9\u5e94\u4e0d\u540c\u7684\u5706\u67f1\u6295\u5f71\u3002\n\u6240\u6709\u7684\u8fd9\u4e9b\u5706\u67f1\u6295\u5f71\u90fd\u662f\u7b49\u9762\u79ef\u4e14\u4e0d\u4fdd\u89d2\u7684\u3002\n\u6240\u6709\u7ecf\u7ebf\u548c\u7eac\u7ebf\u90fd\u662f\u76f4\u7ebf\u3002\u5728\u9ad8\u7eac\u5ea6\u5904\u7578\u53d8\u5f88\u5927\u3002\n\n"
      ]
    },
    {
      "cell_type": "code",
      "execution_count": null,
      "metadata": {
        "collapsed": false
      },
      "outputs": [],
      "source": [
        "fig = pygmt.Figure()\n# Use region \"d\" to specify global region (-180/180/-90/90)\nfig.coast(\n    region=\"d\",\n    projection=\"Y35/30/12c\",\n    water=\"dodgerblue\",\n    shorelines=\"thinnest\",\n    frame=\"afg\",\n)\nfig.show()"
      ]
    },
    {
      "cell_type": "markdown",
      "metadata": {},
      "source": [
        "## **-JQ:** \u5706\u67f1\u7b49\u8ddd\u6295\u5f71\n\u8fd9\u4e2a\u7b80\u5355\u7684\u5706\u67f1\u6295\u5f71\u662f\u4e00\u4e2a\u7ecf\u5ea6\u548c\u7eac\u5ea6\u7684\u7ebf\u6027\u7f29\u653e\u3002\n\u6700\u5e38\u7528\u7684\u5f62\u5f0f\u662f Plate Carr\u00e9e \u6295\u5f71\uff0c\n\u5176\u4e2d\u5bf9\u7ecf\u7ebf\u548c\u7eac\u7ebf\u7684\u7f29\u653e\u6bd4\u4f8b\u662f\u76f8\u540c\u7684\u3002\u6240\u6709\u7684\u7ecf\u7eac\u7ebf\u90fd\u662f\u76f4\u7ebf\u3002\n\n"
      ]
    },
    {
      "cell_type": "code",
      "execution_count": null,
      "metadata": {
        "collapsed": false
      },
      "outputs": [],
      "source": [
        "fig = pygmt.Figure()\n# Use region \"d\" to specify global region (-180/180/-90/90)\nfig.coast(\n    region=\"d\",\n    projection=\"Q12c\",\n    land=\"tan4\",\n    water=\"lightcyan\",\n    frame=\"afg\",\n)\nfig.show()"
      ]
    },
    {
      "cell_type": "markdown",
      "metadata": {},
      "source": [
        "## **-JM:** Mercator \u6295\u5f71\n\u6b64\u6295\u5f71\u662f\u5404\u79cd\u5730\u56fe\u6295\u5f71\u4e2d\u6700\u8457\u540d\u7684\u4e00\u4e2a\uff0c\u662f\u5706\u67f1\u4fdd\u89d2\u6295\u5f71\uff0c\u6cbf\u7740\u8d64\u9053\u65e0\u7578\u53d8\uff0c\u4f46\u4e24\u6781\u7578\u53d8\u4e25\u91cd\u3002\n\u6b64\u6295\u5f71\u7684\u4e3b\u8981\u7279\u70b9\u662f\u7b49\u65b9\u4f4d\u89d2\u7684\u7ebf\u662f\u4e00\u6761\u76f4\u7ebf\uff0c\u5728\u5e38\u89c4 Mercator \u6295\u5f71\u4e2d\uff0c\n\u5706\u67f1\u4e0e\u8d64\u9053\u76f8\u5207\u3002\u82e5\u5706\u67f1\u6cbf\u7740\u5176\u4ed6\u65b9\u5411\u4e0e\u5730\u7403\u76f8\u5207\uff0c\u5219\u79f0\u4e3a\u6a2a\u5411 Mercator \u6295\u5f71\u6216\u503e\u659c Mercator \u6295\u5f71\u3002\n\n"
      ]
    },
    {
      "cell_type": "code",
      "execution_count": null,
      "metadata": {
        "collapsed": false
      },
      "outputs": [],
      "source": [
        "fig = pygmt.Figure()\nfig.coast(region=[0, 360, -80, 80], frame=\"afg\", land=\"red\", projection=\"M0/0/12c\")\nfig.show()"
      ]
    },
    {
      "cell_type": "markdown",
      "metadata": {},
      "source": [
        "## **-JJ:** Miller \u5706\u67f1\u6295\u5f71\n\u8be5\u6295\u5f71\u65e2\u4e0d\u662f\u4fdd\u89d2\u4e5f\u4e0d\u662f\u7b49\u9762\u79ef\u3002\u6240\u6709\u7684\u7ecf\u7ebf\u548c\u7eac\u7ebf\u90fd\u662f\u76f4\u7ebf\u3002\n\u8be5\u6295\u5f71\u662f Mercator \u4e0e\u5176\u4ed6\u5706\u67f1\u6295\u5f71\u4e4b\u95f4\u7684\u6298\u8877\u3002\n\u5728\u6b64\u6295\u5f71\u4e2d\uff0c\u7eac\u7ebf\u4e4b\u95f4\u7684\u95f4\u8ddd\u4f7f\u7528\u4e86 Mercator \u516c\u5f0f\u5e76\u4e58\u4ee5 0.8 \u500d\u7684\u771f\u5b9e\u7eac\u5ea6\uff0c\n\u56e0\u800c\u907f\u514d\u4e86\u6781\u70b9\u7684\u5947\u70b9\uff0c\u7136\u540e\u518d\u5c06\u7ed3\u679c\u9664\u4ee5 0.8\u3002\n\n"
      ]
    },
    {
      "cell_type": "code",
      "execution_count": null,
      "metadata": {
        "collapsed": false
      },
      "outputs": [],
      "source": [
        "fig = pygmt.Figure()\nfig.coast(\n    region=[-180, 180, -80, 80],\n    projection=\"J-65/12c\",\n    land=\"khaki\",\n    water=\"azure\",\n    shorelines=\"thinnest\",\n    frame=\"afg\",\n)\nfig.show()"
      ]
    },
    {
      "cell_type": "markdown",
      "metadata": {},
      "source": [
        "## **-JCyl_stere:** \u5706\u67f1\u7acb\u4f53\u6295\u5f71\n\u5706\u67f1\u7acb\u4f53\u6295\u5f71\u4e0d\u50cf\u5176\u5b83\u7684\u5706\u67f1\u6295\u5f71\u90a3\u6837\u4ee4\u4eba\u5173\u6ce8\uff0c\u4f46\u7531\u4e8e\u5176\u76f8\u5bf9\u7b80\u5355\u4e14\u80fd\u591f\u514b\u670d\u5176\u5b83\n\u5706\u67f1\u6295\u5f71\u7684\u7f3a\u70b9\uff08\u6bd4\u5982\u9ad8\u7eac\u5ea6\u7684\u7578\u53d8\uff09\uff0c\u6545\u800c\u4ecd\u7136\u88ab\u4f7f\u7528\u3002\u7acb\u4f53\u6295\u5f71\u662f\u900f\u89c6\u6295\u5f71\uff0c\n\u5c06\u6574\u4e2a\u7403\u6cbf\u7740\u8d64\u9053\u4e0a\u7684\u5bf9\u8dd6\u70b9\u6295\u5f71\u5230\u4e00\u4e2a\u5706\u67f1\u4e0a\u3002\u8be5\u5706\u67f1\u4e8e\u4e24\u6761\u8ddd\u8d64\u9053\u7b49\u95f4\u8ddd\u7684\u6807\u51c6\u7eac\u7ebf\u5904\u7a7f\u8fc7\u7403\u4f53\u3002\n\n"
      ]
    },
    {
      "cell_type": "code",
      "execution_count": null,
      "metadata": {
        "collapsed": false
      },
      "outputs": [],
      "source": [
        "fig = pygmt.Figure()\nfig.coast(region=\"g\", frame=\"afg\", land=\"gray\", projection=\"Cyl_stere/30/-20/12c\")\nfig.show()"
      ]
    },
    {
      "cell_type": "markdown",
      "metadata": {},
      "source": [
        "## **-JT:** \u6a2a\u5411 Mercator \u6295\u5f71\n\u6b64\u6295\u5f71\u5706\u67f1\u4e0e\u67d0\u6761\u7ecf\u7ebf\u76f8\u5207\u3002\u5728\u8be5\u7ecf\u7ebf\u5904\u65e0\u7578\u53d8\uff0c\u79bb\u4e2d\u5fc3\u7ecf\u7ebf\u8d8a\u8fdc\u7578\u53d8\u8d8a\u5927\uff0c\n\u8ddd\u79bb\u4e2d\u5fc3\u7ecf\u7ebf 90 \u5ea6\u5904\u7684\u7ecf\u7ebf\u7578\u53d8\u8fbe\u5230\u65e0\u7a77\u3002\u4e2d\u5fc3\u7ecf\u7ebf\u548c\u8d64\u9053\u90fd\u662f\u76f4\u7ebf\uff0c\n\u5176\u4f59\u7ecf\u7ebf\u548c\u7eac\u7ebf\u5219\u662f\u590d\u6742\u66f2\u7ebf\u3002\n\n"
      ]
    },
    {
      "cell_type": "code",
      "execution_count": null,
      "metadata": {
        "collapsed": false
      },
      "outputs": [],
      "source": [
        "fig = pygmt.Figure()\nfig.coast(\n    region=[20, 50, 30, 45],\n    projection=\"T35/12c\",\n    land=\"lightbrown\",\n    water=\"seashell\",\n    shorelines=\"thinnest\",\n    frame=\"afg\",\n)\nfig.show()"
      ]
    },
    {
      "cell_type": "markdown",
      "metadata": {},
      "source": [
        "## **-JU:** \u901a\u7528\u6a2a\u5411 Mercator(UTM) \u6295\u5f71\n\u901a\u7528\u6a2a\u5411 Mercator\uff08UTM\uff09\u6295\u5f71\u662f\u6a2a\u5411 Mercator \u6295\u5f71\u7684\u4e00\u4e2a\u7279\u6b8a\u5b50\u96c6\u3002\n\u6b64\u5904\uff0c\u5168\u7403\u5728\u5357\u5317\u7eac 84 \u5ea6\u4e4b\u95f4\u88ab\u5212\u5206\u4e3a 60 \u4e2a\u533a\u57df\uff0c\u5927\u591a\u6570\u533a\u57df\u7684\u5bbd\u5ea6\u90fd\u662f 6 \u5ea6\u3002\n\u6bcf\u4e00\u4e2a\u533a\u57df\u90fd\u6709\u5404\u81ea\u4f4d\u79fb\u7684\u4e2d\u5fc3\u7ecf\u7ebf\u3002\u8fdb\u4e00\u6b65\uff0c\u6bcf\u4e2a\u533a\u57df\u90fd\u88ab\u5212\u5206\u4e3a\u7eac\u5ea6\u5e26\u3002\n\n"
      ]
    },
    {
      "cell_type": "code",
      "execution_count": null,
      "metadata": {
        "collapsed": false
      },
      "outputs": [],
      "source": [
        "fig = pygmt.Figure()\n# UTM Zone is set to 52R\nfig.coast(\n    region=[127.5, 128.5, 26, 27],\n    projection=\"U52R/12c\",\n    land=\"lightgreen\",\n    water=\"lightblue\",\n    shorelines=\"thinnest\",\n    frame=\"afg\",\n)\nfig.show()"
      ]
    },
    {
      "cell_type": "markdown",
      "metadata": {},
      "source": [
        "## **-JK:** Eckert \u6295\u5f71\nEckert IV \u548c VI \u6295\u5f71\u662f\u4f2a\u5706\u67f1\u7b49\u9762\u79ef\u6295\u5f71\u3002\u4e2d\u5fc3\u7ecf\u7ebf\u4ee5\u53ca\u6240\u6709\u7684\u7eac\u7ebf\u90fd\u662f\u76f4\u7ebf\uff0c\n\u5176\u4f59\u7ecf\u7ebf\u662f\u7b49\u95f4\u9694\u5206\u5e03\u7684\u692d\u5706\u5f27\uff08IV\uff09\u6216\u6b63\u5f26\u66f2\u7ebf\uff08VI\uff09\u3002\n\u6bd4\u4f8b\u5c3a\u5728\u7eac\u7ebf 40\u00b030\u2019\uff08IV\uff09\u548c 49\u00b016\u2019\uff08VI\uff09\u662f\u771f\u5b9e\u7684\u3002\n**-JKf**\\ \uff08f \u4ee3\u8868 four\uff09\u8868\u793a\u4f7f\u7528 Eckert IV \u6295\u5f71\uff0c**-JKs**\\ \uff08s \u4ee3\u8868 six\uff09\u8868\u793a\u4f7f\u7528 Eckert VI \u6295\u5f71\u3002\n\u82e5\u4e0d\u6307\u5b9a f \u6216 s\uff0c\u5219\u9ed8\u8ba4\u4f7f\u7528 Eckert VI \u6295\u5f71\u3002\n\n"
      ]
    },
    {
      "cell_type": "code",
      "execution_count": null,
      "metadata": {
        "collapsed": false
      },
      "outputs": [],
      "source": [
        "fig = pygmt.Figure()\n# Use region \"d\" to specify global region (-180/180/-90/90)\nfig.coast(region=\"d\", projection=\"Kf12c\", land=\"ivory\", water=\"bisque4\", frame=\"afg\")\nfig.show()\n\nfig = pygmt.Figure()\n# Use region \"d\" to specify global region (-180/180/-90/90)\nfig.coast(region=\"d\", projection=\"Ks12c\", land=\"ivory\", water=\"bisque4\", frame=\"afg\")\nfig.show()"
      ]
    },
    {
      "cell_type": "markdown",
      "metadata": {},
      "source": [
        "## **-JH:** \u7b49\u9762\u79ef Hammer \u6295\u5f71\n\u6295\u5f71\u540e\u7684\u8fb9\u754c\u662f\u4e00\u4e2a\u692d\u5706\uff0c\u8d64\u9053\u548c\u4e2d\u5fc3\u7ecf\u7ebf\u662f\u76f4\u7ebf\uff0c\u5176\u4f59\u7eac\u7ebf\u548c\u7ecf\u7ebf\u90fd\u662f\u590d\u6742\u66f2\u7ebf\u3002\n\n"
      ]
    },
    {
      "cell_type": "code",
      "execution_count": null,
      "metadata": {
        "collapsed": false
      },
      "outputs": [],
      "source": [
        "fig = pygmt.Figure()\n# Use region \"d\" to specify global region (-180/180/-90/90)\nfig.coast(region=\"d\", projection=\"H12c\", land=\"black\", water=\"cornsilk\", frame=\"afg\")\nfig.show()"
      ]
    },
    {
      "cell_type": "markdown",
      "metadata": {},
      "source": [
        "## **-JW:** Mollweide \u6295\u5f71\n\u7eac\u7ebf\u662f\u4e0d\u7b49\u95f4\u9694\u5206\u5e03\u7684\u76f4\u7ebf\uff0c\u7ecf\u7ebf\u662f\u7b49\u95f4\u9694\u5206\u5e03\u7684\u692d\u5706\u5f27\u3002\n\u6bd4\u4f8b\u5c3a\u4ec5\u5728\u5357\u5317\u7eac 40 \u5ea6 44 \u5206\u7eac\u7ebf\u4e0a\u624d\u662f\u771f\u5b9e\u7684\u3002\n\n\u6b64\u6295\u5f71\u4e3b\u8981\u7528\u4e8e\u7ed8\u5236\u5168\u7403\u7684\u6570\u636e\u5206\u5e03\u56fe\u3002\n\n"
      ]
    },
    {
      "cell_type": "code",
      "execution_count": null,
      "metadata": {
        "collapsed": false
      },
      "outputs": [],
      "source": [
        "fig = pygmt.Figure()\n# Use region \"d\" to specify global region (-180/180/-90/90)\nfig.coast(region=\"d\", projection=\"W12c\", land=\"tomato1\", water=\"skyblue\", frame=\"ag\")\nfig.show()"
      ]
    },
    {
      "cell_type": "markdown",
      "metadata": {},
      "source": [
        "## **-JN:** Robinson \u6295\u5f71\n\u6b64\u6295\u5f71\u65e2\u4e0d\u662f\u4fdd\u89d2\u4e5f\u4e0d\u662f\u7b49\u9762\u79ef\u3002\u4e2d\u5fc3\u7ecf\u7ebf\u4ee5\u53ca\u6240\u6709\u7eac\u7ebf\u90fd\u662f\u76f4\u7ebf\uff0c\n\u5176\u4f59\u7ecf\u7ebf\u90fd\u662f\u66f2\u7ebf\u3002\u5176\u4f7f\u7528\u67e5\u627e\u8868\u7684\u65b9\u5f0f\u800c\u4e0d\u662f\u89e3\u6790\u8868\u8fbe\u5f0f\u6765\u4f7f\u5f97\n\u5168\u7403\u770b\u4e0a\u53bb\u6bd4\u8f83\u6b63\u5e38\u3002\u6bd4\u4f8b\u5c3a\u5728\u7ecf\u7ebf 38\u00b0 \u662f\u771f\u5b9e\u7684\u3002\n\n"
      ]
    },
    {
      "cell_type": "code",
      "execution_count": null,
      "metadata": {
        "collapsed": false
      },
      "outputs": [],
      "source": [
        "fig = pygmt.Figure()\n# Use region \"d\" to specify global region (-180/180/-90/90)\nfig.coast(region=\"d\", projection=\"N12c\", land=\"goldenrod\", water=\"snow2\", frame=\"afg\")\nfig.show()"
      ]
    },
    {
      "cell_type": "markdown",
      "metadata": {},
      "source": [
        "## **-JI:** \u6b63\u5f26\u66f2\u7ebf\u6295\u5f71\n\u6b63\u5f26\u66f2\u7ebf\u6295\u5f71\u662f\u7b49\u9762\u79ef\u6295\u5f71\uff0c\u662f\u5df2\u77e5\u7684\u6700\u53e4\u8001\u7684\u6295\u5f71\u4e4b\u4e00\uff0c\u4e5f\u88ab\u79f0\u4e3a\u7b49\u9762\u79ef Mercator \u6295\u5f71\u3002\n\u5176\u4e2d\u5fc3\u7ecf\u7ebf\u662f\u76f4\u7ebf\uff0c\u5176\u4f59\u7ecf\u7ebf\u662f\u6b63\u5f26\u66f2\u7ebf\uff0c\u7eac\u7ebf\u662f\u7b49\u95f4\u8ddd\u7684\u76f4\u7ebf\u3002\u5728\u6240\u6709\u7eac\u7ebf\u548c\u4e2d\u5fc3\u7ecf\u7ebf\u5904\u6bd4\u4f8b\u5c3a\u662f\u771f\u5b9e\u7684\u3002\n\n"
      ]
    },
    {
      "cell_type": "code",
      "execution_count": null,
      "metadata": {
        "collapsed": false
      },
      "outputs": [],
      "source": [
        "fig = pygmt.Figure()\n# Use region \"d\" to specify global region (-180/180/-90/90)\nfig.coast(region=\"d\", projection=\"I12c\", land=\"coral4\", water=\"azure3\", frame=\"afg\")\nfig.show()"
      ]
    },
    {
      "cell_type": "markdown",
      "metadata": {},
      "source": [
        "\u4e3a\u4e86\u51cf\u5c11\u5f62\u72b6\u7684\u7578\u53d8\uff0c\u5f15\u5165\u4e86\u95f4\u65ad\u6b63\u5f26\u66f2\u7ebf\u6295\u5f71\uff0c\u5373\u7528\u4e09\u4e2a\u5bf9\u79f0\u7684\u6bb5\u6765\u8986\u76d6\u5168\u7403\u3002\n\u4f20\u7edf\u4e0a\uff0c\u95f4\u65ad\u51fa\u73b0\u5728 160\u00b0W\u300120\u00b0W \u548c 60\u00b0E \u5904\uff0c\u4e00\u822c\u4ec5\u7528\u4e8e\u663e\u793a\u5168\u7403\u4e0d\u8fde\u7eed\u6570\u636e\u5206\u5e03\u3002\n\n"
      ]
    },
    {
      "cell_type": "code",
      "execution_count": null,
      "metadata": {
        "collapsed": false
      },
      "outputs": [],
      "source": [
        "fig = pygmt.Figure()\nfig.coast(region=\"200/340/-90/90\", projection=\"i0.04c\", land=\"darkred\", \n            water=\"azure\", frame=\"g\", area_thresh=\"10000\", resolution=\"c\")\n\nfig.shift_origin(xshift=\"5.6c\")\nfig.coast(region=\"-20/60/-90/90\", land=\"darkgreen\", water=\"azure\", frame=\"g\", \n            area_thresh=\"10000\", resolution=\"c\")\n\nfig.shift_origin(xshift=\"3.2c\")\nfig.coast(region=\"60/200/-90/90\", land=\"darkblue\", frame=\"g\", area_thresh=\"10000\", \n            resolution=\"c\")\n\nfig.show()"
      ]
    },
    {
      "cell_type": "markdown",
      "metadata": {},
      "source": [
        "## **-JV:** Van der Grinten \u6295\u5f71\n\u6b64\u6295\u5f71\u65e2\u4e0d\u7b49\u9762\u79ef\u4e5f\u4e0d\u4fdd\u89d2\u3002\u4e2d\u5fc3\u7ecf\u7ebf\u548c\u8d64\u9053\u90fd\u662f\u76f4\u7ebf\uff0c\u5176\u4f59\u7ecf\u7ebf\u5219\u662f\u5706\u5f27\uff0c\n\u4ec5\u5728\u8d64\u9053\u5904\u6bd4\u4f8b\u5c3a\u662f\u771f\u5b9e\u7684\uff0c\u4e3b\u8981\u7528\u4e8e\u5728\u4e00\u4e2a\u5706\u5185\u5c55\u793a\u6574\u4e2a\u4e16\u754c\u5730\u56fe\u3002\n\n"
      ]
    },
    {
      "cell_type": "code",
      "execution_count": null,
      "metadata": {
        "collapsed": false
      },
      "outputs": [],
      "source": [
        "fig = pygmt.Figure()\n# Use region \"d\" to specify global region (-180/180/-90/90)\nfig.coast(region=\"d\", projection=\"V12c\", land=\"gray\", water=\"cornsilk\", frame=\"afg\")\nfig.show()"
      ]
    },
    {
      "cell_type": "markdown",
      "metadata": {},
      "source": [
        "## **-JR:** Winkel Tripel \u6295\u5f71\n\u8be5\u6295\u5f71\u5728\u4e09\u4e2a\u5143\u7d20\uff08\u9762\u79ef\u3001\u89d2\u5ea6\u3001\u8ddd\u79bb\uff09\u4e4b\u95f4\u6298\u8877\uff0c\u5728\u7ed8\u5236\u5168\u7403\u5730\u56fe\u65f6\uff0c\u8fd9\u4e09\u4e2a\u5143\u7d20\u7684\u7578\u53d8\u6700\u5c0f\u3002\n\u6b64\u6295\u5f71\u4e0d\u662f\u4fdd\u89d2\u4e5f\u4e0d\u662f\u7b49\u9762\u79ef\u6295\u5f71\u3002\u4e2d\u5fc3\u7ecf\u7ebf\u548c\u8d64\u9053\u662f\u76f4\u7ebf\uff0c\u5176\u4ed6\u7ecf\u7ebf\u548c\u7eac\u7ebf\u662f\u66f2\u7ebf\u3002\n\u8be5\u6295\u5f71\u53d6\u7b49\u8ddd\u5706\u67f1\u6295\u5f71\u548c Aitoff \u6295\u5f71\u7684\u5750\u6807\u7684\u5e73\u5747\u503c\u3002\u6781\u70b9\u5904\u6295\u5f71\u4e3a 0.4 \u500d\u8d64\u9053\u957f\u5ea6\u7684\u76f4\u7ebf\u3002\n\n"
      ]
    },
    {
      "cell_type": "code",
      "execution_count": null,
      "metadata": {
        "collapsed": false
      },
      "outputs": [],
      "source": [
        "fig = pygmt.Figure()\n# Use region \"d\" to specify global region (-180/180/-90/90)\nfig.coast(region=\"d\", projection=\"R12c\", land=\"burlywood4\", water=\"wheat1\", frame=\"afg\")\nfig.show()"
      ]
    }
  ],
  "metadata": {
    "kernelspec": {
      "display_name": "Python 3",
      "language": "python",
      "name": "python3"
    },
    "language_info": {
      "codemirror_mode": {
        "name": "ipython",
        "version": 3
      },
      "file_extension": ".py",
      "mimetype": "text/x-python",
      "name": "python",
      "nbconvert_exporter": "python",
      "pygments_lexer": "ipython3",
      "version": "3.8.0"
    }
  },
  "nbformat": 4,
  "nbformat_minor": 0
}