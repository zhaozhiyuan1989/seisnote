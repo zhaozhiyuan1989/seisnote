{
  "cells": [
    {
      "cell_type": "code",
      "execution_count": null,
      "metadata": {
        "collapsed": false
      },
      "outputs": [],
      "source": [
        "%matplotlib inline"
      ]
    },
    {
      "cell_type": "markdown",
      "metadata": {},
      "source": [
        "\n# \u4ece\u6570\u636e\u4e2d\u5fc3\u7533\u8bf7\u5730\u9707\u6570\u636e\n\n\u901a\u8fc7 :mod:`obspy.clients.fdsn` \u6a21\u5757\u53ef\u4ee5\u8bbf\u95ee\u4efb\u4f55\u652f\u6301\n`FDSN Web Services <https://www.fdsn.org/webservices/>`__\n\u534f\u8bae\u7684\u7f51\u7edc\u670d\u52a1\u5668\uff0c\u529f\u80fd\u5f3a\u5927\uff0c\u57fa\u672c\u4e0a\u53ef\u4ee5\u6ee1\u8db3\u79d1\u7814\u9700\u6c42\uff0c\n\u6bd4\u5982\u4e0b\u8f7d\u6ce2\u5f62\u6570\u636e\u3001\u5730\u9707\u76ee\u5f55\u548c\u53f0\u7ad9\u5143\u6570\u636e\u7b49\u3002\n\n<div class=\"alert alert-danger\"><h4>Warning</h4><p>\u7531\u4e8e\u6570\u636e\u4e2d\u5fc3\u548c Web \u670d\u52a1\u53ef\u80fd\u4f1a\u6709\u53d8\u5316\uff0c\u6240\u4ee5\u672c\u8282\u7684\u76f8\u5173\u793a\u4f8b\u672a\u6765\u53ef\u80fd\u4f1a\u5931\u6548\uff0c\n    \u5f53\u51fa\u73b0\u8fd9\u79cd\u60c5\u51b5\u7684\u65f6\u5019\u8bf7\u81ea\u884c\u53c2\u9605\u6700\u65b0\u6587\u6863\u3002</p></div>\n"
      ]
    },
    {
      "cell_type": "markdown",
      "metadata": {},
      "source": [
        "\u7b2c\u4e00\u6b65\uff0c\u521d\u59cb\u5316 client \u5bf9\u8c61\uff0c\u603b\u662f\u9700\u8981\u6267\u884c\u8fd9\u4e00\u6b65\uff1a\n\n"
      ]
    },
    {
      "cell_type": "code",
      "execution_count": null,
      "metadata": {
        "collapsed": false
      },
      "outputs": [],
      "source": [
        "from obspy.clients.fdsn import Client\nclient = Client(\"IRIS\")  # \u8fd9\u91cc\u65e2\u53ef\u4ee5\u7528\u6570\u636e\u4e2d\u5fc3\u7684\u7b80\u5199\uff0c\u4e5f\u53ef\u4ee5\u7528 URL \u5730\u5740"
      ]
    },
    {
      "cell_type": "markdown",
      "metadata": {},
      "source": [
        "\u663e\u793a\u5f53\u524d\u53ef\u7528\u7684\u6570\u636e\u4e2d\u5fc3\u5217\u8868\uff1a\n\n"
      ]
    },
    {
      "cell_type": "code",
      "execution_count": null,
      "metadata": {
        "collapsed": false
      },
      "outputs": [],
      "source": [
        "from obspy.clients.fdsn.header import URL_MAPPINGS\nfor key in sorted(URL_MAPPINGS.keys()):\n    print(\"{0:<7} {1}\".format(key,  URL_MAPPINGS[key]))"
      ]
    },
    {
      "cell_type": "markdown",
      "metadata": {},
      "source": [
        "## \u4e0b\u8f7d\u6ce2\u5f62\u6570\u636e\n\n\u901a\u8fc7 :meth:`get_waveforms() <obspy.clients.fdsn.client.Client.get_waveforms>` \u65b9\u6cd5\n\u4ece\u670d\u52a1\u5668\u4e0b\u8f7d\u6ce2\u5f62\u6570\u636e\u65f6\uff0c\u53ef\u4ee5\u6dfb\u52a0\u5173\u952e\u5b57\u53c2\u6570\u81ea\u5b9a\u4e49\u7533\u8bf7\u6570\u636e\u3002\n\n\u4f8b\u5982\uff0c\u6dfb\u52a0\u53c2\u6570 ``filename=\"1.mseed\"`` \u540e\u5c06\u4f1a\u628a\u7533\u8bf7\u7684\u6570\u636e\u4fdd\u5b58\u5728\u672c\u5730\u76ee\u5f55\u4e2d\n\u7684 :file:`1.mseed` \uff0c\u8fd4\u56de\u5bf9\u8c61\u7684\u7ed3\u679c\u4e3a ``None`` \uff1b\n\n\u8bbe\u7f6e ``attach_response=True`` \u5c06\u4e3a\u6ce2\u5f62\u6570\u636e\u6dfb\u52a0\u4eea\u5668\u54cd\u5e94\u4fe1\u606f\u3002\n\n\u4ee5\u4e0b\u793a\u4f8b\u7533\u8bf7\u4e86\u7f8e\u56fd IU \u53f0\u7f51 ANMO \u548c AFI \u53f0\u7ad9 LHZ \u5206\u91cf\n\u4ece 2010-02-27 06:45 (UTC) \u5f00\u59cb\u7684 60 \u5206\u949f\u8fde\u7eed\u6ce2\u5f62\u6570\u636e\uff0c\u7ed3\u679c\u4f5c\u4e3a\n:class:`Stream <obspy.core.stream.Stream>` \u5bf9\u8c61\u8fd4\u56de\u3002\n\u5982\u679c\u60f3\u540c\u65f6\u53d1\u9001\u591a\u4e2a\u8bf7\u6c42\u53ef\u4ee5\u4f7f\u7528\n:meth:`get_waveforms_bulk() <obspy.clients.fdsn.client.Client.get_waveforms_bulk>` \u65b9\u6cd5\u3002\n\n"
      ]
    },
    {
      "cell_type": "code",
      "execution_count": null,
      "metadata": {
        "collapsed": false
      },
      "outputs": [],
      "source": [
        "from obspy import UTCDateTime\nt = UTCDateTime(\"2010-02-27T06:45:00.000\")\nst = client.get_waveforms(\"IU\", \"ANMO,AFI\", \"00\", \"LHZ\", t, t + 60 * 60)  # \u591a\u4e2a\u53c2\u6570\u4f7f\u7528\u9017\u53f7\u5206\u9694\nprint(st)\n#st.plot(size=(800,300))"
      ]
    },
    {
      "cell_type": "markdown",
      "metadata": {},
      "source": [
        "\u5f53\u7136\u4e5f\u53ef\u4ee5\u4f7f\u7528\u901a\u914d\u7b26\u4f5c\u4e3a\u53c2\u6570\uff1a\n\n"
      ]
    },
    {
      "cell_type": "code",
      "execution_count": null,
      "metadata": {
        "collapsed": false
      },
      "outputs": [],
      "source": [
        "st = client.get_waveforms(\"IU\", \"A*\", \"1?\", \"LHZ\", t, t + 5)  \nprint(st)\n#st.plot()"
      ]
    },
    {
      "cell_type": "markdown",
      "metadata": {},
      "source": [
        "\u7533\u8bf7\u6ce2\u5f62\u6570\u636e\u65f6\u6dfb\u52a0\u4eea\u5668\u54cd\u5e94\u4fe1\u606f\uff1a\n\n"
      ]
    },
    {
      "cell_type": "code",
      "execution_count": null,
      "metadata": {
        "collapsed": false
      },
      "outputs": [],
      "source": [
        "t = UTCDateTime(\"2012-12-14T10:36:01.6Z\")\nst = client.get_waveforms(\"TA\", \"E42A\", \"*\", \"BH?\", t+300, t+400,\n                          attach_response=True)  \nst.remove_response(output=\"VEL\")   # \u53bb\u9664\u4eea\u5668\u54cd\u5e94\nprint(st)\n#st.plot(size=(800,400))"
      ]
    },
    {
      "cell_type": "markdown",
      "metadata": {},
      "source": [
        "\u5229\u7528 :meth:`get_waveforms_bulk() <obspy.clients.fdsn.client.Client.get_waveforms_bulk>` \u65b9\u6cd5\n\u53ef\u4ee5\u540c\u65f6\u63d0\u4ea4\u591a\u4e2a\u7533\u8bf7\uff0c \u7b26\u5408\u8981\u6c42\u7684 **bulk** \u6709\u4ee5\u4e0b\u5f62\u5f0f\uff1a\n\n- \u591a\u4e2a\u5217\u8868\u9879\u7ec4\u6210\u7684\u5217\u8868\uff0c\u6bcf\u4e00\u4e2a\u5217\u8868\u9879\u5fc5\u987b\u5305\u542b ``network, station, location, channel, starttime and endtime``\n- \u5305\u542b\u6709\u6548 ``request`` \u7684\u5b57\u7b26\u4e32\n- \u5305\u542b\u6709\u6548 ``request`` \u7684\u6587\u4ef6\u540d\n- \u5305\u542b\u6709\u6548 ``request`` \u7684\u5df2\u6253\u5f00\u6587\u4ef6\u7684\u53e5\u67c4\n\n\u591a\u4e2a\u5217\u8868\u9879\u7ec4\u6210\u7684\u5217\u8868:\n\n"
      ]
    },
    {
      "cell_type": "code",
      "execution_count": null,
      "metadata": {
        "collapsed": false
      },
      "outputs": [],
      "source": [
        "client = Client(\"IRIS\")\nt1 = UTCDateTime(\"2010-02-27T06:30:00.000\")\nt2 = t1 + 1\nt3 = t1 + 3\nbulk = [(\"IU\", \"ANMO\", \"*\", \"BHZ\", t1, t2),\n          (\"IU\", \"AFI\", \"1?\", \"BHE\", t1, t3),\n            (\"GR\", \"GRA1\", \"*\", \"BH*\", t2, t3)]\nst = client.get_waveforms_bulk(bulk)\nprint(st)\n#st.plot()"
      ]
    },
    {
      "cell_type": "markdown",
      "metadata": {},
      "source": [
        "\u5305\u542b\u6709\u6548 ``request`` \u7684\u5b57\u7b26\u4e32:\n\n"
      ]
    },
    {
      "cell_type": "code",
      "execution_count": null,
      "metadata": {
        "collapsed": false
      },
      "outputs": [],
      "source": [
        "bulk = 'quality=B\\n' + \\\n         'longestonly=false\\n' + \\\n         'IU ANMO * BHZ 2010-02-27 2010-02-27T00:00:02\\n' + \\\n         'IU AFI 1? BHE 2010-02-27 2010-02-27T00:00:04\\n' + \\\n         'GR GRA1 * BH? 2010-02-27 2010-02-27T00:00:02\\n'\nst = client.get_waveforms_bulk(bulk)\nprint(st)\n#st.plot()\n\n# \u5305\u542b request \u7684\u6587\u4ef6:\n#st = client.get_waveforms_bulk(\"request.txt\", attach_response=True)\n#st.remove_response(output=\"VEL\")"
      ]
    },
    {
      "cell_type": "markdown",
      "metadata": {},
      "source": [
        "## \u4e0b\u8f7d\u5730\u9707\u4e8b\u4ef6\n\u901a\u8fc7 :meth:`get_events <obspy.clients.fdsn.client.Client.get_events>` \u65b9\u6cd5\n\u53ef\u4ee5\u4ece\u670d\u52a1\u5668\u7533\u8bf7\u5730\u9707\u6570\u636e\uff0c\u7533\u8bf7\u7ed3\u679c\u8fd4\u56de :class:`Catalog <obspy.core.event.Catalog>` \u5bf9\u8c61\u3002\n\n\u7528 ``eventid`` \u7533\u8bf7\u5730\u9707\uff1a\n\n"
      ]
    },
    {
      "cell_type": "code",
      "execution_count": null,
      "metadata": {
        "collapsed": false
      },
      "outputs": [],
      "source": [
        "client = Client(\"IRIS\")\ncat = client.get_events(eventid=609301)\nprint(cat)"
      ]
    },
    {
      "cell_type": "markdown",
      "metadata": {},
      "source": [
        "\u7528\u8d77\u6b62\u65f6\u95f4\u548c\u9707\u7ea7\u7b49\u6761\u4ef6\u7b5b\u9009\u5730\u9707\uff0c\u7136\u540e\n\u5229\u7528 :class:`Catalog <obspy.core.event.Catalog>` \u7684\n:meth:`plot() <obspy.core.event.Catalog.plot>` \u65b9\u6cd5\u7ed8\u5236\u9707\u4e2d\u5206\u5e03\u56fe\uff1a\n\n"
      ]
    },
    {
      "cell_type": "code",
      "execution_count": null,
      "metadata": {
        "collapsed": false
      },
      "outputs": [],
      "source": [
        "t1 = UTCDateTime(\"2001-01-07T00:00:00\")\nt2 = UTCDateTime(\"2001-01-07T03:00:00\")\ncat = client.get_events(starttime=t1, endtime=t2, minmagnitude=4,\n                        catalog=\"ISC\")\nprint(cat)\ncat.plot(projection=\"ortho\")"
      ]
    },
    {
      "cell_type": "markdown",
      "metadata": {},
      "source": [
        "## \u4e0b\u8f7d\u53f0\u7ad9\u6570\u636e\n\u901a\u8fc7 :meth:`get_stations <obspy.clients.fdsn.client.Client.get_stations>` \u65b9\u6cd5\n\u53ef\u4ee5\u4ece\u670d\u52a1\u5668\u7533\u8bf7\u53f0\u7ad9\u6570\u636e\uff0c\n\u7533\u8bf7\u7ed3\u679c\u8fd4\u56de :class:`Inventory <obspy.core.inventory.inventory.Inventory>` \u5bf9\u8c61\uff1a\n\n"
      ]
    },
    {
      "cell_type": "code",
      "execution_count": null,
      "metadata": {
        "collapsed": false
      },
      "outputs": [],
      "source": [
        "inventory = client.get_stations(network=\"IU\", station=\"A*\",\n                                 starttime=t1,\n                                 endtime=t2, level=\"response\")  # \u7533\u8bf7\u6240\u6709\u53f0\u7ad9\u7684\u6240\u6709\u5206\u91cf\u548c\u4eea\u5668\u54cd\u5e94\u6587\u4ef6\nprint(inventory)"
      ]
    },
    {
      "cell_type": "markdown",
      "metadata": {},
      "source": [
        "\u5229\u7528 :class:`Inventory <obspy.core.inventory.inventory.Inventory>`\n\u7684 :meth:`plot() <obspy.core.inventory.inventory.Inventory.plot>` \u65b9\u6cd5\n\u7ed8\u5236\u53f0\u7ad9\u5206\u5e03\u56fe\uff1a\n\n"
      ]
    },
    {
      "cell_type": "code",
      "execution_count": null,
      "metadata": {
        "collapsed": false
      },
      "outputs": [],
      "source": [
        "inventory.plot(projection=\"local\")  # \u7ed8\u5236\u53f0\u7ad9\u5206\u5e03"
      ]
    },
    {
      "cell_type": "markdown",
      "metadata": {},
      "source": [
        "\u5229\u7528 :class:`Inventory <obspy.core.inventory.inventory.Inventory>`\n\u7684 :meth:`plot_response() <obspy.core.inventory.inventory.Inventory.plot_response>` \u65b9\u6cd5\n\u7ed8\u5236\u4eea\u5668\u54cd\u5e94\u6587\u4ef6\uff1a\n\n"
      ]
    },
    {
      "cell_type": "code",
      "execution_count": null,
      "metadata": {
        "collapsed": false
      },
      "outputs": [],
      "source": [
        "inventory.plot_response(min_freq=0.01, output=\"DISP\", station=\"ADK\", channel=\"BH?\")"
      ]
    }
  ],
  "metadata": {
    "kernelspec": {
      "display_name": "Python 3",
      "language": "python",
      "name": "python3"
    },
    "language_info": {
      "codemirror_mode": {
        "name": "ipython",
        "version": 3
      },
      "file_extension": ".py",
      "mimetype": "text/x-python",
      "name": "python",
      "nbconvert_exporter": "python",
      "pygments_lexer": "ipython3",
      "version": "3.8.0"
    }
  },
  "nbformat": 4,
  "nbformat_minor": 0
}