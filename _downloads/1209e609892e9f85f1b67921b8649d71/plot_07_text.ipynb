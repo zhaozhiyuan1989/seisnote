{
  "cells": [
    {
      "cell_type": "code",
      "execution_count": null,
      "metadata": {
        "collapsed": false
      },
      "outputs": [],
      "source": [
        "%matplotlib inline"
      ]
    },
    {
      "cell_type": "markdown",
      "metadata": {},
      "source": [
        "\n# \u6dfb\u52a0\u6587\u5b57\n\n\u5229\u7528 PyGMT \u7684 :meth:`pygmt.Figure.text` \u53ef\u4ee5\u6dfb\u52a0\u6587\u5b57\u3002\n\n<div class=\"alert alert-info\"><h4>Note</h4><p>\u53ef\u7ed3\u5408\u300a:doc:`gmtdoc:tutorial/texts`\u300b\n    \u548c\u300a:doc:`gmtdoc:module/text` \u6a21\u5757\u300b\u5b66\u4e60\u3002</p></div>\n"
      ]
    },
    {
      "cell_type": "markdown",
      "metadata": {},
      "source": [
        "## \u6700\u7b80\u5355\u7684\u793a\u4f8b\n\n\u82e5\u9700\u8981\u6dfb\u52a0\u6587\u5b57\uff0c\u5219\u5fc5\u987b\u7ed9\u51fa\u6587\u5b57\u7684 X \u548c Y \u5750\u6807\u4ee5\u53ca\u5177\u4f53\u7684\u6587\u5b57\uff0c\n\u5206\u522b\u8d4b\u4e88 ``x``\u3001``y`` \u4ee5\u53ca ``text`` \u9009\u9879\u3002\n\n"
      ]
    },
    {
      "cell_type": "code",
      "execution_count": null,
      "metadata": {
        "collapsed": false
      },
      "outputs": [],
      "source": [
        "import pygmt\n\nfig = pygmt.Figure()\nwith pygmt.config(MAP_FRAME_TYPE=\"plain\"):\n    fig.basemap(region=[108, 120, -5, 8], projection=\"M20c\", frame=\"a\")\nfig.coast(land=\"black\", water=\"skyblue\")\n\n# \u7ed8\u5236\u5355\u4e2a\u6587\u5b57\nfig.text(text=\"SOUTH CHINA SEA\", x=112, y=6)\n\n# \u7ed8\u5236\u591a\u4e2a\u6587\u5b57\u9700\u8981\u5199\u6210\u5217\u8868\u5f62\u5f0f\nfig.text(text=[\"CELEBES SEA\", \"JAVA SEA\"], x=[119, 112], y=[3.25, -4.6])\n\nfig.show()"
      ]
    },
    {
      "cell_type": "markdown",
      "metadata": {},
      "source": [
        "## \u6539\u53d8\u5b57\u4f53\u6837\u5f0f\n\n"
      ]
    },
    {
      "cell_type": "code",
      "execution_count": null,
      "metadata": {
        "collapsed": false
      },
      "outputs": [],
      "source": [
        "fig = pygmt.Figure()\nwith pygmt.config(MAP_FRAME_TYPE=\"plain\"):\n    fig.basemap(region=[108, 120, -5, 8], projection=\"M20c\", frame=\"a\")\nfig.coast(land=\"black\", water=\"skyblue\")\n\n# \u5229\u7528 font \u9009\u9879\u6539\u53d8\u5b57\u4f53\u6837\u5f0f\nfig.text(text=\"BORNEO\", x=114.0, y=0.5, font=\"22p,Helvetica-Bold,white\")\n\nfig.show()"
      ]
    },
    {
      "cell_type": "markdown",
      "metadata": {},
      "source": [
        "## \u6539\u53d8\u5bf9\u9f50\u65b9\u5f0f\n\n"
      ]
    },
    {
      "cell_type": "code",
      "execution_count": null,
      "metadata": {
        "collapsed": false
      },
      "outputs": [],
      "source": [
        "fig = pygmt.Figure()\nfig.basemap(region=[0, 3, 0, 3], projection=\"X10c\", frame=[\"WSne\", \"af0.5g\"])\nfor position in (\"TL\", \"TC\", \"TR\", \"ML\", \"MC\", \"MR\", \"BL\", \"BC\", \"BR\"):\n    fig.text(\n        text=position,\n        position=position,\n        font=\"28p,Helvetica-Bold,black\",\n        justify=position,\n    )\nfig.show()"
      ]
    },
    {
      "cell_type": "markdown",
      "metadata": {},
      "source": [
        "## \u6539\u53d8\u65cb\u8f6c\u89d2\u5ea6\n\n"
      ]
    },
    {
      "cell_type": "code",
      "execution_count": null,
      "metadata": {
        "collapsed": false
      },
      "outputs": [],
      "source": [
        "fig = pygmt.Figure()\nfig.basemap(region=[0, 4, 0, 4], projection=\"X5c\", frame=\"WSen\")\nfor i in range(0, 360, 30):\n    fig.text(text=f\"`          {i}@.\", x=2, y=2, justify=\"LM\", angle=i)\nfig.show()"
      ]
    },
    {
      "cell_type": "markdown",
      "metadata": {},
      "source": [
        "## \u6539\u53d8\u6587\u5b57\u586b\u5145\u989c\u8272\n\n"
      ]
    },
    {
      "cell_type": "code",
      "execution_count": null,
      "metadata": {
        "collapsed": false
      },
      "outputs": [],
      "source": [
        "fig = pygmt.Figure()\nfig.basemap(region=[0, 1, 0, 1], projection=\"X5c\", frame=\"WSen\")\nfig.text(text=\"Green\", x=0.5, y=0.5, fill=\"green\")\nfig.show()"
      ]
    },
    {
      "cell_type": "markdown",
      "metadata": {},
      "source": [
        "## \u793a\u4f8b\uff1a\u4ece\u672c\u5730\u8bfb\u53d6\u6587\u672c\n\n"
      ]
    },
    {
      "cell_type": "code",
      "execution_count": null,
      "metadata": {
        "collapsed": false
      },
      "outputs": [],
      "source": [
        "fig = pygmt.Figure()\nwith pygmt.config(MAP_FRAME_TYPE=\"plain\"):\n    fig.basemap(region=[108, 120, -5, 8], projection=\"M20c\", frame=\"a\")\nfig.coast(land=\"black\", water=\"skyblue\")\n\n# \u6784\u5efa\u8f93\u5165\u6587\u672c\nwith open(\"examples.txt\", \"w\") as f:\n    f.write(\"114 0.5 0 22p,Helvetica-Bold,white CM BORNEO\\n\")\n    f.write(\"119 3.25 0 12p,Helvetica-Bold,black CM CELEBES SEA\\n\")\n    f.write(\"112 -4.6 0 12p,Helvetica-Bold,black CM JAVA SEA\\n\")\n    f.write(\"112 6 40 12p,Helvetica-Bold,black CM SOUTH CHINA SEA\\n\")\n    f.write(\"119.12 7.25 -40 12p,Helvetica-Bold,black CM SULU SEA\\n\")\n    f.write(\"118.4 -1 65 12p,Helvetica-Bold,black CM MAKASSAR STRAIT\\n\")\n\n# \u524d\u4e24\u5217\u4e3a\u6587\u5b57\u6dfb\u52a0\u4f4d\u7f6e\uff0c\u7d27\u8ddf\u7684\u4e09\u5217\u5206\u522b\u662f\u201c\u65cb\u8f6c\u89d2\u5ea6/\u5b57\u4f53/\u5bf9\u9f50\u65b9\u5f0f\u201d\uff0c\n# \u6700\u540e\u4e00\u5217\u662f\u6587\u5b57\u5185\u5bb9\uff0c\u987a\u5e8f\u4e0d\u80fd\u53d8\uff01\n# \u8bbe\u7f6e angle/font/justify \u4e3a true \u8868\u793a\u6587\u672c\u4e2d\u6709\u8fd9\u4e9b\u5217\nfig.text(textfiles=\"examples.txt\", angle=True, font=True, justify=True)\nfig.show()\n\n# \u5220\u9664\u4e34\u65f6\u6587\u4ef6\nimport os\nos.remove(\"examples.txt\")"
      ]
    }
  ],
  "metadata": {
    "kernelspec": {
      "display_name": "Python 3",
      "language": "python",
      "name": "python3"
    },
    "language_info": {
      "codemirror_mode": {
        "name": "ipython",
        "version": 3
      },
      "file_extension": ".py",
      "mimetype": "text/x-python",
      "name": "python",
      "nbconvert_exporter": "python",
      "pygments_lexer": "ipython3",
      "version": "3.8.0"
    }
  },
  "nbformat": 4,
  "nbformat_minor": 0
}