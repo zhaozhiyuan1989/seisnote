{
  "cells": [
    {
      "cell_type": "code",
      "execution_count": null,
      "metadata": {
        "collapsed": false
      },
      "outputs": [],
      "source": [
        "%matplotlib inline"
      ]
    },
    {
      "cell_type": "markdown",
      "metadata": {},
      "source": [
        "\n# \u7ed8\u5236\u4e09\u7ef4\u6563\u70b9\u56fe\n\n\u5229\u7528 :meth:`pygmt.Figure.plot3d` \u7ed8\u5236\u4e09\u7ef4\u6563\u70b9\u56fe\u3002\n"
      ]
    },
    {
      "cell_type": "code",
      "execution_count": null,
      "metadata": {
        "collapsed": false
      },
      "outputs": [],
      "source": [
        "import pandas as pd\nimport pygmt\n\n#\u4ece iris \u670d\u52a1\u5668\u8bfb\u53d6\u6570\u636e \ndf = pd.read_csv(\"https://github.com/mwaskom/seaborn-data/raw/master/iris.csv\")\n\n# \u5c06 species \u5217\u6570\u636e\u683c\u5f0f\u8f6c\u4e3a category\ndf[\"species\"] = df.species.astype(dtype=\"category\")\n\n# \u5229\u7528 pygmt.info \u8bfb\u53d6\u7ed8\u56fe\u533a\u57df (xmin, xmax, ymin, ymax, zmin, zmax)\nregion = pygmt.info(\n    table=df[[\"petal_width\", \"sepal_length\", \"petal_length\"]],  # x, y, z c\n    per_column=True,  # \u8f93\u51fa\u4e3a numpy array \u683c\u5f0f\n    spacing=\"1/2/0.5\",  # x y z \u95f4\u8ddd\u5206\u522b\u4e3a 1, 2 \u548c 0.5\n)\n\n# \u7ed8\u5236\u4e09\u7ef4\u6563\u70b9\u56fe \nfig = pygmt.Figure()\npygmt.makecpt(cmap=\"cubhelix\", color_model=\"+c\", series=(0, 3, 1))\n\n# \u7528\u4e0d\u540c\u989c\u8272\u7ed8\u5236\u4e09\u4e2a\u4e0d\u540c\u79cd\u7c7b\u6570\u636e\nfig.plot3d(\n    x=df.petal_width,\n    y=df.sepal_length,\n    z=df.petal_length,\n    sizes=0.1 * df.sepal_width,  # \u6307\u5b9a\u7b26\u53f7\u5927\u5c0f\n    color=df.species.cat.codes.astype(int),  # P\u6307\u5b9a\u989c\u8272\n    cmap=True,  # \u4f7f\u7528 makecpt \u5236\u4f5c\u7684\u989c\u8272\u8868\n    region=region,  # (xmin, xmax, ymin, ymax, zmin, zmax)\n    frame=[\n        \"WsNeZ3\",  # z \u8f74\u6807\u6ce8\n        'xafg+l\"Petal Width\"',\n        'yafg+l\"Sepal Length\"',\n        'zafg+l\"Petal Length\"',\n    ],\n    style=\"uc\",  # \u7b26\u53f7\u79cd\u7c7b\u5927\u5c0f\n    perspective=[315, 25],  # \u89c6\u89d2\n    zscale=1.5,  # Z \u8f74\u9ad8\u5ea6\n)\nfig.show()"
      ]
    }
  ],
  "metadata": {
    "kernelspec": {
      "display_name": "Python 3",
      "language": "python",
      "name": "python3"
    },
    "language_info": {
      "codemirror_mode": {
        "name": "ipython",
        "version": 3
      },
      "file_extension": ".py",
      "mimetype": "text/x-python",
      "name": "python",
      "nbconvert_exporter": "python",
      "pygments_lexer": "ipython3",
      "version": "3.8.0"
    }
  },
  "nbformat": 4,
  "nbformat_minor": 0
}