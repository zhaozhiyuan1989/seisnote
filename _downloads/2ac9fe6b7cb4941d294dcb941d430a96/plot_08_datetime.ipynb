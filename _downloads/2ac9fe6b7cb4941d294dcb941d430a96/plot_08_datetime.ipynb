{
  "cells": [
    {
      "cell_type": "code",
      "execution_count": null,
      "metadata": {
        "collapsed": false
      },
      "outputs": [],
      "source": [
        "%matplotlib inline"
      ]
    },
    {
      "cell_type": "markdown",
      "metadata": {},
      "source": [
        "\n# \u8bfb\u53d6\u65e5\u671f\u6570\u636e\n\nPyGMT \u652f\u6301\u4ee5\u4e0b\u7c7b\u578b\u7684\u65e5\u671f\u6570\u636e\uff1a\n\n- :class:`numpy.datetime64`\n\n- :class:`pandas.DatetimeIndex`\n\n- :class:`xarray.DataArray`\n\n- ISO \u683c\u5f0f\u7684\u5b57\u7b26\u4e32\uff08\u6bd4\u5982 ``YYYY-MM-DD``\uff0c``YYYY-MM-DDTHH`` \u548c ``YYYY-MM-DDTHH:MM:SS``\uff09\n\n- Python \u5185\u7f6e\u7684 :class:`datetime.datetime` \u548c :class:`datetime.date`\n\n\u5c06\u4e0a\u8ff0\u4efb\u610f\u4e00\u79cd\u683c\u5f0f\u7684\u65e5\u671f\u6570\u636e\u4f20\u9012\u7ed9 :meth:`pygmt.Figure.plot` \u7684 ``x``\u3001``y`` \u9009\u9879\u5373\u53ef\u3002\n\n\u6b64\u65f6 ``region`` \u9009\u9879\u7684\u8f93\u5165\u683c\u5f0f\u4e3a *date_min/date_max/ymin/ymax*\u3002\n\n<div class=\"alert alert-info\"><h4>Note</h4><p>\u53ef\u7ed3\u5408\u300a:doc:`gmtdoc:basis/io-format`\u300b\n    \u548c\u300a:doc:`gmtdoc:conf/format`\u300b\u5b66\u4e60\u3002</p></div>\n"
      ]
    },
    {
      "cell_type": "code",
      "execution_count": null,
      "metadata": {
        "collapsed": false
      },
      "outputs": [],
      "source": [
        "import datetime\n\nimport numpy as np\nimport pandas as pd\nimport pygmt\nimport xarray as xr\n\nfig = pygmt.Figure()\n\n# \u521b\u5efa\u5e95\u56fe\uff0cx \u8f74\u8303\u56f4\u4e3a 2010-01-01 \u5230 2020-06-01\uff0cy \u8f74\u8303\u56f4\u4e3a 0 \u5230 10 \nfig.basemap(\n    projection=\"X15c/5c\", region=\"2010-01-01/2020-06-01/0/10\", frame=[\"WSen\", \"af\"]\n)\n\n# numpy.datetime64 \u683c\u5f0f\nx = np.array([\"2010-06-01\", \"2011-06-01T12\", \"2012-01-01T12:34:56\"], dtype=\"datetime64\")\ny = [1, 2, 3]\nfig.plot(x, y, style=\"c0.4c\", pen=\"1p\", color=\"red3\")\n\n# pandas.DatetimeIndex \u683c\u5f0f\nx = pd.date_range(\"2013\", periods=3, freq=\"YS\")\ny = [4, 5, 6]\nfig.plot(x, y, style=\"t0.4c\", pen=\"1p\", color=\"gold\")\n\n# xarray.DataArray \u683c\u5f0f\nx = xr.DataArray(data=pd.date_range(start=\"2015-03\", periods=3, freq=\"QS\"))\ny = [7.5, 6, 4.5]\nfig.plot(x, y, style=\"s0.4c\", pen=\"1p\")\n\n# raw datetime strings \u683c\u5f0f\nx = [\"2016-02-01\", \"2016-06-04T14\", \"2016-10-04T00:00:15\"]\ny = [7, 8, 9]\nfig.plot(x, y, style=\"a0.4c\", pen=\"1p\", color=\"dodgerblue\")\n\n# Python \u5185\u7f6e datetime and date\nx = [datetime.date(2018, 1, 1), datetime.datetime(2019, 6, 1, 20, 5, 45)]\ny = [6.5, 4.5]\nfig.plot(x, y, style=\"i0.4c\", pen=\"1p\", color=\"seagreen\")\n\nfig.show()"
      ]
    }
  ],
  "metadata": {
    "kernelspec": {
      "display_name": "Python 3",
      "language": "python",
      "name": "python3"
    },
    "language_info": {
      "codemirror_mode": {
        "name": "ipython",
        "version": 3
      },
      "file_extension": ".py",
      "mimetype": "text/x-python",
      "name": "python",
      "nbconvert_exporter": "python",
      "pygments_lexer": "ipython3",
      "version": "3.8.0"
    }
  },
  "nbformat": 4,
  "nbformat_minor": 0
}