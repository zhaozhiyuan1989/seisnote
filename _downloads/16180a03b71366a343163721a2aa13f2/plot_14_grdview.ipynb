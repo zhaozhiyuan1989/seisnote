{
  "cells": [
    {
      "cell_type": "code",
      "execution_count": null,
      "metadata": {
        "collapsed": false
      },
      "outputs": [],
      "source": [
        "%matplotlib inline"
      ]
    },
    {
      "cell_type": "markdown",
      "metadata": {},
      "source": [
        "\n# \u7ed8\u5236 3D \u66f2\u9762\n\n\u5229\u7528 :meth:`pygmt.Figure.grdview` \u7ed8\u5236 3D \u66f2\u9762\u3002\n"
      ]
    },
    {
      "cell_type": "markdown",
      "metadata": {},
      "source": [
        "\u9996\u5148\u5229\u7528 :func:`pygmt.datasets.load_earth_relief` \u4ece GMT \u670d\u52a1\u5668\u8bfb\u53d6\u5730\u5f62\u6570\u636e\uff1a \n\n"
      ]
    },
    {
      "cell_type": "code",
      "execution_count": null,
      "metadata": {
        "collapsed": false
      },
      "outputs": [],
      "source": [
        "import pygmt\ngrid = pygmt.datasets.load_earth_relief(resolution=\"05m\", region=[-108, -103, 35, 40])"
      ]
    },
    {
      "cell_type": "markdown",
      "metadata": {},
      "source": [
        "\u5229\u7528  :meth:`pygmt.Figure.grdview` \u8bfb\u53d6\u7f51\u683c\u6587\u4ef6\u540e\u7ed8\u5236 3D \u66f2\u9762\uff0c\n``perspective`` \u9009\u9879\u63a7\u5236\u4e86\u89c6\u89d2\uff0c``zsize`` \u63a7\u5236\u4e86 3D \u56fe\u5728 Z \u65b9\u5411\u4e0a\u7684\u9ad8\u5ea6\uff1a\n\n"
      ]
    },
    {
      "cell_type": "code",
      "execution_count": null,
      "metadata": {
        "collapsed": false
      },
      "outputs": [],
      "source": [
        "fig = pygmt.Figure()\nfig.grdview(\n    grid=grid,\n    # \u89c6\u89d2\u65b9\u4f4d 130\u00b0\uff0c\u9ad8\u5ea6 30\u00b0\n    perspective=[130, 30],\n    # \u8bbe\u7f6e\u8fb9\u6846\u663e\u793a\u65b9\u5f0f\n    frame=[\"xa\", \"ya\", \"WSnE\"],\n    # S\u8bbe\u7f6e\u6295\u5f71\u65b9\u5f0f\n    projection=\"M15c\",\n    # \u8bbe\u7f6e Z \u65b9\u5411\u9ad8\u5ea6\n    zsize=\"1.5c\",\n)\nfig.show()"
      ]
    },
    {
      "cell_type": "code",
      "execution_count": null,
      "metadata": {
        "collapsed": false
      },
      "outputs": [],
      "source": [
        "fig = pygmt.Figure()\nfig.grdview(\n    grid=grid,\n    perspective=[130, 30],\n    frame=[\"xa\", \"ya\", \"WSnE\"],\n    projection=\"M15c\",\n    zsize=\"1.5c\",\n    # \u8bbe\u7f6e surftype \u4e3a \"surface\" \u8fdb\u884c\u5e73\u6ed1\n    surftype=\"s\",\n)\nfig.show()"
      ]
    },
    {
      "cell_type": "code",
      "execution_count": null,
      "metadata": {
        "collapsed": false
      },
      "outputs": [],
      "source": [
        "fig = pygmt.Figure()\nfig.grdview(\n    grid=grid,\n    perspective=[-130, 30],  # \u8bbe\u7f6e 3D \u89c6\u89d2\n    frame=[\"xaf\", \"yaf\", \"WSnE\"],\n    projection=\"M15c\",\n    zsize=\"1.5c\",\n    surftype=\"s\",\n    cmap=\"geo\",  # \u8bbe\u7f6e CPT\n    plane=\"1000+ggrey\",  # \u8bbe\u7f6e\u5e73\u9762\u9ad8\u5ea6 1000m\uff0c\u5730\u8868\u4e0b\u586b\u5145\u7070\u8272\n    contourpen=\"0.1p\",  # \u8bbe\u7f6e\u7b49\u9ad8\u7ebf\u6837\u5f0f\n)\nfig.colorbar(perspective=True, frame=[\"a500\", \"x+lElevation\", \"y+lm\"])  # \u8bbe\u7f6e perspective \u9009\u9879\u8ba9 colorbar \u4e0e\u56fe\u7247\u89d2\u5ea6\u4e00\u81f4\nfig.show()"
      ]
    },
    {
      "cell_type": "code",
      "execution_count": null,
      "metadata": {
        "collapsed": false
      },
      "outputs": [],
      "source": [
        "import numpy as np\nimport pygmt\nimport xarray as xr\n\n\n# \u5b9a\u4e49\u4e00\u4e2a\u6709\u8da3\u7684\u51fd\u6570\n# https://en.wikipedia.org/wiki/Ackley_function\ndef ackley(x, y):\n    return (\n        -20 * np.exp(-0.2 * np.sqrt(0.5 * (x ** 2 + y ** 2)))\n        - np.exp(0.5 * (np.cos(2 * np.pi * x) + np.cos(2 * np.pi * y)))\n        + np.exp(1)\n        + 20\n    )\n\n\n# \u521b\u5efa\u7f51\u683c\u6570\u636e\nINC = 0.05\nx = np.arange(-5, 5 + INC, INC)\ny = np.arange(-5, 5 + INC, INC)\ndata = xr.DataArray(ackley(*np.meshgrid(x, y)), coords=(x, y))\n\nfig = pygmt.Figure()\n\n# \u7ed8\u5236 3D \u66f2\u9762\nSCALE = 0.5  \nfig.grdview(\n    data,\n    frame=[\"a5f1\", \"za5f1\"],\n    projection=f\"x{SCALE}c\",\n    zscale=f\"{SCALE}c\",\n    surftype=\"s\",\n    cmap=\"roma\",\n    perspective=[135, 30],  \n    shading=\"+a45\",\n)\n\nfig.show()"
      ]
    }
  ],
  "metadata": {
    "kernelspec": {
      "display_name": "Python 3",
      "language": "python",
      "name": "python3"
    },
    "language_info": {
      "codemirror_mode": {
        "name": "ipython",
        "version": 3
      },
      "file_extension": ".py",
      "mimetype": "text/x-python",
      "name": "python",
      "nbconvert_exporter": "python",
      "pygments_lexer": "ipython3",
      "version": "3.8.0"
    }
  },
  "nbformat": 4,
  "nbformat_minor": 0
}