{
  "cells": [
    {
      "cell_type": "code",
      "execution_count": null,
      "metadata": {
        "collapsed": false
      },
      "outputs": [],
      "source": [
        "%matplotlib inline"
      ]
    },
    {
      "cell_type": "markdown",
      "metadata": {},
      "source": [
        "\n# \u5bf9\u7f51\u683c\u6587\u4ef6\u91c7\u6837\n\n\u5229\u7528 :func:`pygmt.grdtrack` \u5bf9\u7f51\u683c\u6587\u4ef6\u8fdb\u884c\u91c7\u6837\u3002\n"
      ]
    },
    {
      "cell_type": "code",
      "execution_count": null,
      "metadata": {
        "collapsed": false
      },
      "outputs": [],
      "source": [
        "import pygmt\n\n# \u4ece GMT \u670d\u52a1\u5668\u52a0\u8f7d\u5730\u5f62\u6570\u636e\ngrid = pygmt.datasets.load_earth_relief()\n# \u4ece GMT \u670d\u52a1\u5668\u52a0\u8f7d\u6d0b\u4e2d\u810a\u6570\u636e \npoints = pygmt.datasets.load_ocean_ridge_points()\n# \u6cbf\u8f68\u8ff9\u70b9\u5bf9\u6d0b\u4e2d\u810a\u6d4b\u6df1\ntrack = pygmt.grdtrack(points=points, grid=grid, newcolname=\"bathymetry\")\n\nfig = pygmt.Figure()\nfig.basemap(region=\"g\", frame=True, projection=\"Cyl_stere/150/-20/15c\")\nfig.grdimage(grid=grid, cmap=\"gray\")\nfig.coast(land=\"#666666\")\n\nfig.plot(\n    x=track.longitude,\n    y=track.latitude,\n    style=\"c0.15c\",\n    cmap=\"terra\",\n    color=(track.bathymetry - track.bathymetry.mean()) / track.bathymetry.std(),\n)\nfig.show()"
      ]
    }
  ],
  "metadata": {
    "kernelspec": {
      "display_name": "Python 3",
      "language": "python",
      "name": "python3"
    },
    "language_info": {
      "codemirror_mode": {
        "name": "ipython",
        "version": 3
      },
      "file_extension": ".py",
      "mimetype": "text/x-python",
      "name": "python",
      "nbconvert_exporter": "python",
      "pygments_lexer": "ipython3",
      "version": "3.8.0"
    }
  },
  "nbformat": 4,
  "nbformat_minor": 0
}