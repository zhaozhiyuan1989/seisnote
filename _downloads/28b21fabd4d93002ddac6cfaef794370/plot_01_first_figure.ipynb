{
  "cells": [
    {
      "cell_type": "code",
      "execution_count": null,
      "metadata": {
        "collapsed": false
      },
      "outputs": [],
      "source": [
        "%matplotlib inline"
      ]
    },
    {
      "cell_type": "markdown",
      "metadata": {},
      "source": [
        "\n# \u547d\u4ee4\u521d\u63a2\n\n\u672c\u8282\u7b80\u5355\u4ecb\u7ecd PyGMT \u7684\u4e00\u4e9b\u57fa\u672c\u6982\u5ff5\u3002\n\n<div class=\"alert alert-info\"><h4>Note</h4><p></p></div>\n \n   PyGMT \u91c7\u7528 GMT6 \u7684\u73b0\u4ee3\u6a21\u5f0f\u6267\u884c\u7ed8\u56fe\u547d\u4ee4\uff0c\u4e0e\u4f20\u7edf\u6a21\u5f0f\u76f8\u6bd4\u6709\u4e86\u8f83\u5927\u6539\u53d8\u3002\n   \u7ecf\u5178\u6a21\u5f0f\u548c\u73b0\u4ee3\u6a21\u5f0f\u7684\u533a\u522b\u8bf7\u53c2\u8003\u300a\\ :doc:`gmtdoc:migrating/classic2modern`\\ \u300b\u3002\n"
      ]
    },
    {
      "cell_type": "markdown",
      "metadata": {},
      "source": [
        "\u9996\u5148\u5bfc\u5165 :mod:`pygmt` \u6a21\u5757\uff1a\n\n"
      ]
    },
    {
      "cell_type": "code",
      "execution_count": null,
      "metadata": {
        "collapsed": false
      },
      "outputs": [],
      "source": [
        "import pygmt"
      ]
    },
    {
      "cell_type": "markdown",
      "metadata": {},
      "source": [
        "\u5229\u7528 :class:`pygmt.Figure` \u7c7b\u521b\u5efa\u5b9e\u4f8b\uff1a\n\n"
      ]
    },
    {
      "cell_type": "code",
      "execution_count": null,
      "metadata": {
        "collapsed": false
      },
      "outputs": [],
      "source": [
        "fig = pygmt.Figure()"
      ]
    },
    {
      "cell_type": "markdown",
      "metadata": {},
      "source": [
        "\u4f7f\u7528 :meth:`pygmt.Figure.basemap` \u65b9\u6cd5\u6765\u6dfb\u52a0\u5143\u7d20\uff0c\n\u7ed9\u5b9a\u7ed8\u56fe\u7ecf\u7eac\u5ea6\u8303\u56f4\u3001\u6295\u5f71\u65b9\u5f0f\u4ee5\u53ca\u8fb9\u6846\u5c5e\u6027\u3002\n``region`` \u9009\u9879\u53ef\u4ee5\u91c7\u7528\u5982\u4e0b\u5217\u8868\u5f62\u5f0f\uff0c\u4e5f\u53ef\u4ee5\u91c7\u7528\u5b57\u7b26\u4e32\u5f62\u5f0f ``1/2/3/4`` \uff1a\n\n"
      ]
    },
    {
      "cell_type": "code",
      "execution_count": null,
      "metadata": {
        "collapsed": false
      },
      "outputs": [],
      "source": [
        "fig.basemap(region=[-90, -70, 0, 20], projection=\"M16c\", frame=True)"
      ]
    },
    {
      "cell_type": "markdown",
      "metadata": {},
      "source": [
        "\u5229\u7528 :meth:`pygmt.Figure.coast` \u65b9\u6cd5\u6dfb\u52a0\u6d77\u5cb8\u7ebf\u6570\u636e\uff0c\n\u91c7\u7528\u4e0e\u524d\u6587\u76f8\u540c\u7684\u53c2\u6570\u7ed8\u56fe\u65f6\u53ef\u4ee5\u7701\u7565\u9009\u9879\uff1a\n\n"
      ]
    },
    {
      "cell_type": "code",
      "execution_count": null,
      "metadata": {
        "collapsed": false
      },
      "outputs": [],
      "source": [
        "fig.coast(shorelines=True)"
      ]
    },
    {
      "cell_type": "markdown",
      "metadata": {},
      "source": [
        "\u5229\u7528 :meth:`pygmt.Figure.show` \u65b9\u6cd5\u663e\u793a\u56fe\u50cf\uff1a\n\n"
      ]
    },
    {
      "cell_type": "code",
      "execution_count": null,
      "metadata": {
        "collapsed": false
      },
      "outputs": [],
      "source": [
        "fig.show()"
      ]
    },
    {
      "cell_type": "markdown",
      "metadata": {},
      "source": [
        "\u5f53\u7136\uff0c\u6211\u4eec\u4e5f\u53ef\u4ee5\u76f4\u63a5\u901a\u8fc7 :meth:`pygmt.Figure.coast` \u65b9\u6cd5\u8bbe\u7f6e\u5730\u56fe\u533a\u57df\uff0c\u6295\u5f71\u548c\u6846\u67b6\u7c7b\u578b\uff0c\n\u800c\u65e0\u9700\u8c03\u7528 :meth:`gmt.Figure.basemap` \u65b9\u6cd5\uff1a \n\n"
      ]
    },
    {
      "cell_type": "code",
      "execution_count": null,
      "metadata": {
        "collapsed": false
      },
      "outputs": [],
      "source": [
        "fig = pygmt.Figure()\nfig.coast(shorelines=True, region=[-90, -70, 0, 20], projection=\"M16c\", frame=True)\nfig.show()"
      ]
    },
    {
      "cell_type": "markdown",
      "metadata": {},
      "source": [
        "\u6700\u540e\u53ef\u4ee5\u9009\u62e9\u5229\u7528 :meth:`pygmt.Figure.savefig` \u65b9\u6cd5\u5c06\u56fe\u7247\u4fdd\u5b58\u5230\u672c\u5730\uff0c\n\n.. code:: python\n\n    fig.savefig(\"central-america-shorelines.png\")\n\n\n"
      ]
    }
  ],
  "metadata": {
    "kernelspec": {
      "display_name": "Python 3",
      "language": "python",
      "name": "python3"
    },
    "language_info": {
      "codemirror_mode": {
        "name": "ipython",
        "version": 3
      },
      "file_extension": ".py",
      "mimetype": "text/x-python",
      "name": "python",
      "nbconvert_exporter": "python",
      "pygments_lexer": "ipython3",
      "version": "3.8.0"
    }
  },
  "nbformat": 4,
  "nbformat_minor": 0
}