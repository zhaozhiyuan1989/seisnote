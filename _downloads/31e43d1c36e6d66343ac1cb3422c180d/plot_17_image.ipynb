{
  "cells": [
    {
      "cell_type": "code",
      "execution_count": null,
      "metadata": {
        "collapsed": false
      },
      "outputs": [],
      "source": [
        "%matplotlib inline"
      ]
    },
    {
      "cell_type": "markdown",
      "metadata": {},
      "source": [
        "\n# \u5728\u5730\u56fe\u4e0a\u6dfb\u52a0\u56fe\u7247\n\n\u5229\u7528 :meth:`pygmt.Figure.image` \u53ef\u4ee5\u8bfb\u53d6 EPS \u6587\u4ef6\n\u6216\u4efb\u610f\u4e00\u4e2a\u5149\u6805\u56fe\u7247\u6587\u4ef6\uff0c\u5e76\u5c06\u5176\u753b\u5728\u56fe\u4e0a\u3002\n\n<div class=\"alert alert-info\"><h4>Note</h4><p>\u53ef\u7ed3\u5408\u300a:doc:`gmtdoc:module/image` \u6a21\u5757\u300b\u5b66\u4e60\u3002</p></div>\n"
      ]
    },
    {
      "cell_type": "code",
      "execution_count": null,
      "metadata": {
        "collapsed": false
      },
      "outputs": [],
      "source": [
        "import pygmt\n\nfig = pygmt.Figure()\n\nfig.basemap(region=[0, 2, 0, 2], projection=\"X6c\", frame=True)\n\nfig.image(\n    # 1. \u53ef\u76f4\u63a5\u5c06 URL \u4f20\u9012\u7ed9 imagefile \u9009\u9879\n    # 2. \u4e5f\u53ef\u5c06\u6587\u4ef6\u540d\u4f5c\u4e3a\u5b57\u7b26\u4e32\u4f20\u9012\u7ed9 imagefile \u9009\u9879\n    # 3. \u6216\u8005\u7701\u7565 imagefile \u76f4\u63a5\u628a\u6587\u4ef6\u540d\u653e\u5728\u7b2c\u4e00\u4e2a\u4f4d\u7f6e\n    imagefile=\"https://docs.gmt-china.org/latest/_images/GMT6_Summit_2019.jpg\",\n    position=\"g1/1+w4c+jCM\",\n    box=True,\n)\n\nfig.show()\n\n# \u5220\u9664\u4e34\u65f6\u6587\u4ef6\nimport os\nos.remove('GMT6_Summit_2019.jpg')"
      ]
    }
  ],
  "metadata": {
    "kernelspec": {
      "display_name": "Python 3",
      "language": "python",
      "name": "python3"
    },
    "language_info": {
      "codemirror_mode": {
        "name": "ipython",
        "version": 3
      },
      "file_extension": ".py",
      "mimetype": "text/x-python",
      "name": "python",
      "nbconvert_exporter": "python",
      "pygments_lexer": "ipython3",
      "version": "3.8.0"
    }
  },
  "nbformat": 4,
  "nbformat_minor": 0
}