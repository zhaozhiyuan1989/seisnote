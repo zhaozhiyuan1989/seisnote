{
  "cells": [
    {
      "cell_type": "code",
      "execution_count": null,
      "metadata": {
        "collapsed": false
      },
      "outputs": [],
      "source": [
        "%matplotlib inline"
      ]
    },
    {
      "cell_type": "markdown",
      "metadata": {},
      "source": [
        "\n# \u6dfb\u52a0\u56fe\u4f8b\n\n\u5f53\u5229\u7528 :meth:`pygmt.Figure.plot` \u7ed8\u56fe\u65f6\u4e3a ``label`` \u9009\u9879\u8d4b\u503c\uff0c\n:meth:`pygmt.Figure.legend` \u4f1a\u81ea\u52a8\u4ea7\u751f\u56fe\u4f8b\u3002\n\n<div class=\"alert alert-info\"><h4>Note</h4><p>\u53ef\u7ed3\u5408\u300a:doc:`gmtdoc:module/legend` \u6a21\u5757\u300b\u548c\u300a:doc:`gmtdoc:tutorial/legend`\u300b\u5b66\u4e60\u3002</p></div>\n"
      ]
    },
    {
      "cell_type": "code",
      "execution_count": null,
      "metadata": {
        "collapsed": false
      },
      "outputs": [],
      "source": [
        "import pygmt\n\nfig = pygmt.Figure()\n\nfig.basemap(projection=\"x1i\", region=[0, 7, 3, 7], frame=True)\n\nfig.plot(\n    data=\"@Table_5_11.txt\",\n    style=\"c0.15i\",\n    color=\"lightgreen\",\n    pen=\"faint\",\n    label=\"Apples\",\n)\nfig.plot(data=\"@Table_5_11.txt\", pen=\"1.5p,gray\", label='\"My lines\"')\nfig.plot(data=\"@Table_5_11.txt\", style=\"t0.15i\", color=\"orange\", label=\"Oranges\")\n\nfig.legend(position=\"JTR+jTR+o0.2c\", box=True)\n\nfig.show()"
      ]
    },
    {
      "cell_type": "code",
      "execution_count": null,
      "metadata": {
        "collapsed": false
      },
      "outputs": [],
      "source": [
        "import numpy as np\nimport pygmt\n\nnp.random.seed(19680801)\nn = 200  # \u521b\u5efa\u7684\u6570\u636e\u70b9\u4e2a\u6570\n\nfig = pygmt.Figure()\nfig.basemap(\n    region=[-0.1, 1.1, -0.1, 1.1],\n    projection=\"X10c/10c\",\n    frame=[\"xa0.2fg\", \"ya0.2fg\", \"WSrt\"],\n)\nfor color in [\"blue\", \"orange\", \"green\"]:\n    x, y = np.random.rand(2, n)  # x y \u8303\u56f4 [0,1]\n    sizes = np.random.rand(n) * 0.5  # \u8303\u56f4 [0,0.5], in cm\n\n    fig.plot(\n        x=x,\n        y=y,\n        style=\"cc\",\n        sizes=sizes,\n        color=color,\n        # \u8bbe\u7f6e\u56fe\u4f8b\n        # \u8bbe\u7f6e\u56fe\u4f8b\u4e2d\u7684\u7b26\u53f7\u5927\u5c0f\u4e3a 0.25 cm (+S0.25c)\n        label=f\"{color}+S0.25c\",\n        transparency=70,  # \u8bbe\u7f6e\u6240\u6709\u7b26\u53f7\u7684\u900f\u660e\u5ea6\n    )\n\nfig.legend(transparency=30)  # \u8bbe\u7f6e\u56fe\u4f8b\u7684\u900f\u660e\u5ea6\nfig.show()"
      ]
    }
  ],
  "metadata": {
    "kernelspec": {
      "display_name": "Python 3",
      "language": "python",
      "name": "python3"
    },
    "language_info": {
      "codemirror_mode": {
        "name": "ipython",
        "version": 3
      },
      "file_extension": ".py",
      "mimetype": "text/x-python",
      "name": "python",
      "nbconvert_exporter": "python",
      "pygments_lexer": "ipython3",
      "version": "3.8.0"
    }
  },
  "nbformat": 4,
  "nbformat_minor": 0
}