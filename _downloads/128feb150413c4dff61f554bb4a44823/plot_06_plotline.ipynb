{
  "cells": [
    {
      "cell_type": "code",
      "execution_count": null,
      "metadata": {
        "collapsed": false
      },
      "outputs": [],
      "source": [
        "%matplotlib inline"
      ]
    },
    {
      "cell_type": "markdown",
      "metadata": {},
      "source": [
        "\n# \u7ed8\u5236\u7ebf\u6761\n\n\u5229\u7528 PyGMT \u7684 :meth:`pygmt.Figure.plot` \u53ef\u4ee5\u7ed8\u5236\u7ebf\u6761\u3002\n\n<div class=\"alert alert-info\"><h4>Note</h4><p>\u53ef\u7ed3\u5408\u300a:doc:`gmtdoc:tutorial/lines`\u300b\n    \u548c\u300a:doc:`gmtdoc:module/plot` \u6a21\u5757\u300b\u5b66\u4e60\u3002</p></div>\n"
      ]
    },
    {
      "cell_type": "markdown",
      "metadata": {},
      "source": [
        "## \u7ed8\u5236\u5355\u6761\u7ebf\u6bb5\n\n"
      ]
    },
    {
      "cell_type": "code",
      "execution_count": null,
      "metadata": {
        "collapsed": false
      },
      "outputs": [],
      "source": [
        "import pygmt\nfig = pygmt.Figure()\nfig.plot(\n    region=[0, 10, 0, 10],  \n    projection=\"X25c/20c\",  # \u8bbe\u7f6e\u6295\u5f71\u65b9\u5f0f\u4e3a\u7b1b\u5361\u5c14\u5750\u6807\n    frame=\"a\",\n    x=[1, 8],\n    y=[5, 9],  # \uff081\uff0c5\uff09\u548c\uff088\uff0c9\uff09\u4e24\u70b9\u8fde\u6210\u4e00\u6761\u7ebf\n    pen=\"1p,black\",\n)\nfig.show()"
      ]
    },
    {
      "cell_type": "code",
      "execution_count": null,
      "metadata": {
        "collapsed": false
      },
      "outputs": [],
      "source": [
        "fig = pygmt.Figure()\nfig.plot(\n    region=[0, 10, 0, 10],\n    projection=\"X25c/20c\",\n    frame=\"a\",\n    x=[1, 6, 9],\n    y=[5, 7, 4],  # \u4e09\u4e2a\u70b9\u76f8\u8fde\n    pen=\"1p,black\",\n)\nfig.show()"
      ]
    },
    {
      "cell_type": "markdown",
      "metadata": {},
      "source": [
        "## \u7ed8\u5236\u591a\u6761\u7ebf\u6bb5\n\n"
      ]
    },
    {
      "cell_type": "code",
      "execution_count": null,
      "metadata": {
        "collapsed": false
      },
      "outputs": [],
      "source": [
        "fig = pygmt.Figure()\n\n# \u7ed8\u5236\u7b2c\u4e00\u6761\u7ebf\u6bb5\nfig.plot(\n    region=[0, 10, 0, 10],\n    projection=\"X25c/20c\",\n    frame=\"a\",\n    x=[1, 6, 9],\n    y=[5, 7, 4],\n    pen=\"2p,blue,..-\",\n)\n\n# \u7ed8\u5236\u7b2c\u4e8c\u6761\u7ebf\u6bb5\nfig.plot(x=[2, 4, 10], y=[3, 8, 9], pen=\"2p,red,-.-\")\nfig.show()"
      ]
    },
    {
      "cell_type": "markdown",
      "metadata": {},
      "source": [
        "## \u7ebf\u6761\u6837\u5f0f\n\n"
      ]
    },
    {
      "cell_type": "code",
      "execution_count": null,
      "metadata": {
        "collapsed": false
      },
      "outputs": [],
      "source": [
        "import numpy as np\nimport pygmt\n\n# \u751f\u6210\u7ed8\u5236\u7ebf\u6bb5\u6240\u7528\u7684\u4e24\u4e2a\u70b9\nx = np.array([0, 7])\ny = np.array([9, 9])\n\nfig = pygmt.Figure()\nfig.basemap(region=[0, 10, 0, 10], projection=\"X15c/8c\", frame='+t\"Line Styles\"')\n\n# \u5229\u7528\u9ed8\u8ba4\u6837\u5f0f\u7ed8\u5236\u7ebf\u6bb5\nfig.plot(x=x, y=y)\nfig.text(x=x[-1], y=y[-1], text=\"solid (default)\", justify=\"ML\", offset=\"0.2c/0c\")\n\n# \u5229\u7528\u4e0d\u540c\u7684\u7ebf\u6761\u6837\u5f0f\u7ed8\u56fe\nfor linestyle in [\n    \"1p,red,-\",  # dashed line\n    \"1p,blue,.\",  # dotted line\n    \"1p,lightblue,-.\",  # dash-dotted line\n    \"2p,blue,..-\",  # dot-dot-dashed line\n    \"2p,tomato,--.\",  # dash-dash-dotted line\n    \"2p,tomato,4_2:2p\",  # A pattern of 4-point-long line segment and 2-point-gap between segment\n]:\n    y -= 1  # \u7ed8\u5236\u5b8c\u6210\u540e\u5411\u4e0b\u79fb\u52a8\n    fig.plot(x=x, y=y, pen=linestyle)\n    fig.text(x=x[-1], y=y[-1], text=linestyle, justify=\"ML\", offset=\"0.2c/0c\")\n\n# \u7ed8\u5236\u706b\u8f66\u8f68\u9053\u7ebf\n# \u96be\u70b9\u5728\u4e8e\u8981\u5148\u7ed8\u5236\u9ed1\u7ebf\u518d\u7ed8\u5236\u767d\u7ebf\ny -= 1  \nfig.plot(x=x, y=y, pen=\"5p,black\")\nfig.plot(x=x, y=y, pen=\"4p,white,20p_20p\")\nfig.text(x=x[-1], y=y[-1], text=\"5p,black\", justify=\"ML\", offset=\"0.2c/0.2c\")\nfig.text(x=x[-1], y=y[-1], text=\"4p,white,20p_20p\", justify=\"ML\", offset=\"0.2c/-0.2c\")\n\nfig.show()"
      ]
    },
    {
      "cell_type": "markdown",
      "metadata": {},
      "source": [
        "## \u81ea\u5b9a\u4e49\u7ebf\u6761\u989c\u8272\n\n\u5229\u7528 :meth:`pygmt.Figure.plot` \u7ed8\u56fe\u65f6\uff0c\u8bbe\u7f6e ``cmap=True`` \u4ee5\u53ca ``pen=+z``\nPyGMT \u5c31\u4f1a\u6839\u636e ``zvalue`` \u9009\u9879\u7684\u503c\u6620\u5c04\u989c\u8272\u8868\u3002\n\n"
      ]
    },
    {
      "cell_type": "code",
      "execution_count": null,
      "metadata": {
        "collapsed": false
      },
      "outputs": [],
      "source": [
        "import numpy as np\nimport pygmt\n\n# \u6784\u5efa x \u5750\u6807\u6570\u636e\u96c6\nx = np.arange(start=20, stop=30, step=0.2)\n\nfig = pygmt.Figure()\nfig.basemap(frame=[\"WSne\", \"af\"], region=[20, 30, -10, 10])\n\n# \u5236\u4f5c\u81ea\u5b9a\u4e49 CPT\npygmt.makecpt(cmap=\"batlow\", series=[0, 10, 1])\n\n# \u7ed8\u5236 10 \u6761\u4e0d\u540c zvalue \u503c\u7684\u7ebf\u6761\nfor zvalue in range(0, 10):\n    y = zvalue * np.sin(x)\n    fig.plot(x=x, y=y, cmap=True, zvalue=zvalue, pen=\"thick,+z,-\")\n# \u663e\u793a colorbar\nfig.colorbar()\nfig.show()"
      ]
    }
  ],
  "metadata": {
    "kernelspec": {
      "display_name": "Python 3",
      "language": "python",
      "name": "python3"
    },
    "language_info": {
      "codemirror_mode": {
        "name": "ipython",
        "version": 3
      },
      "file_extension": ".py",
      "mimetype": "text/x-python",
      "name": "python",
      "nbconvert_exporter": "python",
      "pygments_lexer": "ipython3",
      "version": "3.8.0"
    }
  },
  "nbformat": 4,
  "nbformat_minor": 0
}