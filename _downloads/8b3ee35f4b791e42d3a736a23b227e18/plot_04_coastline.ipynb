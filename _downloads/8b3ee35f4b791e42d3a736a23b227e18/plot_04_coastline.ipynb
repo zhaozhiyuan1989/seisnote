{
  "cells": [
    {
      "cell_type": "code",
      "execution_count": null,
      "metadata": {
        "collapsed": false
      },
      "outputs": [],
      "source": [
        "%matplotlib inline"
      ]
    },
    {
      "cell_type": "markdown",
      "metadata": {},
      "source": [
        "\n# \u7ed8\u5236\u6d77\u5cb8\u7ebf\n\nPyGMT \u5229\u7528 :meth:`pygmt.Figure.coast` \u65b9\u6cd5\u7ed8\u5236\u6d77\u5cb8\u7ebf\uff0c\n\u8be5\u65b9\u6cd5\u4e0d\u4ec5\u53ef\u4ee5\u7ed8\u5236\u6d77\u5cb8\u7ebf\u548c\u6e56\u5cb8\u7ebf\uff0c\u8fd8\u53ef\u4ee5\u7ed8\u5236\u6bd4\u4f8b\u5c3a\u548c\u884c\u653f\u8fb9\u754c\u7b49\u3002\n\n<div class=\"alert alert-info\"><h4>Note</h4><p>\u53ef\u7ed3\u5408\u300a:doc:`gmtdoc:tutorial/coastline`\u300b\n    \u548c\u300a:doc:`gmtdoc:module/coast` \u6a21\u5757\u300b\u5b66\u4e60\u3002</p></div>\n"
      ]
    },
    {
      "cell_type": "code",
      "execution_count": null,
      "metadata": {
        "collapsed": false
      },
      "outputs": [],
      "source": [
        "import pygmt"
      ]
    },
    {
      "cell_type": "markdown",
      "metadata": {},
      "source": [
        "## \u6d77\u5cb8\u7ebf\n\n\u4f7f\u7528 ``shorelines`` \u9009\u9879\u7ed8\u5236\u6d77\u5cb8\u7ebf\uff1a\n\n"
      ]
    },
    {
      "cell_type": "code",
      "execution_count": null,
      "metadata": {
        "collapsed": false
      },
      "outputs": [],
      "source": [
        "fig = pygmt.Figure()\nfig.basemap(region=\"g\", projection=\"W15c\", frame=True)\nfig.coast(shorelines=True)\nfig.show()"
      ]
    },
    {
      "cell_type": "markdown",
      "metadata": {},
      "source": [
        "\u6d77\u5cb8\u7ebf\u5206\u4e3a\u56db\u4e2a\u7b49\u7ea7\uff08 *level* \u53d6 1-4\uff09\uff1a\n\n1. coastline\uff1a\u6d77\u5cb8\u7ebf\n2. lakeshore\uff1a\u6e56\u6cca\u4e0e\u9646\u5730\u7684\u5cb8\u7ebf\n3. island-in-lake shore\uff1a\u9996\u5148\u8981\u6709\u9646\u5730\uff0c\u9646\u5730\u4e2d\u6709\u4e2a\u6e56\uff0c\u6e56\u91cc\u6709\u4e2a\u5c9b\u3002\u5373\u5c9b\u7684\u5cb8\u7ebf\n4. lake-in-island-in-lake shore\uff1a\u9996\u5148\u6709\u9646\u5730\uff0c\u9646\u5730\u4e2d\u6709\u4e2a\u6e56\uff0c\u6e56\u4e2d\u6709\u4e2a\u5c9b\uff0c\u5c9b\u91cc\u53c8\u6709\u4e2a\u6e56\u3002\u8fd9\u91cc\u6307\u7684\u662f\u6e56\u7684\u5cb8\u7ebf\n\n\u6d77\u5cb8\u7ebf\u7ed8\u5236\u6548\u679c\u7531\u7ea7\u522b\u53c2\u6570 *level* \u548c\u753b\u7b14\u53c2\u6570 *pen* \u5171\u540c\u51b3\u5b9a\u3002\n\u4e0b\u56fe\u7ed8\u5236\u4e86\u5cb8\u7ebf\u7ea7\u522b *level* \u4e3a ``1``\\ \uff0c\n\u753b\u7b14\u53c2\u6570 *pen* \u4e3a ``0.5p/black`` \u7684\u5168\u7403\u6d77\u5cb8\u7ebf\u6837\u5f0f\uff1a\n\n"
      ]
    },
    {
      "cell_type": "code",
      "execution_count": null,
      "metadata": {
        "collapsed": false
      },
      "outputs": [],
      "source": [
        "fig = pygmt.Figure()\nfig.basemap(region=\"g\", projection=\"W15c\", frame=True)\nfig.coast(shorelines=\"1/0.5p,black\")\nfig.show()"
      ]
    },
    {
      "cell_type": "markdown",
      "metadata": {},
      "source": [
        "\u5141\u8bb8\u901a\u8fc7\u5217\u8868\u5f62\u5f0f\u4e00\u6b21\u6027\u4f20\u9012\u591a\u4e2a\u4e0d\u540c\u7b49\u7ea7\u6d77\u5cb8\u7ebf\u7684\u7ed8\u5236\u53c2\u6570\uff1a\n\n"
      ]
    },
    {
      "cell_type": "code",
      "execution_count": null,
      "metadata": {
        "collapsed": false
      },
      "outputs": [],
      "source": [
        "fig = pygmt.Figure()\nfig.basemap(region=\"g\", projection=\"W15c\", frame=True)\nfig.coast(shorelines=[\"1/1p,black\", \"2/0.5p,red\"])\nfig.show()"
      ]
    },
    {
      "cell_type": "markdown",
      "metadata": {},
      "source": [
        "\u6d77\u5cb8\u7ebf\u6570\u636e\u5206\u4e3a 5 \u4e2a\u4e0d\u540c\u7cbe\u5ea6\u7248\u672c\uff0c\u901a\u8fc7 ``resolution`` \u9009\u9879\u6307\u5b9a\u8981\u4f7f\u7528\u7684\u6570\u636e\u7cbe\u5ea6\uff1a\n\n1. ``\"c\"``: crude\n2. ``\"l\"``: low (default)\n3. ``\"i\"``: intermediate\n4. ``\"h\"``: high\n5. ``\"f\"``: full\n\n"
      ]
    },
    {
      "cell_type": "code",
      "execution_count": null,
      "metadata": {
        "collapsed": false
      },
      "outputs": [],
      "source": [
        "oahu = [-158.3, -157.6, 21.2, 21.8]\nfig = pygmt.Figure()\nfor res in [\"c\", \"l\", \"i\", \"h\", \"f\"]:\n    fig.coast(resolution=res, shorelines=\"1p\", region=oahu, projection=\"M5c\")\n    fig.shift_origin(xshift=\"5c\")\nfig.show()"
      ]
    },
    {
      "cell_type": "markdown",
      "metadata": {},
      "source": [
        "\u4f7f\u7528 ``land`` \u548c ``water`` \u9009\u9879\u53ef\u4ee5\u6307\u5b9a\u5982\u4f55\u586b\u5145\u9646\u5730\u4e0e\u6c34\u4f53\uff1a\n\n"
      ]
    },
    {
      "cell_type": "code",
      "execution_count": null,
      "metadata": {
        "collapsed": false
      },
      "outputs": [],
      "source": [
        "fig = pygmt.Figure()\nfig.basemap(region=\"g\", projection=\"W10i\", frame=True)\nfig.coast(land=\"#666666\", water=\"skyblue\")\nfig.show()"
      ]
    },
    {
      "cell_type": "markdown",
      "metadata": {},
      "source": [
        "## \u884c\u653f\u8fb9\u754c\n\n\u5229\u7528 ``borders`` \u9009\u9879\u53ef\u4ee5\u7ed8\u5236\u56fd\u754c\u3001\u5dde\u754c\u7b49\u884c\u653f\u8fb9\u754c\uff0c\u53ef\u4f9b\u9009\u62e9\u7684\u53c2\u6570\u6709\uff1a\n\n1. ``\"1\"``: National boundaries\n2. ``\"2\"``: State boundaries within the Americas\n3. ``\"3\"``: Marine boundaries\n4. ``\"a\"``: All boundaries (1-3)\n\n\n"
      ]
    },
    {
      "cell_type": "code",
      "execution_count": null,
      "metadata": {
        "collapsed": false
      },
      "outputs": [],
      "source": [
        "import pygmt\n\nfig = pygmt.Figure()\nfig.basemap(region=[-150, -30, -60, 60], projection=\"I-90/8c\", frame=\"afg\")\n# \u7528\u4e0d\u540c\u7684\u989c\u8272\u7ed8\u5236\u4e0d\u540c\u7b49\u7ea7\u7684\u884c\u653f\u8fb9\u754c\nfig.coast(borders=[\"1/0.5p,black\", \"2/0.5p,red\", \"3/0.5p,blue\"], land=\"gray\")\nfig.show()"
      ]
    }
  ],
  "metadata": {
    "kernelspec": {
      "display_name": "Python 3",
      "language": "python",
      "name": "python3"
    },
    "language_info": {
      "codemirror_mode": {
        "name": "ipython",
        "version": 3
      },
      "file_extension": ".py",
      "mimetype": "text/x-python",
      "name": "python",
      "nbconvert_exporter": "python",
      "pygments_lexer": "ipython3",
      "version": "3.8.0"
    }
  },
  "nbformat": 4,
  "nbformat_minor": 0
}