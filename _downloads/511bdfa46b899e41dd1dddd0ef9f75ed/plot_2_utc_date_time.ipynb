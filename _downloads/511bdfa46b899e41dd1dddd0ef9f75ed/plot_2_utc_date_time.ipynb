{
  "cells": [
    {
      "cell_type": "code",
      "execution_count": null,
      "metadata": {
        "collapsed": false
      },
      "outputs": [],
      "source": [
        "%matplotlib inline"
      ]
    },
    {
      "cell_type": "markdown",
      "metadata": {},
      "source": [
        "\n# \u4e16\u754c\u6807\u51c6\u65f6\u95f4\n\n\u201c\u65f6\u95f4\u95ee\u9898\u201d\u662f\u7533\u8bf7\u5730\u9707\u6570\u636e\u6700\u57fa\u672c\u7684\u95ee\u9898\uff0c\u5229\u7528 ObsPy \u7533\u8bf7\u6570\u636e\u65f6\u9700\u8981\n\u7528 :class:`UTCDateTime <obspy.core.utcdatetime.UTCDateTime>` \u5bf9\u8c61\n\u6765\u63a7\u5236\u53d1\u9707\u65f6\u523b\u3001\u7533\u8bf7\u6ce2\u5f62\u6570\u636e\u7684\u8d77\u59cb\u65f6\u95f4\u548c\u7ed3\u675f\u65f6\u95f4\u7b49\u3002\n\n\u9996\u5148\u4ece ``obspy`` \u6a21\u5757\u4e2d\u5bfc\u5165 ``UTCDateTime``\uff1a\n"
      ]
    },
    {
      "cell_type": "code",
      "execution_count": null,
      "metadata": {
        "collapsed": false
      },
      "outputs": [],
      "source": [
        "from obspy import UTCDateTime"
      ]
    },
    {
      "cell_type": "markdown",
      "metadata": {},
      "source": [
        "\u6253\u5370\u53c2\u8003\u65f6\u95f4\u548c\u8ddd\u79bb\u96f6\u65f6\u523b3678\u79d2\u7684\u65f6\u95f4\uff1a\n\n"
      ]
    },
    {
      "cell_type": "code",
      "execution_count": null,
      "metadata": {
        "collapsed": false
      },
      "outputs": [],
      "source": [
        "print(UTCDateTime(0)) \nprint(UTCDateTime(3678))"
      ]
    },
    {
      "cell_type": "markdown",
      "metadata": {},
      "source": [
        "\u4e0d\u540c\u65e5\u671f\u683c\u5f0f\uff1a\n\n"
      ]
    },
    {
      "cell_type": "code",
      "execution_count": null,
      "metadata": {
        "collapsed": false
      },
      "outputs": [],
      "source": [
        "a = UTCDateTime(\"2012-09-07T12:15:00\")  \nb = UTCDateTime(2018, 9, 17, 15, 18, 1.1)\nprint('a:  ' ,a)\nprint('b:  ' ,b)"
      ]
    },
    {
      "cell_type": "markdown",
      "metadata": {},
      "source": [
        "\u52a0\u4e0a\u65f6\u533a\uff1a\n\n"
      ]
    },
    {
      "cell_type": "code",
      "execution_count": null,
      "metadata": {
        "collapsed": false
      },
      "outputs": [],
      "source": [
        "print(UTCDateTime(\"2012-09-07T12:15:00+08:00\"))"
      ]
    },
    {
      "cell_type": "markdown",
      "metadata": {},
      "source": [
        "\u67e5\u770b\u65f6\u95f4\u7684\u5c5e\u6027\uff1a\n\n"
      ]
    },
    {
      "cell_type": "code",
      "execution_count": null,
      "metadata": {
        "collapsed": false
      },
      "outputs": [],
      "source": [
        "time = UTCDateTime(\"2019-04-07T12:15:00\")\nprint('Year:  ', time.year)\nprint('Month:  ', time.month)\nprint('Julday:  ', time.julday)\nprint('Weekday:  ', time.weekday)"
      ]
    },
    {
      "cell_type": "markdown",
      "metadata": {},
      "source": [
        "\u65f6\u95f4\u8fd0\u7b97\uff1a\n\n"
      ]
    },
    {
      "cell_type": "code",
      "execution_count": null,
      "metadata": {
        "collapsed": false
      },
      "outputs": [],
      "source": [
        "time1 = UTCDateTime(2018,12,31)\ntime2 = UTCDateTime(\"2019-05-01T00:00:00\")\nprint('Interval Day:   ', (time2-time1)/(3600*24))\nprint(time1+3672.6)"
      ]
    }
  ],
  "metadata": {
    "kernelspec": {
      "display_name": "Python 3",
      "language": "python",
      "name": "python3"
    },
    "language_info": {
      "codemirror_mode": {
        "name": "ipython",
        "version": 3
      },
      "file_extension": ".py",
      "mimetype": "text/x-python",
      "name": "python",
      "nbconvert_exporter": "python",
      "pygments_lexer": "ipython3",
      "version": "3.8.0"
    }
  },
  "nbformat": 4,
  "nbformat_minor": 0
}