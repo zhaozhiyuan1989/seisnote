{
  "cells": [
    {
      "cell_type": "code",
      "execution_count": null,
      "metadata": {
        "collapsed": false
      },
      "outputs": [],
      "source": [
        "%matplotlib inline"
      ]
    },
    {
      "cell_type": "markdown",
      "metadata": {},
      "source": [
        "\n# \u5728\u5730\u56fe\u4e0a\u6dfb\u52a0 logo\n\n\u5229\u7528 :meth:`pygmt.Figure.logo` \u53ef\u4ee5\u5c06 GMT \u7684\n\u56fe\u5f62 logo \u7ed8\u5236\u5728\u56fe\u4e0a\u3002\n\n<div class=\"alert alert-info\"><h4>Note</h4><p>\u53ef\u7ed3\u5408\u300a:doc:`gmtdoc:module/gmtlogo` \u6a21\u5757\u300b\u5b66\u4e60\u3002</p></div>\n"
      ]
    },
    {
      "cell_type": "code",
      "execution_count": null,
      "metadata": {
        "collapsed": false
      },
      "outputs": [],
      "source": [
        "import pygmt\n\nfig = pygmt.Figure()\nfig.basemap(region=[0, 10, 0, 2], projection=\"X6c\", frame=True)\n\nfig.logo(position=\"jTR+o0.3c/0.6c+w3c\")\n\nfig.show()"
      ]
    }
  ],
  "metadata": {
    "kernelspec": {
      "display_name": "Python 3",
      "language": "python",
      "name": "python3"
    },
    "language_info": {
      "codemirror_mode": {
        "name": "ipython",
        "version": 3
      },
      "file_extension": ".py",
      "mimetype": "text/x-python",
      "name": "python",
      "nbconvert_exporter": "python",
      "pygments_lexer": "ipython3",
      "version": "3.8.0"
    }
  },
  "nbformat": 4,
  "nbformat_minor": 0
}