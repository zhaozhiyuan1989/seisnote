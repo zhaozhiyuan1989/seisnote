{
  "cells": [
    {
      "cell_type": "code",
      "execution_count": null,
      "metadata": {
        "collapsed": false
      },
      "outputs": [],
      "source": [
        "%matplotlib inline"
      ]
    },
    {
      "cell_type": "markdown",
      "metadata": {},
      "source": [
        "\n# \u6dfb\u52a0 colorbar\n\n\u4e3a :meth:`pygmt.Figure.colorbar` \u7684 ``cmap`` \u9009\u9879\u6307\u5b9a\u989c\u8272\u8868\u540e\uff0c\n\u5c31\u53ef\u4ee5\u4e3a\u56fe\u7247\u6dfb\u52a0 colorbar\u3002\n\ncolorbar \u5728\u56fe\u4e2d\u7684\u4f4d\u7f6e\u7531 ``position`` \u9009\u9879\u63a7\u5236\uff0c``position`` \u9009\u9879\u652f\u6301\u7684\u8f93\u5165\u683c\u5f0f\u5305\u62ec\uff1a\n\n- **j/J**\uff1a\u540e\u8ddf\u7531\u6c34\u5e73\u5bf9\u9f50\u65b9\u5f0f\uff08**T**\\ op\uff0c**M**\\ iddle\uff0c**B**\\ ottom\uff09\u548c\u5782\u76f4\u5bf9\u9f50\u65b9\u5f0f\n  \uff08**L**\\ eft\uff0c**C**\\ enter\uff0c**R**\\ ight)\u7ec4\u6210\u7684\u4e24\u4e2a\u5b57\u7b26\uff0c\u5982 ``position=\"jTR\"`` \u8868\u793a\n  \u53f3\u4e0a\u89d2\u4e3a\u53c2\u8003\u70b9\n\n- **g**\uff1a\u6307\u5b9a\u67d0\u5730\u56fe\u5750\u6807\u4e3a\u53c2\u8003\u70b9\uff0c\u6bd4\u5982 ``position=\"g170/-45\"`` \u8868\u793a\uff08170E\uff0c45S\uff09\u4e3a\u53c2\u8003\u70b9\n\n- **x**\uff1a\u5728\u7ed8\u56fe\u5750\u6807\u7cfb\u4e0b\u6307\u5b9a\u53c2\u8003\u70b9\uff0c\u6bd4\u5982 ``position=\"x5c/7c\"`` \u8868\u793a\u8ddd\u79bb\u951a\u70b9\uff085cm\uff0c7cm\uff09\u7684\u70b9\u4e3a\u53c2\u8003\u70b9\n\n- **n**\uff1a\u5728\u5f52\u4e00\u5316\u5750\u6807\u7cfb\u4e2d\u6307\u5b9a\u53c2\u8003\u70b9\uff0c\u6bd4\u5982 ``position=\"n0.4/0.8\"``\n\n\u9700\u8981\u6ce8\u610f\u7684\u662f\uff0c\u9ed8\u8ba4\u7684\u951a\u70b9\u4e3a **BL**\uff0c\u6dfb\u52a0 **+h** \u5230 ``position`` \u9009\u9879\u53ef\u5c06 colorbar\n\u7531\u5782\u76f4\u53d8\u4e3a\u6c34\u5e73\u3002\n\n<div class=\"alert alert-info\"><h4>Note</h4><p>\u53ef\u7ed3\u5408\u300a:doc:`gmtdoc:module/colorbar` \u6a21\u5757\u300b\u5b66\u4e60\u3002</p></div>\n"
      ]
    },
    {
      "cell_type": "code",
      "execution_count": null,
      "metadata": {
        "collapsed": false
      },
      "outputs": [],
      "source": [
        "import pygmt\n\nfig = pygmt.Figure()\nfig.basemap(region=[0, 3, 6, 9], projection=\"x3c\", frame=[\"af\", 'WSne+t\"Colorbars\"'])\n\n# \u5229\u7528 roma \u989c\u8272\u8868\u521b\u5efa colorbar\n# \u5982\u679c\u6ca1\u6709\u7ed9\u5b9a position \u53c2\u6570\uff0c\u9ed8\u8ba4\u653e\u5728 BC \u4f4d\u7f6e \nfig.colorbar(cmap=\"roma\", frame=[\"x+lVelocity\", \"y+lm/s\"])\n\n# \u5229\u7528 batlow \u989c\u8272\u8868\u521b\u5efa colorbar\nfig.colorbar(\n    cmap=\"batlow\",\n    # \u6307\u5b9a\u5730\u56fe\u5750\u6807 0.3/8.7 \u4e3a\u53c2\u8003\u70b9,\n    # colorbar \u957f\u5bbd\u5206\u522b\u4e3a 4cm \u548c 0.5cm\uff0c\u6c34\u5e73\u6446\u653e(+h)\n    position=\"g0.3/8.7+w4c/0.5c+h\",\n    box=True,\n    frame=[\"x+lTemperature\", r\"y+l\\260C\"],\n    scale=100,\n)\n\n\nfig.colorbar(\n    cmap=\"oleron\",\n    # \u5730\u56fe\u7684\u53f3\u4e2d\u8fb9\u6846\u5916\u4e3a\u53c2\u8003\u70b9\uff08JMR\uff09\uff0c\u8ddd\u79bb\u951a\u70b9\u6c34\u5e73\u8ddd\u79bb\u4e3a 1cm\uff08+o1c/0c\uff09\n    # colorbar \u957f 7cm \u5bbd 0.5cm\uff0c\u7ed8\u5236 NaN \u989c\u8272\u5757\uff08+n\uff09\n    position=\"JMR+o1c/0c+w7c/0.5c+n+mc\",\n    # colorbar \u6c34\u5e73\u6807\u6ce8\u5782\u76f4\u6446\u653e\uff0c\u5e76\u4e14\u7ed8\u5236\u5728\u8f74\u7684\u53e6\u4e00\u4fa7\n    frame=[\"x+lElevation\", \"y+lm\"],\n    scale=10,\n)\n\nfig.show()"
      ]
    }
  ],
  "metadata": {
    "kernelspec": {
      "display_name": "Python 3",
      "language": "python",
      "name": "python3"
    },
    "language_info": {
      "codemirror_mode": {
        "name": "ipython",
        "version": 3
      },
      "file_extension": ".py",
      "mimetype": "text/x-python",
      "name": "python",
      "nbconvert_exporter": "python",
      "pygments_lexer": "ipython3",
      "version": "3.8.0"
    }
  },
  "nbformat": 4,
  "nbformat_minor": 0
}