{
  "cells": [
    {
      "cell_type": "code",
      "execution_count": null,
      "metadata": {
        "collapsed": false
      },
      "outputs": [],
      "source": [
        "%matplotlib inline"
      ]
    },
    {
      "cell_type": "markdown",
      "metadata": {},
      "source": [
        "\n# \u914d\u7f6e\u53c2\u6570\n\n\u5229\u7528 :class:`pygmt.config` \u53ef\u4ee5\u4fee\u6539 PyGMT \u7684\u7ed8\u56fe\u53c2\u6570\u3002\n\n<div class=\"alert alert-info\"><h4>Note</h4><p>\u53ef\u7ed3\u5408\u300a:doc:`gmtdoc:conf/index` \u300b\u5b66\u4e60\u3002</p></div>\n"
      ]
    },
    {
      "cell_type": "code",
      "execution_count": null,
      "metadata": {
        "collapsed": false
      },
      "outputs": [],
      "source": [
        "import pygmt"
      ]
    },
    {
      "cell_type": "markdown",
      "metadata": {},
      "source": [
        "## \u9ed8\u8ba4\u53c2\u6570\u7ed8\u56fe\n\n"
      ]
    },
    {
      "cell_type": "code",
      "execution_count": null,
      "metadata": {
        "collapsed": false
      },
      "outputs": [],
      "source": [
        "fig = pygmt.Figure()\nfig.basemap(region=[115, 119.5, 4, 7.5], projection=\"M10c\", frame=True)\nfig.coast(land=\"black\", water=\"skyblue\")\n\nfig.show()"
      ]
    },
    {
      "cell_type": "markdown",
      "metadata": {},
      "source": [
        "## \u8bbe\u7f6e\u5168\u5c40\u53c2\u6570\n\n"
      ]
    },
    {
      "cell_type": "code",
      "execution_count": null,
      "metadata": {
        "collapsed": false
      },
      "outputs": [],
      "source": [
        "fig = pygmt.Figure()\n\n# \u5168\u5c40\u53c2\u6570\u5f71\u54cd\u63a5\u4e0b\u6765\u6240\u6709\u7684\u547d\u4ee4\npygmt.config(MAP_FRAME_TYPE=\"plain\")\npygmt.config(FORMAT_GEO_MAP=\"ddd.xx\")\n\nfig.basemap(region=[115, 119.5, 4, 7.5], projection=\"M10c\", frame=True)\nfig.coast(land=\"black\", water=\"skyblue\")\n\nfig.show()"
      ]
    },
    {
      "cell_type": "markdown",
      "metadata": {},
      "source": [
        "## \u8bbe\u7f6e\u4e34\u65f6\u53c2\u6570\n\n"
      ]
    },
    {
      "cell_type": "code",
      "execution_count": null,
      "metadata": {
        "collapsed": false
      },
      "outputs": [],
      "source": [
        "fig = pygmt.Figure()\n\n# \u4ec5\u5bf9\u5f53\u524d\u547d\u4ee4\u6709\u6548\uff0c\u5c06\u8fb9\u6846\u8bbe\u7f6e\u4e3a fancy+\nwith pygmt.config(MAP_FRAME_TYPE=\"fancy+\"):\n    fig.basemap(region=[115, 119.5, 4, 7.5], projection=\"M10c\", frame=True)\nfig.coast(land=\"black\", water=\"skyblue\")\n\n# \u79fb\u52a8\u539f\u70b9\u7ed8\u5236\u4e0b\u4e00\u5f20\u56fe\nfig.shift_origin(yshift=\"-10c\")\n\n# \u8fb9\u6846\u6062\u590d\u4e3a fancy\nfig.basemap(region=[115, 119.5, 4, 7.5], projection=\"M10c\", frame=True)\nfig.coast(land=\"black\", water=\"skyblue\")\n\nfig.show()"
      ]
    }
  ],
  "metadata": {
    "kernelspec": {
      "display_name": "Python 3",
      "language": "python",
      "name": "python3"
    },
    "language_info": {
      "codemirror_mode": {
        "name": "ipython",
        "version": 3
      },
      "file_extension": ".py",
      "mimetype": "text/x-python",
      "name": "python",
      "nbconvert_exporter": "python",
      "pygments_lexer": "ipython3",
      "version": "3.8.0"
    }
  },
  "nbformat": 4,
  "nbformat_minor": 0
}