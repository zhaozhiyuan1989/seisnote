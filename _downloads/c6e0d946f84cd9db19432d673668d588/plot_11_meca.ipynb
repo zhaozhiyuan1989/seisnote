{
  "cells": [
    {
      "cell_type": "code",
      "execution_count": null,
      "metadata": {
        "collapsed": false
      },
      "outputs": [],
      "source": [
        "%matplotlib inline"
      ]
    },
    {
      "cell_type": "markdown",
      "metadata": {},
      "source": [
        "\n# \u7ed8\u5236\u6c99\u6ee9\u7403\n\n\u5229\u7528 :meth:`pygmt.Figure.meca` \u53ef\u4ee5\u7ed8\u5236\u6c99\u6ee9\u7403\u3002\n\n<div class=\"alert alert-info\"><h4>Note</h4><p>\u53ef\u7ed3\u5408\u300a:doc:`gmtdoc:module/meca` \u6a21\u5757\u300b\u5b66\u4e60\u3002</p></div>\n\n\u8fd9\u91cc\u7ed9\u51fa\u4e00\u4e2a\u7b80\u5355\u7684\u793a\u4f8b\uff0c\u8be6\u7ec6\u7684\u8bf4\u660e\u8bf7\u53c2\u8003 :meth:`pygmt.Figure.meca` \u65b9\u6cd5\u3002\n"
      ]
    },
    {
      "cell_type": "markdown",
      "metadata": {},
      "source": [
        "## \u5229\u7528\u5b57\u5178\u4f20\u5165\u6570\u636e\n\n"
      ]
    },
    {
      "cell_type": "code",
      "execution_count": null,
      "metadata": {
        "collapsed": false
      },
      "outputs": [],
      "source": [
        "import pygmt\n\nfig = pygmt.Figure()\n\nfig.coast(\n    region=[-125, -122, 47, 49],\n    projection=\"M6c\",\n    land=\"grey\",\n    water=\"lightblue\",\n    shorelines=True,\n    frame=\"a\",\n)\n\n# \u5c06\u9707\u6e90\u673a\u5236\u89e3\u53c2\u6570\u4ee5\u5b57\u5178\u5f62\u5f0f\u5b58\u50a8\nfocal_mechanism = dict(strike=330, dip=30, rake=90, magnitude=3, longitude=-124.3, latitude=48.1, depth=12.0)\n\n# \u4f20\u5165\u9707\u6e90\u673a\u5236\u89e3\u53c2\u6570\uff0c\u7528 scale \u9009\u9879\u63a7\u5236\u7ed8\u5236\u5927\u5c0f\nfig.meca(focal_mechanism, scale=\"1c\", G=\"red\")\n\nfig.show()"
      ]
    },
    {
      "cell_type": "markdown",
      "metadata": {},
      "source": [
        "## \u5229\u7528\u6587\u672c\u4f20\u5165\u6570\u636e\n\n"
      ]
    },
    {
      "cell_type": "code",
      "execution_count": null,
      "metadata": {
        "collapsed": false
      },
      "outputs": [],
      "source": [
        "fig = pygmt.Figure()\nfig.coast(\n    region=\"102.5/105.5/30.5/32.5\",\n    projection=\"Q104/15c\",\n    land=\"grey\",\n    frame=[\"WSen\", \"a\"],\n)\n# \u751f\u6210 CPT \u6587\u4ef6\uff0c\u4e3a\u6bcf\u4e2a\u6df1\u5ea6\u8bbe\u7f6e\u4e0d\u540c\u7684\u989c\u8272\nwith open('meca.cpt','w') as f:\n    f.write(\" 0   0-1-1   20   0-1-1\\n\")\n    f.write(\"20  60-1-1   40  60-1-1\\n\")\n    f.write(\"40 120-1-1   60 120-1-1\\n\")\n    f.write(\"60 240-1-1  100 240-1-1\\n\")\n# \u6784\u5efa\u8f93\u5165\u6587\u672c\nwith open(\"examples.txt\", \"w\") as f:\n    f.write(\"104.3300  31.90    39.8  32.00 64.00   85.00  7.0 0        0        A\\n\")\n    f.write(\"104       31.52    27.1  22.00 53.00   57.00  6.0 0        0        B\\n\")\n    f.write(\"103.6700  31.1300   6.4  86.00 32.00  -65.00  8.0 0        0        C\\n\")\n    f.write(\"103.900   31.3400  43.6 194.00 84.00  179.00  4.9 104.180  30.8400  D\\n\")\n    f.write(\"103.7200  31.4400  67.3  73.00 84.00 -162.00  4.9 103.120  31.6400  E\\n\")\n    f.write(\"104.1200  31.7800  12.7 186.00 68.00  107.00  4.7 103.830  32.2600  F\\n\")\n    f.write(\"104.2300  31.6100  62.0  86.00 63.00  -51.00  4.7 104.960  31.6900  G\\n\")\n\n# \u8f93\u5165\u6587\u4ef6\u65f6\u9700\u8981 convention \u6307\u5b9a\u9707\u6e90\u673a\u5236\u89e3\u7684\u683c\u5f0f\uff0c\u53ef\u4ee5\u6dfb\u52a0 offset \u504f\u79fb\u9707\u6e90\u7403\u4f4d\u7f6e\nfig.meca(\"examples.txt\", scale=\"1c\", convention=\"aki\", offset=\"0.1p,red,.+s0.2c\", Z=\"meca.cpt\")\nfig.show()"
      ]
    },
    {
      "cell_type": "markdown",
      "metadata": {},
      "source": [
        "## PyGMT \u8bbf\u95ee GMT \u6a21\u5757\nPyGMT \u63d0\u4f9b\u4e86 :class:`pygmt.clib.Session` \u53ef\u4ee5\u76f4\u63a5\u8c03\u7528 GMT \u6a21\u5757\u3002\n\n"
      ]
    },
    {
      "cell_type": "code",
      "execution_count": null,
      "metadata": {
        "collapsed": false
      },
      "outputs": [],
      "source": [
        "fig = pygmt.Figure()\nfig.coast(\n    region=\"102.5/105.5/30.5/32.5\",\n    projection=\"Q104/15c\",\n    land=\"grey\",\n    frame=[\"WSen\", \"a\"],\n)\n\nwith pygmt.clib.Session() as session:\n    session.call_module('meca','examples.txt -CP5p -Sa1.3c -Zmeca.cpt')\n    session.call_module('colorbar','-Cmeca.cpt -DjBL+w5c/0.5c+ml+o0.8c/0.4c -Bx+lDepth -By+lkm -S')\n\nfig.show()"
      ]
    },
    {
      "cell_type": "markdown",
      "metadata": {},
      "source": [
        "\u6e05\u9664\u4e34\u65f6\u6587\u4ef6\n\n"
      ]
    },
    {
      "cell_type": "code",
      "execution_count": null,
      "metadata": {
        "collapsed": false
      },
      "outputs": [],
      "source": [
        "import os\nos.remove(\"examples.txt\")\nos.remove(\"meca.cpt\")"
      ]
    }
  ],
  "metadata": {
    "kernelspec": {
      "display_name": "Python 3",
      "language": "python",
      "name": "python3"
    },
    "language_info": {
      "codemirror_mode": {
        "name": "ipython",
        "version": 3
      },
      "file_extension": ".py",
      "mimetype": "text/x-python",
      "name": "python",
      "nbconvert_exporter": "python",
      "pygments_lexer": "ipython3",
      "version": "3.8.0"
    }
  },
  "nbformat": 4,
  "nbformat_minor": 0
}