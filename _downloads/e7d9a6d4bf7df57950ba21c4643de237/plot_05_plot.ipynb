{
  "cells": [
    {
      "cell_type": "code",
      "execution_count": null,
      "metadata": {
        "collapsed": false
      },
      "outputs": [],
      "source": [
        "%matplotlib inline"
      ]
    },
    {
      "cell_type": "markdown",
      "metadata": {},
      "source": [
        "\n# \u7ed8\u5236\u7b26\u53f7\n\n\u5229\u7528 PyGMT \u7684 :meth:`pygmt.Figure.plot` \u53ef\u4ee5\u7ed8\u5236\u591a\u79cd\u5e38\u89c1\u7684\u7b26\u53f7\u7c7b\u578b\u3002\n\n<div class=\"alert alert-info\"><h4>Note</h4><p>\u53ef\u7ed3\u5408\u300a:doc:`gmtdoc:tutorial/symbols`\u300b\n    \u548c\u300a:doc:`gmtdoc:module/plot` \u6a21\u5757\u300b\u5b66\u4e60\u3002</p></div>\n"
      ]
    },
    {
      "cell_type": "markdown",
      "metadata": {},
      "source": [
        "## \u7ed8\u5236\u7b80\u5355\u7b26\u53f7\n\n\u9996\u5148\u5229\u7528 :mod:`numpy.random` \u6a21\u5757\u751f\u6210\u6570\u636e\u96c6\uff1a\n\n"
      ]
    },
    {
      "cell_type": "code",
      "execution_count": null,
      "metadata": {
        "collapsed": false
      },
      "outputs": [],
      "source": [
        "import numpy as np\n\nnp.random.seed(42)\nregion = [150, 240, -10, 60]\nx = np.random.uniform(region[0], region[1], 20)\ny = np.random.uniform(region[2], region[3], 20)\nz = np.random.uniform(1,5,20)\nprint(\"x:\\n\", x)\nprint(\"y:\\n\", y)\nprint(\"z:\\n\", z)"
      ]
    },
    {
      "cell_type": "markdown",
      "metadata": {},
      "source": [
        "\u901a\u8fc7 :meth:`pygmt.Figure.plot` \u7ed8\u5236\u7b26\u53f7\u65f6\u9700\u8981\u7528 ``style`` \u9009\u9879\u63a7\u5236\u7b26\u53f7\u7c7b\u578b\u548c\u5927\u5c0f\uff1a\n\n"
      ]
    },
    {
      "cell_type": "code",
      "execution_count": null,
      "metadata": {
        "collapsed": false
      },
      "outputs": [],
      "source": [
        "import pygmt\n\nfig = pygmt.Figure()\nfig.basemap(region=region, projection=\"X8c\", frame=True)\n# \u7ed8\u5236\u4e09\u89d2\u7b26\u53f7\uff08i\uff09\uff0c\u5927\u5c0f\u4e3a 0.5 \u5398\u7c73\uff080.5c\uff09\nfig.plot(x, y, style=\"i0.5c\", color=\"black\")\nfig.show()"
      ]
    },
    {
      "cell_type": "markdown",
      "metadata": {},
      "source": [
        "## \u5927\u5c0f\u53d8\u5316\u7684\u7b26\u53f7\n\n\u7ed8\u5236\u5927\u5c0f\u53d8\u5316\u7684\u7b26\u53f7\u65f6\u5728\u9009\u9879 ``style`` \u4e2d\u8bf4\u660e\n\u7b26\u53f7\u7c7b\u578b\u548c\u5355\u4f4d\uff0c\u7531 ``sizes`` \u63a7\u5236\u7b26\u53f7\u5927\u5c0f\uff1a\n\n"
      ]
    },
    {
      "cell_type": "code",
      "execution_count": null,
      "metadata": {
        "collapsed": false
      },
      "outputs": [],
      "source": [
        "fig = pygmt.Figure()\nfig.basemap(region=region, projection=\"X8c\", frame=[\"nSWe\",\"af\"])\n# \u7ed8\u5236\u4e94\u89d2\u661f\u7b26\u53f7\uff08a\uff09\uff0c\u5355\u4f4d\u4e3a\u5398\u7c73\uff08c\uff09\uff0c\u5927\u5c0f\u7531 sizes \u63a7\u5236\nfig.plot(x, y, style=\"ac\", pen=\"1p,black\", color=\"red\", sizes=z*0.1)\nfig.show()"
      ]
    },
    {
      "cell_type": "markdown",
      "metadata": {},
      "source": [
        "## \u989c\u8272\u53d8\u5316\u7684\u7b26\u53f7\n\n\u5982\u679c\u60f3\u8981\u8ba9\u7b26\u53f7\u7684\u989c\u8272\u6839\u636e\u67d0\u4e2a\u6570\u503c\u7684\u4e0d\u540c\u800c\u4f7f\u7528\u4e0d\u540c\u7684\u989c\u8272\uff0c\n\u5219\u9700\u8981\u4f7f\u7528 ``color`` \u9009\u9879\u3002``color`` \u9009\u9879\u8868\u793a\u7b26\u53f7\u7684\n\u586b\u5145\u8272\u7531\u67d0\u4e2a\u6570\u503c\u4ee5\u53ca CPT \u989c\u8272\u8868\u6240\u63a7\u5236\u3002\nCPT \u989c\u8272\u8868\u7ed9\u51fa\u4e86\u6570\u503c\u4e0e\u989c\u8272\u4e4b\u95f4\u7684\u5bf9\u5e94\u5173\u7cfb\u3002\n\u56e0\u800c\u5bf9\u4e8e\u4efb\u610f\u4e00\u4e2a\u7b26\u53f7\uff0c\u6211\u4eec\u90fd\u53ef\u4ee5\u7ed9\u5176\u4e00\u4e2a\u6570\u503c\uff0c\nPyGMT \u4f1a\u6839\u636e\u8be5\u6570\u503c\u4ece CPT \u989c\u8272\u8868\u4e2d\u627e\u5230\u5bf9\u5e94\u7684\u989c\u8272\u4f5c\u4e3a\u8be5\u7b26\u53f7\u7684\u586b\u5145\u8272\u3002\n\u56e0\u800c\uff0c\u5728\u8f93\u5165\u6570\u636e\u4e2d\uff0c\u9700\u8981\u5728 X \u548c Y \u5750\u6807\u7684\u57fa\u7840\u4e0a\u989d\u5916\u52a0\u4e00\u5217 Z \u503c\uff0c\n\u7528\u4e8e\u63a7\u5236\u7b26\u53f7\u7684\u586b\u5145\u8272\u3002\n\n\u4e0b\u9762\u7684\u793a\u4f8b\u4e2d\uff0c\u9996\u5148\u4f7f\u7528 :func:`pygmt.makecpt` \u6a21\u5757\uff0c\u4ee5\u5185\u7f6e CPT \u989c\u8272\u8868 hot \u4e3a\u57fa\u7840\uff0c\n\u751f\u6210\u4e86\u4e00\u4e2a\u65b0\u7684 CPT \u989c\u8272\u8868\uff0c\u8be5 CPT \u989c\u8272\u8868\u4e3a 1 \u5230 5 \u4e4b\u5185\u7684\u6bcf\u4e2a\u6570\u503c\u90fd\u5bf9\u5e94\u4e86\u4e00\u4e2a\u989c\u8272\u3002\n\u5728\u4f7f\u7528 :meth:`pygmt.Figure.plot` \u7ed8\u5236\u7b26\u53f7\u65f6\uff0c\u901a\u8fc7 ``color`` \u9009\u9879\u51b3\u5b9a\u6bcf\u4e2a\u7b26\u53f7\u7684\u586b\u5145\u989c\u8272\uff1a\n\n"
      ]
    },
    {
      "cell_type": "code",
      "execution_count": null,
      "metadata": {
        "collapsed": false
      },
      "outputs": [],
      "source": [
        "fig = pygmt.Figure()\nfig.basemap(region=region, projection=\"X8c\", frame=[\"nSWe\",\"af\"])\npygmt.makecpt(cmap='hot', series=[1, 5])\n# \u7ed8\u5236\u5706\u5f62\u7b26\u53f7\uff08c\uff09\uff0c\u5355\u4f4d\u4e3a\u5398\u7c73\uff08c\uff09\uff0c\u5927\u5c0f\u7531 sizes \u63a7\u5236\nfig.plot(x, y, style=\"cc\", pen=\"1p,black\", sizes=z*0.1, color=z, cmap=True)\nfig.show()"
      ]
    },
    {
      "cell_type": "markdown",
      "metadata": {},
      "source": [
        "## \u5177\u6709\u900f\u660e\u5ea6\u7684\u7b26\u53f7\n\n:meth:`pygmt.Figure.plot` \u7684 ``transparency`` \u9009\u9879\u53ef\u4ee5\u4e3a\u7b26\u53f7\u6dfb\u52a0\u900f\u660e\u5ea6\u3002\n\n\u9996\u5148\u5229\u7528 :mod:`numpy` \u6a21\u5757\u7684 :func:`numpy.arange` \u51fd\u6570\u548c :func:`numpy.ones` \u51fd\u6570\u751f\u6210\u793a\u4f8b\u6570\u636e\uff1a\n\n"
      ]
    },
    {
      "cell_type": "code",
      "execution_count": null,
      "metadata": {
        "collapsed": false
      },
      "outputs": [],
      "source": [
        "x = np.arange(0, 105, 5)\ny = np.ones(x.size)\nprint('x:\\n', x)\nprint('y:\\n', y)"
      ]
    },
    {
      "cell_type": "code",
      "execution_count": null,
      "metadata": {
        "collapsed": false
      },
      "outputs": [],
      "source": [
        "transparency = x\n\nfig = pygmt.Figure()\nfig.basemap(\n    region=[-5, 105, 0, 2],\n    frame=['xaf+l\"Transparency level\"+u%', \"WSrt\"],\n    projection=\"X15c/6c\",\n)\nfig.plot(x=x, y=y, style=\"c0.6c\", color=\"blue\", pen=\"1p,red\", transparency=transparency)\nfig.show()"
      ]
    },
    {
      "cell_type": "markdown",
      "metadata": {},
      "source": [
        "## \u7ed8\u5236\u4e0d\u540c\u7684\u7b26\u53f7\n\n\u5411 :meth:`pygmt.Figure.plot` \u7684 ``style`` \u9009\u9879\u4f20\u9012\u4e0d\u540c\u7684\u53c2\u6570\u53ef\u4ee5\n\u7ed8\u5236\u591a\u79cd\u7c7b\u578b\u7684\u7b26\u53f7\u3002\n\n- **e**\uff1a\u692d\u5706 ``[[lon, lat, direction, major_axis, minor_axis]]``\n- **j**\uff1a\u65cb\u8f6c\u7684\u77e9\u5f62 ``[[lon, lat, direction, width, height]]``\n- **r**\uff1a\u77e9\u5f62 ``[[lon, lat, width, height]]``\n- **R**\uff1a\u5706\u89d2\u77e9\u5f62 ``[[lon, lat, width, height, radius]]``\n- **w**\uff1a\u997c\u5f62\u6954\u5f62 ``[[lon, lat, radius, startdir, stopdir]]`` \u6700\u540e\u4e24\u4e2a\u53c2\u6570\u662f\u4ece\u6c34\u5e73\u9006\u65f6\u9488\u65b9\u5411\u7ed9\u51fa\u7684\u65b9\u5411\n\n**E**\u3001**J** \u548c **W** \u4e0e **e**\u3001**j** \u548c **w** \u76f8\u4f3c\uff0c\u4f46\u662f\u671f\u671b\u8f93\u5165\u7684\u662f\u5730\u7406\u65b9\u4f4d\u89d2\u548c\u8ddd\u79bb\u3002\n\n"
      ]
    },
    {
      "cell_type": "code",
      "execution_count": null,
      "metadata": {
        "collapsed": false
      },
      "outputs": [],
      "source": [
        "import numpy as np\nimport pygmt\n\nfig = pygmt.Figure()\nfig.basemap(region=[0, 6, 0, 2], projection=\"x3c\", frame=True)\n\n# \u692d\u5706\ndata = np.array([[0.5, 1, 45, 3, 1]])\nfig.plot(data=data, style=\"e\", color=\"orange\", pen=\"2p,black\")\n\n# \u65cb\u8f6c\u7684\u77e9\u5f62\ndata = np.array([[1.5, 1, 120, 5, 0.5]])\nfig.plot(data=data, style=\"j\", color=\"red3\", pen=\"2p,black\")\n\n# \u77e9\u5f62\ndata = np.array([[3, 1, 4, 1.5]])\nfig.plot(data=data, style=\"r\", color=\"dodgerblue\", pen=\"2p,black\")\n\n# \u5706\u89d2\u77e9\u5f62\ndata = np.array([[4.5, 1, 1.25, 4, 0.5]])\nfig.plot(data=data, style=\"R\", color=\"seagreen\", pen=\"2p,black\")\n\n# \u997c\u5f62\u6954\u5f62\ndata = np.array([[5.5, 1, 2.5, 45, 330]])\nfig.plot(data=data, style=\"w\", color=\"lightgray\", pen=\"2p,black\")\n\nfig.show()"
      ]
    },
    {
      "cell_type": "markdown",
      "metadata": {},
      "source": [
        "## \u793a\u4f8b\uff1a\u7ed8\u5236\u9707\u4e2d\u5206\u5e03\u56fe\n\n\u901a\u8fc7 PyGMT \u63d0\u4f9b\u7684 :mod:`pygmt.datasets` \u5305\u53ef\u4ee5\u8bbf\u95ee GMT \u670d\u52a1\u5668\u4e0a\n\u7684\u793a\u4f8b\u6570\u636e\u3002\u7b2c\u4e00\u6b21\u8bbf\u95ee\u65f6\uff0c\u6570\u636e\u4f1a\u81ea\u52a8\u4e0b\u8f7d\u5e76\u4fdd\u5b58\u5230 GMT \u7684\u7f13\u5b58\u76ee\u5f55\u4e2d\uff08\u901a\u5e38\u4e3a ``~/.gmt/cache``\uff09\u3002\n\n\u901a\u8fc7 :func:`pygmt.datasets.load_japan_quakes` \u51fd\u6570\u52a0\u8f7d\u65e5\u672c\u9644\u8fd1\u6d77\u5578\u8bf1\u53d1\u5730\u9707\uff0c\n\u6570\u636e\u4ee5 :class:`pandas.DataFrame` \u5f62\u5f0f\u52a0\u8f7d\u3002\n\n"
      ]
    },
    {
      "cell_type": "code",
      "execution_count": null,
      "metadata": {
        "collapsed": false
      },
      "outputs": [],
      "source": [
        "data = pygmt.datasets.load_japan_quakes()  # \u4ece\u670d\u52a1\u5668\u52a0\u8f7d\u6570\u636e\n\n# \u7ed8\u56fe\u533a\u57df\u4e00\u822c\u6bd4\u6570\u636e\u533a\u57df\u5927\u4e00\u70b9\nregion = [\n    data.longitude.min() - 1,\n    data.longitude.max() + 1,\n    data.latitude.min() - 1,\n    data.latitude.max() + 1,\n]\n\nprint(region)  # \u6253\u5370\u7ed8\u56fe\u533a\u57df\nprint(data.head())  # \u6253\u5370 data \u6570\u636e\u7ed3\u6784"
      ]
    },
    {
      "cell_type": "markdown",
      "metadata": {},
      "source": [
        "\u5229\u7528 :meth:`pygmt.Figure.plot` \u65b9\u6cd5\u7ed8\u5236\u9707\u4e2d\u5206\u5e03\uff1a\n\n"
      ]
    },
    {
      "cell_type": "code",
      "execution_count": null,
      "metadata": {
        "collapsed": false
      },
      "outputs": [],
      "source": [
        "fig = pygmt.Figure()  # \u521b\u5efa\u7ed8\u56fe\u5b9e\u4f8b\nfig.basemap(region=region, projection=\"M15c\", frame=True)  # \u7ed8\u5236\u5e95\u56fe\nfig.coast(land=\"black\", water=\"skyblue\")  # \u7ed8\u5236\u6d77\u5cb8\u7ebf\n\n# \u628a data \u7684 longitude \u548c latitude \u503c\u8d4b\u4e88 x\u3001y\uff0c\u8c03\u6574\u7ed8\u56fe\u53c2\u6570\u8fdb\u884c\u7ed8\u5236\nfig.plot(x=data.longitude, y=data.latitude, style=\"c0.3c\", color=\"white\", pen=\"1p,black\")\nfig.show()"
      ]
    },
    {
      "cell_type": "markdown",
      "metadata": {},
      "source": [
        "\u5176\u4e2d\uff0c``style=\"c0.3c\"`` \u8868\u793a\u5c06\u6570\u636e\u70b9\u7ed8\u5236\u6210\u534a\u5f84\u4e3a 0.3 \u5398\u7c73\u7684\u5706\uff0c\n``color=\"white\"`` \u548c ``pen=\"1p,black\"`` \u5206\u522b\u63a7\u5236\u4e86\u7b26\u53f7\u7684\u586b\u5145\u6837\u5f0f\u548c\u8fb9\u6846\u6837\u5f0f\u3002\n\n\u901a\u8fc7 ``sizes`` \u53c2\u6570\u53ef\u4ee5\u7528\u5706\u7684\u5927\u5c0f\u6765\u8868\u5f81\u5730\u9707\u9707\u7ea7\uff0c\u8fd9\u91cc\u901a\u8fc7\u5e42\u8fd0\u7b97\u53ef\u4ee5\u66f4\u597d\u7684\u8868\u73b0\u9707\u7ea7\u5dee\u5f02\uff1a\n\n"
      ]
    },
    {
      "cell_type": "code",
      "execution_count": null,
      "metadata": {
        "collapsed": false
      },
      "outputs": [],
      "source": [
        "fig = pygmt.Figure()\nfig.basemap(region=region, projection=\"M15c\", frame=True)\nfig.coast(land=\"black\", water=\"skyblue\")\n\n# \u5728 style \u4e2d\u4e0d\u663e\u5f0f\u6307\u5b9a\u7b26\u53f7\u5927\u5c0f\uff0c\u6b64\u65f6\u7b26\u53f7\u5927\u5c0f\u7531 sizes \u63a7\u5236\nfig.plot(\n    x=data.longitude,\n    y=data.latitude,\n    sizes=0.02 * (2 ** data.magnitude),\n    style=\"cc\",\n    color=\"white\",\n    pen=\"1p,black\",\n)\nfig.show()"
      ]
    },
    {
      "cell_type": "markdown",
      "metadata": {},
      "source": [
        "\u8bf7\u6ce8\u610f\uff0c\u4e0a\u4f8b\u4e2d ``style=\"cc\"`` \u5e76\u6ca1\u6709\u6307\u660e\u7b26\u53f7\u5927\u5c0f\uff0c\n\u4ec5\u5305\u542b\u7b26\u53f7 ``c`` \uff08\u5706\u5f62\uff09\u548c\u5355\u4f4d ``c`` \uff08\u5398\u7c73\uff09\u3002\n\n\n\u90a3\u4e48\u5982\u4f55\u7528\u7b26\u53f7\u7684\u586b\u5145\u989c\u8272\u6765\u8868\u5f81\u53d1\u9707\u6df1\u5ea6\u5462\uff1f\u7b80\u5355\u6765\u8bf4\uff0c\n\u9996\u5148\u6839\u636e\u53d1\u9707\u6df1\u5ea6\u5229\u7528 :func:`pygmt.makecpt` \u521b\u5efa\u4e00\u4e2a\u8fde\u7eed\u7684\u989c\u8272\u8868\uff0c\n\u7136\u540e\u5728 :meth:`pygmt.Figure.plot` \u4e2d\u8bbe\u7f6e ``cmap=True`` \u4f7f\u7528\u989c\u8272\u6620\u5c04\u5373\u53ef\u3002\n\n\n"
      ]
    },
    {
      "cell_type": "code",
      "execution_count": null,
      "metadata": {
        "collapsed": false
      },
      "outputs": [],
      "source": [
        "fig = pygmt.Figure()\nfig.basemap(region=region, projection=\"M15c\", frame=True)\nfig.coast(land=\"black\", water=\"skyblue\")\n\n# \u5c06 data.depth_km \u7684\u6700\u5c0f\u503c\u548c\u6700\u5927\u503c\u8d4b\u4e88 series \u6307\u5b9a cpt \u6570\u503c\u8303\u56f4\n# \u4f7f\u7528 matplotlib \u7684 viridis \u989c\u8272\u8868\npygmt.makecpt(cmap=\"viridis\", series=[data.depth_km.min(), data.depth_km.max()])\n\nfig.plot(\n    x=data.longitude,\n    y=data.latitude,\n    sizes=0.02 * 2 ** data.magnitude,\n    color=data.depth_km,  # \u53d1\u9707\u6df1\u5ea6\u51b3\u5b9a\u586b\u5145\u989c\u8272\n    cmap=True,  # \u8bbe\u7f6e\u4e3a True \u8868\u793a\u4f7f\u7528 makecpt \u5236\u4f5c\u7684 cpt \u4f5c\u4e3a\u989c\u8272\u8868\n    style=\"cc\",\n    pen=\"1p,black\",\n)\n\n# \u7ed8\u5236 colorbar\nfig.colorbar(frame='af+l\"Depth (km)\"')\nfig.show()"
      ]
    }
  ],
  "metadata": {
    "kernelspec": {
      "display_name": "Python 3",
      "language": "python",
      "name": "python3"
    },
    "language_info": {
      "codemirror_mode": {
        "name": "ipython",
        "version": 3
      },
      "file_extension": ".py",
      "mimetype": "text/x-python",
      "name": "python",
      "nbconvert_exporter": "python",
      "pygments_lexer": "ipython3",
      "version": "3.8.0"
    }
  },
  "nbformat": 4,
  "nbformat_minor": 0
}