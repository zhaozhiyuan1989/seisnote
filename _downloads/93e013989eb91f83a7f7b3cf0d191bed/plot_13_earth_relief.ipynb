{
  "cells": [
    {
      "cell_type": "code",
      "execution_count": null,
      "metadata": {
        "collapsed": false
      },
      "outputs": [],
      "source": [
        "%matplotlib inline"
      ]
    },
    {
      "cell_type": "markdown",
      "metadata": {},
      "source": [
        "\n# \u7ed8\u5236\u5730\u5f62\n\n\u5229\u7528 :meth:`pygmt.Figure.grdimage` \u7ed8\u5236\u5730\u5f62\u3002\n\n<div class=\"alert alert-info\"><h4>Note</h4><p>\u53ef\u7ed3\u5408\u300a:doc:`gmtdoc:tutorial/earth-relief`\u300b\u548c\u300a:doc:`gmtdoc:dataset/earth-relief`\u300b\u5b66\u4e60\u3002</p></div>\n"
      ]
    },
    {
      "cell_type": "markdown",
      "metadata": {},
      "source": [
        "\u9996\u5148\u5229\u7528 :func:`pygmt.datasets.load_earth_relief` \u4ece GMT \u670d\u52a1\u5668\u8bfb\u53d6\u5730\u5f62\u6570\u636e\uff1a \n\n"
      ]
    },
    {
      "cell_type": "code",
      "execution_count": null,
      "metadata": {
        "collapsed": false
      },
      "outputs": [],
      "source": [
        "import pygmt\ngrid = pygmt.datasets.load_earth_relief(resolution=\"30m\")"
      ]
    },
    {
      "cell_type": "markdown",
      "metadata": {},
      "source": [
        "\u5229\u7528  :meth:`pygmt.Figure.grdimage` \u8bfb\u53d6\u7f51\u683c\u6587\u4ef6\u540e\u7ed8\u5236\u5730\u5f62\u56fe\uff0c\n\u9ed8\u8ba4\u91c7\u7528\u7b49\u8ddd\u5706\u67f1\u6295\u5f71\u548c turbo \u989c\u8272\u8868\u3002\n\n"
      ]
    },
    {
      "cell_type": "code",
      "execution_count": null,
      "metadata": {
        "collapsed": false
      },
      "outputs": [],
      "source": [
        "fig = pygmt.Figure()\nfig.grdimage(grid=grid)\nfig.show()"
      ]
    },
    {
      "cell_type": "markdown",
      "metadata": {},
      "source": [
        "\u53ef\u4ee5\u4fee\u6539\u6295\u5f71\u65b9\u5f0f\u548c\u989c\u8272\u8868\uff1a\n\n"
      ]
    },
    {
      "cell_type": "code",
      "execution_count": null,
      "metadata": {
        "collapsed": false
      },
      "outputs": [],
      "source": [
        "fig = pygmt.Figure()\nfig.grdimage(grid=grid, projection=\"R12c\", cmap=\"geo\")\nfig.show()"
      ]
    },
    {
      "cell_type": "markdown",
      "metadata": {},
      "source": [
        "\u6dfb\u52a0 colorbar\uff1a\n\n"
      ]
    },
    {
      "cell_type": "code",
      "execution_count": null,
      "metadata": {
        "collapsed": false
      },
      "outputs": [],
      "source": [
        "fig = pygmt.Figure()\nfig.grdimage(grid=grid, projection=\"R12c\", cmap=\"relief\")\nfig.colorbar(frame=[\"a2500\", \"x+lElevation\", \"y+lm\"])\nfig.show()"
      ]
    },
    {
      "cell_type": "markdown",
      "metadata": {},
      "source": [
        "\u7ed8\u5236\u5c40\u90e8\u533a\u57df\uff1a\n\n"
      ]
    },
    {
      "cell_type": "code",
      "execution_count": null,
      "metadata": {
        "collapsed": false
      },
      "outputs": [],
      "source": [
        "grid = pygmt.datasets.load_earth_relief(resolution=\"05m\", region=[-14, 30, 35, 60])\nfig = pygmt.Figure()\nfig.grdimage(grid=grid, projection=\"M15c\", frame=\"a\", cmap=\"geo\")\nfig.colorbar(frame=[\"a1000\", \"x+lElevation\", \"y+lm\"])\nfig.show()"
      ]
    }
  ],
  "metadata": {
    "kernelspec": {
      "display_name": "Python 3",
      "language": "python",
      "name": "python3"
    },
    "language_info": {
      "codemirror_mode": {
        "name": "ipython",
        "version": 3
      },
      "file_extension": ".py",
      "mimetype": "text/x-python",
      "name": "python",
      "nbconvert_exporter": "python",
      "pygments_lexer": "ipython3",
      "version": "3.8.0"
    }
  },
  "nbformat": 4,
  "nbformat_minor": 0
}