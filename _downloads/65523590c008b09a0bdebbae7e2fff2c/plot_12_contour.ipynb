{
  "cells": [
    {
      "cell_type": "code",
      "execution_count": null,
      "metadata": {
        "collapsed": false
      },
      "outputs": [],
      "source": [
        "%matplotlib inline"
      ]
    },
    {
      "cell_type": "markdown",
      "metadata": {},
      "source": [
        "\n# \u7ed8\u5236\u7b49\u9ad8\u7ebf\n\n\u5229\u7528 :meth:`pygmt.Figure.grdcontour` \u7ed8\u5236\u7b49\u9ad8\u7ebf\u3002\n"
      ]
    },
    {
      "cell_type": "markdown",
      "metadata": {},
      "source": [
        "## \u7ed8\u5236\u7b49\u9ad8\u7ebf\n\n\u9996\u5148\u5229\u7528 :func:`pygmt.datasets.load_earth_relief` \u4ece GMT \u670d\u52a1\u5668\u8bfb\u53d6\u5730\u5f62\u6570\u636e\uff1a\n\n"
      ]
    },
    {
      "cell_type": "code",
      "execution_count": null,
      "metadata": {
        "collapsed": false
      },
      "outputs": [],
      "source": [
        "import pygmt\ngrid = pygmt.datasets.load_earth_relief(resolution=\"05m\", region=[-92.5, -82.5, -3, 7])"
      ]
    },
    {
      "cell_type": "markdown",
      "metadata": {},
      "source": [
        ":meth:`pygmt.Figure.grdcontour` \u8bfb\u53d6\u7f51\u683c\u6587\u4ef6\u540e\uff0c\u4f1a\u540c\u65f6\u7ed8\u5236\u6709\u6807\u6ce8\u7684\u7b49\u9ad8\u7ebf\u548c\u65e0\u6807\u6ce8\u7684\n\u7b49\u9ad8\u7ebf\u3002\u5728\u4e0b\u4f8b\u4e2d\uff0c\u7b49\u9ad8\u7ebf\u95f4\u8ddd\u4e3a 500m\uff0c\u6bcf 1000m \u8fdb\u884c\u6ce8\u91ca\uff0c\u9ed8\u8ba4\u91c7\u7528\u7b49\u8ddd\u5706\u67f1\u6295\u5f71\uff1a\n\n"
      ]
    },
    {
      "cell_type": "code",
      "execution_count": null,
      "metadata": {
        "collapsed": false
      },
      "outputs": [],
      "source": [
        "fig = pygmt.Figure()\nfig.grdcontour(grid=grid)  # \u5730\u5f62\u7f51\u683c\u6587\u4ef6\nfig.show()"
      ]
    },
    {
      "cell_type": "markdown",
      "metadata": {},
      "source": [
        "## \u8bbe\u7f6e\u7b49\u9ad8\u7ebf\n\n"
      ]
    },
    {
      "cell_type": "code",
      "execution_count": null,
      "metadata": {
        "collapsed": false
      },
      "outputs": [],
      "source": [
        "fig = pygmt.Figure()\nfig.grdcontour(\n    annotation=1000,  # \u7b49\u9ad8\u7ebf\u6807\u6ce8\u95f4\u9694\n    interval=250,  # \u7b49\u9ad8\u7ebf\u7ed8\u5236\u95f4\u9694 \n    grid=grid,\n    limit=[-4000, -2000],  # \u7b49\u9ad8\u7ebf\u7ed8\u5236\u533a\u95f4\n    projection=\"M10c\",  # \u8bbe\u7f6e\u6295\u5f71\u65b9\u5f0f\n    frame=True,  # \u663e\u793a\u8fb9\u6846\n)\nfig.show()"
      ]
    },
    {
      "cell_type": "markdown",
      "metadata": {},
      "source": [
        "## \u6dfb\u52a0\u5730\u5f62\u5f69\u56fe\n\n:meth:`pygmt.Figure.grdimage` \u53ef\u4ee5\u4e3a :meth:`pygmt.Figure.grdcontour` \u6dfb\u52a0\u5730\u5f62\u5f69\u56fe\uff0c\n\u5b66\u4e60\u300a:doc:`gmtdoc:tutorial/layers`\u300b\u540e\u53ef\u4ee5\u77e5\u9053\u5fc5\u987b\u5148\u7ed8\u5236\u5730\u5f62\u5f69\u56fe\uff0c\u518d\u7ed8\u5236\u7b49\u9ad8\u7ebf\u3002\n\n"
      ]
    },
    {
      "cell_type": "code",
      "execution_count": null,
      "metadata": {
        "collapsed": false
      },
      "outputs": [],
      "source": [
        "fig = pygmt.Figure()\nfig.grdimage(\n    grid=grid,\n    cmap=\"haxby\",\n    projection=\"M10c\",\n    frame=True,\n)\nfig.grdcontour(\n    annotation=1000,\n    interval=250,\n    grid=grid,\n    limit=[-4000, -2000],\n)\nfig.show()"
      ]
    }
  ],
  "metadata": {
    "kernelspec": {
      "display_name": "Python 3",
      "language": "python",
      "name": "python3"
    },
    "language_info": {
      "codemirror_mode": {
        "name": "ipython",
        "version": 3
      },
      "file_extension": ".py",
      "mimetype": "text/x-python",
      "name": "python",
      "nbconvert_exporter": "python",
      "pygments_lexer": "ipython3",
      "version": "3.8.0"
    }
  },
  "nbformat": 4,
  "nbformat_minor": 0
}