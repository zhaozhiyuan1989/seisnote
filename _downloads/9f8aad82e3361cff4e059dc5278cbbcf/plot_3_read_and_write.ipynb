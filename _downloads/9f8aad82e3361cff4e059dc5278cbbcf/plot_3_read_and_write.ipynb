{
  "cells": [
    {
      "cell_type": "code",
      "execution_count": null,
      "metadata": {
        "collapsed": false
      },
      "outputs": [],
      "source": [
        "%matplotlib inline"
      ]
    },
    {
      "cell_type": "markdown",
      "metadata": {},
      "source": [
        "\n# \u8bfb\u5199\u5730\u9707\u6570\u636e\n\n\u672c\u8282\u7b80\u5355\u4ecb\u7ecd\u5982\u4f55\u5229\u7528 ObsPy \u8bfb\u5199\u5730\u9707\u6ce2\u5f62\u6570\u636e\u3001\u5730\u9707\u76ee\u5f55\u548c\u5143\u6570\u636e\u3002\n"
      ]
    },
    {
      "cell_type": "code",
      "execution_count": null,
      "metadata": {
        "collapsed": false
      },
      "outputs": [],
      "source": [
        "import glob\nimport obspy"
      ]
    },
    {
      "cell_type": "markdown",
      "metadata": {},
      "source": [
        "## \u8bfb\u5199\u6ce2\u5f62\u6570\u636e\n\nObsPy \u5229\u7528 :func:`read() <obspy.core.stream.read>` \u51fd\u6570\u5c06\u5404\u79cd\u683c\u5f0f\u7684\n\u5730\u9707\u6570\u636e\uff08\u5982 SAC\u3001MiniSEED \u7b49\uff09\u8bfb\u5165 :class:`Stream <obspy.core.stream.Stream>` \u4e2d\u3002\n\n:class:`Stream <obspy.core.stream.Stream>` \u7c7b\u4f3c\u4e8e\u5217\u8868\u5bf9\u8c61\uff0c\u53ef\u4ee5\u5305\u542b\u591a\u4e2a\n:class:`Trace <obspy.core.trace.Trace>`\u3002\n\n\u6bcf\u4e2a :class:`Trace <obspy.core.trace.Trace>` \u90fd\u5305\u542b\u6307\u5411\u8fde\u7eed\u65f6\u95f4\u5e8f\u5217\u7684 ``data``\n\u5c5e\u6027\u548c\u6307\u5411\u6240\u6709\u5143\u6570\u636e\u7684 ``stats`` \u5c5e\u6027\u3002\u4f8b\u5982\uff0c``starttime`` \u548c ``endtime`` \u7b49\n\u5143\u6570\u636e\u90fd\u4ee5\u5b57\u5178\u5f62\u5f0f\u50a8\u5b58\u5728 :class:`Stats <obspy.core.trace.Stats>` \u5bf9\u8c61\u4e2d\u3002 \n\n\u7ecf\u8fc7\u5904\u7406\u540e\uff0c\u53ef\u4ee5\u7528 :meth:`write() <obspy.core.stream.Stream.write>` \u65b9\u6cd5\u5c06\u6570\u636e\u4fdd\u5b58\u5230\u672c\u5730\u3002\n\n\u4e0b\u9762\u4e3e\u4f8b\u8bf4\u660e\uff1a\n\n**\u4ece\u670d\u52a1\u5668\u8bfb\u53d6\u6ce2\u5f62\u6570\u636e\u5e76\u5199\u5165\u5230\u672c\u5730\u6587\u4ef6**\n\n"
      ]
    },
    {
      "cell_type": "code",
      "execution_count": null,
      "metadata": {
        "collapsed": false
      },
      "outputs": [],
      "source": [
        "tr = obspy.read()  # \u4ece\u670d\u52a1\u5668\u8bfb\u53d6\u6ce2\u5f62\u6570\u636e\u793a\u4f8b\u6587\u4ef6\u5230 Stream \u5bf9\u8c61\u4e2d\nprint(tr)  # \u6253\u5370 Stream \u5bf9\u8c61\u4fe1\u606f\ntr.write(\"test.mseed\")  # \u5c06\u6ce2\u5f62\u6570\u636e\u4fdd\u5b58\u5230\u672c\u5730\uff0c\u53ef\u901a\u8fc7\u540e\u7f00\u540d\u786e\u5b9a\u6587\u4ef6\u7c7b\u578b"
      ]
    },
    {
      "cell_type": "markdown",
      "metadata": {},
      "source": [
        "**\u4ece\u672c\u5730\u8bfb\u53d6\u5730\u9707\u6ce2\u5f62\u6570\u636e\u5e76\u8f6c\u6362\u683c\u5f0f\u5b58\u50a8\u5230\u672c\u5730**\n\n"
      ]
    },
    {
      "cell_type": "code",
      "execution_count": null,
      "metadata": {
        "collapsed": false
      },
      "outputs": [],
      "source": [
        "for file in glob.glob('*.sac'):  # \u904d\u5386\u5f53\u524d\u76ee\u5f55\u4e2d\u4ee5 \".sac\" \u7ed3\u5c3e\u7684\u6587\u4ef6\n    st = obspy.read(file)  # \u5c06\u6570\u636e\u8bfb\u53d6\u5230\u4ee5 st \u547d\u540d\u7684 Stream \u5bf9\u8c61\u4e2d\n    tr = st[0]  # \u628a Stream \u5bf9\u8c61\u4e2d\u7684\u7b2c\u4e00\u4e2a Trace \u8d4b\u4e88\u53d8\u91cf tr\n    # \u6253\u5370\u5934\u6bb5\u53d8\u91cf\u548c\u7ecf\u8fc7\u5904\u7406\u7684\u6ce2\u5f62\u6570\u636e\n    msg = \"%s %s %f %f\" % (tr.stats.station, str(tr.stats.starttime),tr.data.mean(), tr.data.std())  \n    print(msg)\n    print(tr.stats)  # \u6253\u5370\u5143\u6570\u636e\n  # tr.write(file+\".mseed\", format=\"mseed\")  # \u4ee5 mseed \u683c\u5f0f\u5b58\u50a8\u81f3\u672c\u5730\n    print(\"===================================================\\n\")"
      ]
    },
    {
      "cell_type": "markdown",
      "metadata": {},
      "source": [
        "## \u8bfb\u5199\u5730\u9707\u76ee\u5f55\n\n\u5229\u7528 :func:`read_events() <obspy.core.event.catalog.read_events>` \u51fd\u6570\n\u8bfb\u53d6\u5730\u9707\u76ee\u5f55\u5230 :class:`Catalog <obspy.core.event.Catalog>` \u5bf9\u8c61\uff0c\n\u7136\u540e\u901a\u8fc7 :meth:`write() <obspy.core.event.Catalog.write>` \u65b9\u6cd5\u4fdd\u5b58\u5230\u672c\u5730\u3002\n\n"
      ]
    },
    {
      "cell_type": "code",
      "execution_count": null,
      "metadata": {
        "collapsed": false
      },
      "outputs": [],
      "source": [
        "cat = obspy.read_events()  # \u4ece\u670d\u52a1\u5668\u8bfb\u53d6\u5730\u9707\u76ee\u5f55\u793a\u4f8b\u6587\u4ef6\nprint(cat)  # \u6253\u5370\u5730\u9707\u76ee\u5f55\u4fe1\u606f\ncat.write('events', format='kml')  # \u4ee5 kml\u683c\u5f0f\u5b58\u50a8\u81f3\u672c\u5730"
      ]
    },
    {
      "cell_type": "markdown",
      "metadata": {},
      "source": [
        "## \u8bfb\u5199\u5143\u6570\u636e\n\n\u53ef\u4ee5\u901a\u8fc7 :func:`read_inventory() <obspy.core.inventory.inventory.read_inventory>` \u51fd\u6570\n\u8bfb\u53d6\u5143\u6570\u636e\u5230 :class:`Inventory <obspy.core.inventory.inventory.Inventory>` \u5bf9\u8c61\uff0c\n\u7136\u540e\u5229\u7528 :meth:`write() <obspy.core.inventory.inventory.Inventory.write>` \u65b9\u6cd5\n\u5c06\u5143\u6570\u636e\u4fdd\u5b58\u5230\u672c\u5730\u3002\n\n"
      ]
    },
    {
      "cell_type": "code",
      "execution_count": null,
      "metadata": {
        "collapsed": false
      },
      "outputs": [],
      "source": [
        "inv = obspy.read_inventory()  # \u4ece\u670d\u52a1\u5668\u8bfb\u53d6\u5143\u6570\u636e\u793a\u4f8b\u6587\u4ef6\nprint(inv)  # \u6253\u5370\u5143\u6570\u636e\u4fe1\u606f\ninv.write('inv.pz', format='sacpz')  # \u4ee5 pz \u683c\u5f0f\u5b58\u50a8\u81f3\u672c\u5730"
      ]
    },
    {
      "cell_type": "markdown",
      "metadata": {},
      "source": [
        "\u5220\u9664\u4e34\u65f6\u6587\u4ef6\n\n"
      ]
    },
    {
      "cell_type": "code",
      "execution_count": null,
      "metadata": {
        "collapsed": false
      },
      "outputs": [],
      "source": [
        "import os\nos.remove(\"test.mseed\")\nos.remove(\"events.kml\")\nos.remove(\"inv.pz\")"
      ]
    }
  ],
  "metadata": {
    "kernelspec": {
      "display_name": "Python 3",
      "language": "python",
      "name": "python3"
    },
    "language_info": {
      "codemirror_mode": {
        "name": "ipython",
        "version": 3
      },
      "file_extension": ".py",
      "mimetype": "text/x-python",
      "name": "python",
      "nbconvert_exporter": "python",
      "pygments_lexer": "ipython3",
      "version": "3.8.0"
    }
  },
  "nbformat": 4,
  "nbformat_minor": 0
}